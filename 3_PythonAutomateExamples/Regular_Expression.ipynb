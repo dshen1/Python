{
 "cells": [
  {
   "cell_type": "markdown",
   "metadata": {},
   "source": [
    "## Regular expressions"
   ]
  },
  {
   "cell_type": "code",
   "execution_count": 14,
   "metadata": {
    "collapsed": true
   },
   "outputs": [
    {
     "name": "stdout",
     "output_type": "stream",
     "text": [
      "Number found = 415-555-1001\n",
      "list of number fund = ['415-555-1001', '310-967-9374']\n",
      "Area code = 415\n",
      "Rest of the number = 555-1001\n",
      "number found = (234)-194-9473\n"
     ]
    }
   ],
   "source": [
    "## basics\n",
    "\n",
    "import re \n",
    "\n",
    "message = 'Call me 415-555-1001 tomorrow.'\n",
    "message2 = 'Call me 415-555-1001 tomorrow.or 310-967-9374'\n",
    "phoneNumRegex = re.compile(r'\\d\\d\\d-\\d\\d\\d-\\d\\d\\d\\d') #seasrch for patten of a phone number\n",
    "mo = phoneNumRegex.search(message) #find one matching number\n",
    "mo2 = phoneNumRegex.findall(message2) #find all matching number \n",
    "print 'Number found = ' + mo.group() #print out the search result \n",
    "print 'list of number fund = ' + str(mo2) # print a list of results\n",
    "\n",
    "# some other variations - group part of the patten \n",
    "phoneNumRegex = re.compile(r'(\\d\\d\\d)-(\\d\\d\\d-\\d\\d\\d\\d)') # put part of patten into groups\n",
    "mo = phoneNumRegex.search(message)\n",
    "print 'Area code = ' + mo.group(1)\n",
    "print 'Rest of the number = '+ mo.group(2)\n",
    "\n",
    "# if we are looking for actually \"(\"\n",
    "phoneNumRegex = re.compile(r'\\(\\d\\d\\d\\)-\\d\\d\\d-\\d\\d\\d\\d')\n",
    "mo = phoneNumRegex.search('My number is (234)-194-9473')\n",
    "print 'Number found = '+ str(mo.group())"
   ]
  },
  {
   "cell_type": "markdown",
   "metadata": {},
   "source": [
    "## Characters classes"
   ]
  },
  {
   "cell_type": "code",
   "execution_count": 44,
   "metadata": {
    "collapsed": false
   },
   "outputs": [
    {
     "data": {
      "text/plain": [
       "['12 somestring', '2 somestring', '34 some', '345 antoher', '564 watever']"
      ]
     },
     "execution_count": 44,
     "metadata": {},
     "output_type": "execute_result"
    }
   ],
   "source": [
    "# \\d any numeric dict\n",
    "#\\D everything else that is not numeric digit\n",
    "#\\w ANy letter, numeric digit or the underscore\n",
    "#\\W Anything that is not letter, numeric dit, or underscore\n",
    "#\\s Any space or newline character\n",
    "#\\S Any thing that is not a space,tab,or newline\n",
    "\n",
    "\n",
    "## examples \n",
    "import re \n",
    "\n",
    "xmaxRegex = re.compile(r'\\d+\\s\\w+') # at leaset one number, then a space, then some string\n",
    "sample = '12 somestring 2 somestring 34 some thing 345 antoher thing 564 watever.'\n",
    "mo = xmaxRegex.findall(sample) # find all occurance of that pattern \n",
    "print mo"
   ]
  },
  {
   "cell_type": "markdown",
   "metadata": {},
   "source": [
    "## Customised charactor class"
   ]
  },
  {
   "cell_type": "code",
   "execution_count": 60,
   "metadata": {
    "collapsed": false
   },
   "outputs": [
    {
     "name": "stdout",
     "output_type": "stream",
     "text": [
      "['o', 'o', 'o', 'e', 'a', 'a', 'o', 'o']\n",
      "['R', 'b', 'c', 'p', ' ', 't', 's', ' ', 'b', 'b', 'y', ' ', 'f', 'd', '.']\n",
      "['o', 'o', 'o', 'e', 'a', 'a', 'o', 'o']\n",
      "['Hello']\n",
      "['world!']\n",
      "['9128748725443']\n",
      "['cat', 'sat', 'lat', 'mat']\n",
      "[' cat', ' sat', 'flat', ' mat']\n",
      "[('AL', 'Sweigart')]\n",
      "['To serve humans']\n",
      "['<To serve humans> for dinner.>', '']\n"
     ]
    }
   ],
   "source": [
    "## own class use []\n",
    "ownRegex = re.compile(r'[aeiouAEIOU]')\n",
    "print ownRegex.findall('Robocop eats baby food.')\n",
    "\n",
    "# case insentitive match, re.Ignore\n",
    "ownRegex = re.compile(r'[aeiou]',re.I)\n",
    "print ownRegex.findall('Robocop eats baby food.')\n",
    "\n",
    "## use ^ for the opposit \n",
    "ownRegex = re.compile(r'[^aeiouAEIOU]')\n",
    "print ownRegex.findall('Robocop eats baby food.')\n",
    "\n",
    "\n",
    "## use ^ to find Hello, and it is in the brgaining\n",
    "helloRegex = re.compile(r'^Hello')\n",
    "print helloRegex.findall('Hello there. How are you?')\n",
    "\n",
    "## use $ fo find world, and it is in the end of the string \n",
    "worldRegex = re.compile(r'world!$')\n",
    "print worldRegex.findall('Hello world!')\n",
    "\n",
    "# another example \n",
    "alldigitRegex = re.compile(r'^\\d+$') #start and end is digit, so all digits\n",
    "print alldigitRegex.findall('9128748725443')\n",
    "\n",
    "# use . , stands for anything other than new line, but does not include spaces \n",
    "atRegex = re.compile(r'.at')\n",
    "print atRegex.findall('The cat in the har sat on the flat mat.')\n",
    "\n",
    "# use .{1,4} find 1 to 4 characters before something, it includes spaces \n",
    "atRegex = re.compile(r'.{1,2}at')\n",
    "print atRegex.findall('The cat in the har sat on the flat mat.')\n",
    "\n",
    "# use .* to mean anything \n",
    "nameRegex = re.compile(r'First Name: (.*) Last Name: (.*)') # only return values in the group\n",
    "print nameRegex.findall('First Name: AL Last Name: Sweigart')\n",
    "\n",
    "# use .*? for nongreddy match\n",
    "serve = '<To serve humans> for dinner.>'\n",
    "nongreddy = re.compile(r'<(.*?)>')\n",
    "print nongreddy.findall(serve)\n",
    "\n",
    "# truely wildcard .*,re.DOTALL\n",
    "dotStar = re.compile(r'.*',re.DOTALL)\n",
    "print dotStar.findall(serve)\n",
    "\n"
   ]
  },
  {
   "cell_type": "markdown",
   "metadata": {},
   "source": [
    "## Match prefixes"
   ]
  },
  {
   "cell_type": "code",
   "execution_count": 16,
   "metadata": {
    "collapsed": true
   },
   "outputs": [
    {
     "name": "stdout",
     "output_type": "stream",
     "text": [
      "Prefix found = Batmobil\n"
     ]
    }
   ],
   "source": [
    "## match prefixes \n",
    "\n",
    "import re \n",
    "batRegex = re.compile(r'Bat(man|mobil|copter|bat)')\n",
    "mo = batRegex.search('Batmobil lost a wheel')\n",
    "print 'Prefix found = ' + mo.group()\n"
   ]
  },
  {
   "cell_type": "markdown",
   "metadata": {},
   "source": [
    "## Match a specific number of repitations"
   ]
  },
  {
   "cell_type": "code",
   "execution_count": 35,
   "metadata": {
    "collapsed": true
   },
   "outputs": [
    {
     "name": "stdout",
     "output_type": "stream",
     "text": [
      "Phone number found = 555-2342\n",
      "Match string = batwowowowowoman\n",
      "Found repated ha = HaHaHa\n",
      "Longest possible number matcehd = 12345\n"
     ]
    }
   ],
   "source": [
    "## match a specific number of repitations \n",
    "\n",
    "import re\n",
    "\n",
    "phoneNumRegex = re.compile(r'(\\\\d\\d\\d\\-)?\\d\\d\\d-\\d\\d\\d\\d') # with a ()?, make it optional \n",
    "mo = phoneNumRegex.search('My number is 555-2342. Call me tomorrow') \n",
    "print 'Phone number found = ' + mo.group()\n",
    "\n",
    "\n",
    "## optional content with 0 or more repetitions with *  ; + sign means require at least once\n",
    "batRegex = re.compile(r'bat(wo)*man') # wo appears 0 ore more times\n",
    "mo = batRegex.search(\"Let's go wathch batwowowowowoman.\" )\n",
    "print 'Match string = ' + mo.group()\n",
    "\n",
    "\n",
    "## match patten exactly 3 times, use {}\n",
    "haRegex = re.compile(r'(Ha){3,5}')  # repet 3 to 5 times\n",
    "mo = haRegex.search('He said HaHaHa')\n",
    "print 'Found repated ha = ' + mo.group()\n",
    "\n",
    "## match certer digets of numbers \n",
    "digitRegex = re.compile(r'(\\d){3,5}')\n",
    "mo = digitRegex.search('1234556')\n",
    "print 'Longest possible number matcehd = ' + mo.group()"
   ]
  },
  {
   "cell_type": "markdown",
   "metadata": {},
   "source": [
    "## Find and replace "
   ]
  },
  {
   "cell_type": "code",
   "execution_count": 72,
   "metadata": {
    "collapsed": false
   },
   "outputs": [
    {
     "name": "stdout",
     "output_type": "stream",
     "text": [
      "['Agent Alice', 'Agent Bob']\n",
      "REDACTED gave the secret documents to REDACTED.\n",
      "['A', 'B']\n",
      "Agent A***** gave the secret documents to Agent B*****.\n"
     ]
    }
   ],
   "source": [
    "# find and replace , use sub()\n",
    "import re\n",
    "namesRegex = re.compile(r'Agent \\w+')\n",
    "print namesRegex.findall('Agent Alice gave the secret documents to Agent Bob.')\n",
    "print namesRegex.sub('REDACTED', 'Agent Alice gave the secret documents to Agent Bob.')\n",
    "\n",
    "# replace with the first letter \n",
    "namesRegex = re.compile(r'Agent (\\w)\\w+') #only return value in ()\n",
    "print namesRegex.findall('Agent Alice gave the secret documents to Agent Bob.')\n",
    "print namesRegex.sub(r'Agent \\1*****', 'Agent Alice gave the secret documents to Agent Bob.')"
   ]
  },
  {
   "cell_type": "markdown",
   "metadata": {},
   "source": [
    "## Second Arguemnt in compile"
   ]
  },
  {
   "cell_type": "code",
   "execution_count": 74,
   "metadata": {
    "collapsed": false
   },
   "outputs": [
    {
     "data": {
      "text/plain": [
       "['310-480-9511']"
      ]
     },
     "execution_count": 74,
     "metadata": {},
     "output_type": "execute_result"
    }
   ],
   "source": [
    "# Verbose mode\n",
    "\n",
    "vRegex= re.compile(r'''\n",
    "\\d\\d\\d   # area code\n",
    "-        # first dash\n",
    "\\d\\d\\d   # first 3 digits\n",
    "-        # second dash\n",
    "\\d\\d\\d\\d # last 4 digits  \n",
    "''',re.VERBOSE)\n",
    "print vRegex.findall('My number is 310-480-9511')\n",
    "\n",
    "# multiple second argument \n",
    "vRegex= re.compile(r'''\n",
    "\\d\\d\\d   # area code\n",
    "-        # first dash\n",
    "\\d\\d\\d   # first 3 digits\n",
    "-        # second dash\n",
    "\\d\\d\\d\\d # last 4 digits  \n",
    "''',re.VERBOSE|re.I|re.DOTALL)\n",
    "print vRegex.findall('My number is 310-480-9511') "
   ]
  }
 ],
 "metadata": {
  "kernelspec": {
   "display_name": "Python 2",
   "language": "python",
   "name": "python2"
  },
  "language_info": {
   "codemirror_mode": {
    "name": "ipython",
    "version": 2
   },
   "file_extension": ".py",
   "mimetype": "text/x-python",
   "name": "python",
   "nbconvert_exporter": "python",
   "pygments_lexer": "ipython2",
   "version": "2.7.12"
  }
 },
 "nbformat": 4,
 "nbformat_minor": 0
}
