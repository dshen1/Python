{
 "cells": [
  {
   "cell_type": "code",
   "execution_count": 1,
   "metadata": {
    "collapsed": true
   },
   "outputs": [],
   "source": [
    "## import all the modules need to be used\n",
    "import statsmodels \n",
    "import statsmodels.tsa.stattools as tsa\n",
    "import statsmodels.api as sm\n",
    "import pandas as pd\n",
    "import numpy as np\n",
    "import matplotlib.pyplot as plt\n",
    "import matplotlib\n",
    "matplotlib.style.use('ggplot')\n",
    "%matplotlib inline\n",
    "import matplotlib.pylab\n",
    "from matplotlib.pylab import rcParams\n",
    "rcParams['figure.figsize'] = 15, 6"
   ]
  },
  {
   "cell_type": "code",
   "execution_count": 8,
   "metadata": {
    "collapsed": false
   },
   "outputs": [
    {
     "data": {
      "text/html": [
       "<div>\n",
       "<table border=\"1\" class=\"dataframe\">\n",
       "  <thead>\n",
       "    <tr style=\"text-align: right;\">\n",
       "      <th></th>\n",
       "      <th>et</th>\n",
       "      <th>time</th>\n",
       "    </tr>\n",
       "    <tr>\n",
       "      <th>time</th>\n",
       "      <th></th>\n",
       "      <th></th>\n",
       "    </tr>\n",
       "  </thead>\n",
       "  <tbody>\n",
       "    <tr>\n",
       "      <th>2016-04-30</th>\n",
       "      <td>0.270511</td>\n",
       "      <td>2016-04-30</td>\n",
       "    </tr>\n",
       "    <tr>\n",
       "      <th>2016-05-31</th>\n",
       "      <td>1.085598</td>\n",
       "      <td>2016-05-31</td>\n",
       "    </tr>\n",
       "    <tr>\n",
       "      <th>2016-06-30</th>\n",
       "      <td>-0.215744</td>\n",
       "      <td>2016-06-30</td>\n",
       "    </tr>\n",
       "    <tr>\n",
       "      <th>2016-07-31</th>\n",
       "      <td>1.548660</td>\n",
       "      <td>2016-07-31</td>\n",
       "    </tr>\n",
       "    <tr>\n",
       "      <th>2016-08-31</th>\n",
       "      <td>1.290418</td>\n",
       "      <td>2016-08-31</td>\n",
       "    </tr>\n",
       "  </tbody>\n",
       "</table>\n",
       "</div>"
      ],
      "text/plain": [
       "                  et       time\n",
       "time                           \n",
       "2016-04-30  0.270511 2016-04-30\n",
       "2016-05-31  1.085598 2016-05-31\n",
       "2016-06-30 -0.215744 2016-06-30\n",
       "2016-07-31  1.548660 2016-07-31\n",
       "2016-08-31  1.290418 2016-08-31"
      ]
     },
     "execution_count": 8,
     "metadata": {},
     "output_type": "execute_result"
    }
   ],
   "source": [
    "et = pd.read_csv('data/module3_data_Identifying_ARMA.csv')\n",
    "time = pd.date_range('1/9/1975',periods=500,freq='M')\n",
    "et['time'] = time \n",
    "et.index = et.time\n",
    "et.tail()"
   ]
  },
  {
   "cell_type": "code",
   "execution_count": 11,
   "metadata": {
    "collapsed": false
   },
   "outputs": [
    {
     "name": "stdout",
     "output_type": "stream",
     "text": [
      "                              ARMA Model Results                              \n",
      "==============================================================================\n",
      "Dep. Variable:                     et   No. Observations:                  500\n",
      "Model:                     ARMA(1, 0)   Log Likelihood                -699.747\n",
      "Method:                       css-mle   S.D. of innovations              0.981\n",
      "Date:                Fri, 30 Sep 2016   AIC                           1405.493\n",
      "Time:                        17:40:48   BIC                           1418.137\n",
      "Sample:                    01-31-1975   HQIC                          1410.455\n",
      "                         - 08-31-2016                                         \n",
      "==============================================================================\n",
      "                 coef    std err          z      P>|z|      [95.0% Conf. Int.]\n",
      "------------------------------------------------------------------------------\n",
      "const         -0.0285      0.045     -0.633      0.527        -0.117     0.060\n",
      "ar.L1.et       0.0237      0.045      0.529      0.597        -0.064     0.112\n",
      "                                    Roots                                    \n",
      "=============================================================================\n",
      "                 Real           Imaginary           Modulus         Frequency\n",
      "-----------------------------------------------------------------------------\n",
      "AR.1           42.1918           +0.0000j           42.1918            0.0000\n",
      "-----------------------------------------------------------------------------\n"
     ]
    }
   ],
   "source": [
    "ar1_model = tsa.ARMA(et.et,(1,0))\n",
    "ar1_result = ar1_model.fit() \n",
    "print ar1_result.summary()"
   ]
  },
  {
   "cell_type": "code",
   "execution_count": null,
   "metadata": {
    "collapsed": true
   },
   "outputs": [],
   "source": []
  }
 ],
 "metadata": {
  "kernelspec": {
   "display_name": "Python 2",
   "language": "python",
   "name": "python2"
  },
  "language_info": {
   "codemirror_mode": {
    "name": "ipython",
    "version": 2
   },
   "file_extension": ".py",
   "mimetype": "text/x-python",
   "name": "python",
   "nbconvert_exporter": "python",
   "pygments_lexer": "ipython2",
   "version": "2.7.12"
  }
 },
 "nbformat": 4,
 "nbformat_minor": 0
}
