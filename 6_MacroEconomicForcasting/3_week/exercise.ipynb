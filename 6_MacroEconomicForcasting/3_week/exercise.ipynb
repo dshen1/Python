{
 "cells": [
  {
   "cell_type": "code",
   "execution_count": 2,
   "metadata": {
    "collapsed": true
   },
   "outputs": [],
   "source": [
    "import statsmodels.tsa.stattools as tsa\n",
    "import statsmodels.api as sm\n",
    "import pandas as pd\n",
    "import numpy as np\n",
    "import matplotlib.pylab as plt\n",
    "%matplotlib inline\n",
    "from matplotlib.pylab import rcParams\n",
    "rcParams['figure.figsize'] = 15, 6"
   ]
  },
  {
   "cell_type": "markdown",
   "metadata": {},
   "source": [
    "## 1. Work on some simulated data"
   ]
  },
  {
   "cell_type": "code",
   "execution_count": 10,
   "metadata": {
    "collapsed": true
   },
   "outputs": [
    {
     "name": "stdout",
     "output_type": "stream",
     "text": [
      "dateid01     object\n",
      "dateid       object\n",
      "y           float64\n",
      "z           float64\n",
      "dtype: object\n"
     ]
    }
   ],
   "source": [
    "# load data \n",
    "df = pd.read_csv('../data/module3_data_Simulated_ARMA.csv')\n",
    "print df.dtypes"
   ]
  },
  {
   "cell_type": "code",
   "execution_count": 11,
   "metadata": {
    "collapsed": true
   },
   "outputs": [
    {
     "data": {
      "text/plain": [
       "dateid01            object\n",
       "dateid              object\n",
       "y                  float64\n",
       "z                  float64\n",
       "time        datetime64[ns]\n",
       "dtype: object"
      ]
     },
     "execution_count": 11,
     "metadata": {},
     "output_type": "execute_result"
    }
   ],
   "source": [
    "## index our time series index, like tsset in stata\n",
    "df['time'] = pd.to_datetime(df.dateid01)\n",
    "df.index = df.time\n",
    "df.dtypes\n",
    "\n",
    "## or we can use something like this if date string is not formated correctly\n",
    "# dateparse = lambda dates: pd.datetime.strptime(dates, '%Y-%m')\n",
    "# data[\"t_month\"] = data[\"Month\"].apply(dateparse)"
   ]
  },
  {
   "cell_type": "code",
   "execution_count": 12,
   "metadata": {
    "collapsed": true
   },
   "outputs": [
    {
     "data": {
      "image/png": "[encoded data removed]",
      "text/plain": [
       "<matplotlib.figure.Figure at 0x7f626d505a10>"
      ]
     },
     "metadata": {},
     "output_type": "display_data"
    },
    {
     "data": {
      "image/png": "[encoded data removed]",
      "text/plain": [
       "<matplotlib.figure.Figure at 0x7f626d505790>"
      ]
     },
     "metadata": {},
     "output_type": "display_data"
    }
   ],
   "source": [
    "acf = sm.graphics.tsa.plot_acf(df.y,lags = 20)\n",
    "pacf = sm.graphics.tsa.plot_pacf(df.y,lags = 20)\n",
    "## looks very much like ar1 "
   ]
  },
  {
   "cell_type": "code",
   "execution_count": 21,
   "metadata": {
    "collapsed": true
   },
   "outputs": [
    {
     "name": "stdout",
     "output_type": "stream",
     "text": [
      "                              ARMA Model Results                              \n",
      "==============================================================================\n",
      "Dep. Variable:                      y   No. Observations:                 1382\n",
      "Model:                     ARMA(1, 0)   Log Likelihood               -2133.221\n",
      "Method:                       css-mle   S.D. of innovations              1.132\n",
      "Date:                Wed, 28 Sep 2016   AIC                           4272.442\n",
      "Time:                        19:48:23   BIC                           4288.135\n",
      "Sample:                    01-01-1900   HQIC                          4278.312\n",
      "                         - 02-01-2015                                         \n",
      "==============================================================================\n",
      "                 coef    std err          z      P>|z|      [95.0% Conf. Int.]\n",
      "------------------------------------------------------------------------------\n",
      "const          0.0711      0.158      0.449      0.654        -0.239     0.382\n",
      "ar.L1.y        0.8083      0.016     51.159      0.000         0.777     0.839\n",
      "                                    Roots                                    \n",
      "=============================================================================\n",
      "                 Real           Imaginary           Modulus         Frequency\n",
      "-----------------------------------------------------------------------------\n",
      "AR.1            1.2371           +0.0000j            1.2371            0.0000\n",
      "-----------------------------------------------------------------------------\n"
     ]
    }
   ],
   "source": [
    "## take a look at the model results with AR1 \n",
    "ar1_model = tsa.ARMA(df.y,(1,0))\n",
    "ar1_result = ar1_model.fit() \n",
    "print ar1_result.summary()"
   ]
  },
  {
   "cell_type": "code",
   "execution_count": 22,
   "metadata": {
    "collapsed": true
   },
   "outputs": [
    {
     "name": "stdout",
     "output_type": "stream",
     "text": [
      "            acf                                 confint    qstat      pvalues\n",
      "0             1                              [1.0, 1.0]  222.009  3.29792e-50\n",
      "1      0.400368        [0.400368393729, 0.400368393729]  222.897  3.96798e-49\n",
      "2    -0.0253134      [-0.025313375037, -0.025313375037]  297.231  3.95386e-64\n",
      "3     -0.231502      [-0.231501984396, -0.231501984396]  382.954  1.33993e-81\n",
      "4     -0.248513      [-0.248513295568, -0.248513295568]  420.782  9.82626e-89\n",
      "5     -0.165026      [-0.165026370135, -0.165026370135]  434.263  1.19492e-90\n",
      "6    -0.0984818    [-0.0984818272282, -0.0984818272282]  434.962  7.52087e-90\n",
      "7    -0.0224049    [-0.0224049230202, -0.0224049230202]  434.963   6.1542e-89\n",
      "8   0.000894286  [0.000894285907579, 0.000894285907579]  436.274  2.46166e-88\n",
      "9     0.0306795      [0.0306794842706, 0.0306794842706]  436.971  1.25405e-87\n",
      "10    0.0223697      [0.0223696721467, 0.0223696721467]  437.132  7.87349e-87\n",
      "11     0.010739      [0.0107389930102, 0.0107389930102]  438.422  2.71068e-86\n",
      "12    0.0303869      [0.0303869485536, 0.0303869485536]  443.504  1.40682e-86\n"
     ]
    }
   ],
   "source": [
    "## take a look at residual \n",
    "resid = ar1_result.resid\n",
    "acf = tsa.acf(resid, qstat=True, fft=True, alpha=True)\n",
    "acf_pd = pd.DataFrame(list(acf)).T\n",
    "acf_pd.columns = ['acf','confint','qstat','pvalues']\n",
    "print acf_pd.head(13)"
   ]
  },
  {
   "cell_type": "markdown",
   "metadata": {},
   "source": [
    "## 2. Work on some real word data"
   ]
  }
 ],
 "metadata": {
  "kernelspec": {
   "display_name": "Python 2",
   "language": "python",
   "name": "python2"
  },
  "language_info": {
   "codemirror_mode": {
    "name": "ipython",
    "version": 2
   },
   "file_extension": ".py",
   "mimetype": "text/x-python",
   "name": "python",
   "nbconvert_exporter": "python",
   "pygments_lexer": "ipython2",
   "version": "2.7.12"
  }
 },
 "nbformat": 4,
 "nbformat_minor": 0
}
