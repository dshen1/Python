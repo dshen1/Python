{
 "cells": [
  {
   "cell_type": "markdown",
   "metadata": {},
   "source": [
    "## TimeSeries Forcasting Week 3 Exercise"
   ]
  },
  {
   "cell_type": "code",
   "execution_count": 26,
   "metadata": {
    "collapsed": false
   },
   "outputs": [],
   "source": [
    "## import all the modules need to be used\n",
    "import statsmodels \n",
    "import statsmodels.tsa.stattools as tsa\n",
    "import statsmodels.api as sm\n",
    "import pandas as pd\n",
    "import numpy as np\n",
    "import matplotlib.pylab as plt\n",
    "%matplotlib inline\n",
    "from matplotlib.pylab import rcParams\n",
    "rcParams['figure.figsize'] = 15, 6"
   ]
  },
  {
   "cell_type": "code",
   "execution_count": 3,
   "metadata": {
    "collapsed": true
   },
   "outputs": [
    {
     "data": {
      "text/html": [
       "<div>\n",
       "<table border=\"1\" class=\"dataframe\">\n",
       "  <thead>\n",
       "    <tr style=\"text-align: right;\">\n",
       "      <th></th>\n",
       "      <th>et</th>\n",
       "    </tr>\n",
       "  </thead>\n",
       "  <tbody>\n",
       "    <tr>\n",
       "      <th>0</th>\n",
       "      <td>-1.213866</td>\n",
       "    </tr>\n",
       "    <tr>\n",
       "      <th>1</th>\n",
       "      <td>-0.285460</td>\n",
       "    </tr>\n",
       "    <tr>\n",
       "      <th>2</th>\n",
       "      <td>0.590270</td>\n",
       "    </tr>\n",
       "    <tr>\n",
       "      <th>3</th>\n",
       "      <td>0.828546</td>\n",
       "    </tr>\n",
       "    <tr>\n",
       "      <th>4</th>\n",
       "      <td>-0.995426</td>\n",
       "    </tr>\n",
       "  </tbody>\n",
       "</table>\n",
       "</div>"
      ],
      "text/plain": [
       "         et\n",
       "0 -1.213866\n",
       "1 -0.285460\n",
       "2  0.590270\n",
       "3  0.828546\n",
       "4 -0.995426"
      ]
     },
     "execution_count": 3,
     "metadata": {},
     "output_type": "execute_result"
    }
   ],
   "source": [
    "et = pd.read_csv('../data/module3_data_Identifying_ARMA.csv')\n",
    "et.head()"
   ]
  },
  {
   "cell_type": "markdown",
   "metadata": {},
   "source": [
    "### 1. Explort Some time series properties "
   ]
  },
  {
   "cell_type": "code",
   "execution_count": 4,
   "metadata": {
    "collapsed": true
   },
   "outputs": [
    {
     "name": "stdout",
     "output_type": "stream",
     "text": [
      "et   -0.02846\n",
      "dtype: float64\n",
      "et    0.982\n",
      "dtype: float64\n"
     ]
    }
   ],
   "source": [
    "## Q1 \n",
    "## get the mean and standard deviation\n",
    "print et.mean()\n",
    "print et.std()"
   ]
  },
  {
   "cell_type": "code",
   "execution_count": 5,
   "metadata": {
    "collapsed": true
   },
   "outputs": [
    {
     "data": {
      "text/html": [
       "<div>\n",
       "<table border=\"1\" class=\"dataframe\">\n",
       "  <thead>\n",
       "    <tr style=\"text-align: right;\">\n",
       "      <th></th>\n",
       "      <th>et</th>\n",
       "      <th>AR_1</th>\n",
       "      <th>MA_1</th>\n",
       "      <th>AR_1_MA_1</th>\n",
       "    </tr>\n",
       "  </thead>\n",
       "  <tbody>\n",
       "    <tr>\n",
       "      <th>0</th>\n",
       "      <td>-1.213866</td>\n",
       "      <td>0.000000</td>\n",
       "      <td>0.000000</td>\n",
       "      <td>0.000000</td>\n",
       "    </tr>\n",
       "    <tr>\n",
       "      <th>1</th>\n",
       "      <td>-0.285460</td>\n",
       "      <td>2.714540</td>\n",
       "      <td>-3.635166</td>\n",
       "      <td>-0.635166</td>\n",
       "    </tr>\n",
       "    <tr>\n",
       "      <th>2</th>\n",
       "      <td>0.590270</td>\n",
       "      <td>5.083267</td>\n",
       "      <td>-2.109552</td>\n",
       "      <td>0.541107</td>\n",
       "    </tr>\n",
       "    <tr>\n",
       "      <th>3</th>\n",
       "      <td>0.828546</td>\n",
       "      <td>6.624343</td>\n",
       "      <td>-1.258265</td>\n",
       "      <td>2.039344</td>\n",
       "    </tr>\n",
       "    <tr>\n",
       "      <th>4</th>\n",
       "      <td>-0.995426</td>\n",
       "      <td>5.647963</td>\n",
       "      <td>-2.915444</td>\n",
       "      <td>1.206196</td>\n",
       "    </tr>\n",
       "  </tbody>\n",
       "</table>\n",
       "</div>"
      ],
      "text/plain": [
       "         et      AR_1      MA_1  AR_1_MA_1\n",
       "0 -1.213866  0.000000  0.000000   0.000000\n",
       "1 -0.285460  2.714540 -3.635166  -0.635166\n",
       "2  0.590270  5.083267 -2.109552   0.541107\n",
       "3  0.828546  6.624343 -1.258265   2.039344\n",
       "4 -0.995426  5.647963 -2.915444   1.206196"
      ]
     },
     "execution_count": 5,
     "metadata": {},
     "output_type": "execute_result"
    }
   ],
   "source": [
    "## Q2 \n",
    "## generate a series absed on white noise disturbance yt = 3 + 0.55yt-1 + errort\n",
    "AR = np.zeros(len(et))\n",
    "MA = np.zeros(len(et))\n",
    "ARMA = np.zeros(len(et))\n",
    "ele1 = 0 \n",
    "ele2 = 0 \n",
    "ele3 = 0 \n",
    "for x in range(1,len(et)):\n",
    "    ele1 = 3+0.55*ele1 + et[\"et\"][x]\n",
    "    AR[x]=ele1\n",
    "    ele2 = -2.5 + et[\"et\"][x] + 0.7*et[\"et\"][x-1]\n",
    "    MA[x]=ele2\n",
    "    ele3 = 0.5 +0.55*ele3+ et[\"et\"][x] + 0.7*et[\"et\"][x-1]\n",
    "    ARMA[x]=ele3\n",
    "et['AR_1'] = AR\n",
    "et['MA_1'] = MA\n",
    "et['AR_1_MA_1'] = ARMA\n",
    "et.head()"
   ]
  },
  {
   "cell_type": "code",
   "execution_count": 28,
   "metadata": {
    "collapsed": true
   },
   "outputs": [
    {
     "name": "stdout",
     "output_type": "stream",
     "text": [
      "         acf                             confint    qstat      pvalues\n",
      "0          1                          [1.0, 1.0]  136.647  1.44068e-31\n",
      "1    0.52121    [0.521210263805, 0.521210263805]  158.112  4.63881e-35\n",
      "2    0.20637    [0.206370154351, 0.206370154351]  163.315  3.52968e-35\n",
      "3   0.101498    [0.101497891425, 0.101497891425]  167.304  3.96348e-35\n",
      "4  0.0887846  [0.0887846304206, 0.0887846304206]  170.778  4.97973e-35\n"
     ]
    },
    {
     "data": {
      "image/png": "[encoded data removed]",
      "text/plain": [
       "<matplotlib.figure.Figure at 0x7f48b48ebbd0>"
      ]
     },
     "metadata": {},
     "output_type": "display_data"
    },
    {
     "data": {
      "image/png": "[encoded data removed]",
      "text/plain": [
       "<matplotlib.figure.Figure at 0x7f48b45c2610>"
      ]
     },
     "metadata": {},
     "output_type": "display_data"
    }
   ],
   "source": [
    "## Q3 check ACF and PCF\n",
    "\n",
    "# get the data for acf \n",
    "acf = tsa.acf(et['AR_1'], qstat=True, fft=True, alpha=True)\n",
    "acf_pd = pd.DataFrame(list(acf)).T\n",
    "acf_pd.columns = ['acf','confint','qstat','pvalues']\n",
    "print acf_pd.head()\n",
    "# we can do the same thing for pcf, i just skipped it here \n",
    "\n",
    "## now let's look at the charts \n",
    "acf_figure = sm.graphics.tsa.plot_acf(et.AR_1,lags = 40)\n",
    "pcf_figure = sm.graphics.tsa.plot_pacf(et.AR_1,lags = 40)"
   ]
  },
  {
   "cell_type": "markdown",
   "metadata": {},
   "source": [
    "In general, for AR model, we will see gradual decay of ACF and abrupt dropoff in PACF. For MA models, we will see abrupt dropoff in ACF and gradual decay of PACF, it can be oscillating."
   ]
  },
  {
   "cell_type": "markdown",
   "metadata": {},
   "source": [
    "## 2. Identify which model we should use, assuming statinary time series"
   ]
  },
  {
   "cell_type": "markdown",
   "metadata": {
    "collapsed": true
   },
   "source": [
    "From looking at the ACF PACF charts, we can see that it is likely AR1. Try run AR1 model "
   ]
  },
  {
   "cell_type": "code",
   "execution_count": 56,
   "metadata": {
    "collapsed": true
   },
   "outputs": [
    {
     "data": {
      "text/plain": [
       "et                  float64\n",
       "AR_1                float64\n",
       "MA_1                float64\n",
       "AR_1_MA_1           float64\n",
       "time         datetime64[ns]\n",
       "dtype: object"
      ]
     },
     "execution_count": 56,
     "metadata": {},
     "output_type": "execute_result"
    }
   ],
   "source": [
    "### first, add time stamp to the dataframe\n",
    "time = pd.date_range('1/9/1975',periods=500,freq='M')\n",
    "et['time'] = time \n",
    "et.index = et.time\n",
    "et.dtypes\n",
    "\n",
    "### a couple of differnt ways to create time index \n",
    "# df['time'] = pd.to_datetime(df.dateid01)                           ## if there is a variable indicating time, we can convert it \n",
    "# dateparse = lambda dates: pd.datetime.strptime(dates, '%Y-%m')     ## if time is in string, we can also convert it \n",
    "# data[\"t_month\"] = data[\"Month\"].apply(dateparse)\n",
    "# start = datetime(2011, 1, 1)                                       ## or we can use start and end data to create a date range\n",
    "# end = datetime(2012, 1, 1)\n",
    "# rng = pd.date_range(start, end)\n"
   ]
  },
  {
   "cell_type": "code",
   "execution_count": 59,
   "metadata": {
    "collapsed": true
   },
   "outputs": [
    {
     "name": "stdout",
     "output_type": "stream",
     "text": [
      "                              ARMA Model Results                              \n",
      "==============================================================================\n",
      "Dep. Variable:                   AR_1   No. Observations:                  500\n",
      "Model:                     ARMA(1, 0)   Log Likelihood                -714.602\n",
      "Method:                       css-mle   S.D. of innovations              1.010\n",
      "Date:                Wed, 28 Sep 2016   AIC                           1435.203\n",
      "Time:                        18:42:26   BIC                           1447.847\n",
      "Sample:                    01-31-1975   HQIC                          1440.165\n",
      "                         - 08-31-2016                                         \n",
      "==============================================================================\n",
      "                 coef    std err          z      P>|z|      [95.0% Conf. Int.]\n",
      "------------------------------------------------------------------------------\n",
      "const          6.5631      0.102     64.421      0.000         6.363     6.763\n",
      "ar.L1.AR_1     0.5577      0.039     14.335      0.000         0.481     0.634\n",
      "                                    Roots                                    \n",
      "=============================================================================\n",
      "                 Real           Imaginary           Modulus         Frequency\n",
      "-----------------------------------------------------------------------------\n",
      "AR.1            1.7930           +0.0000j            1.7930            0.0000\n",
      "-----------------------------------------------------------------------------\n"
     ]
    }
   ],
   "source": [
    "## take a look at the model results with AR1 \n",
    "ar1_model = tsa.ARMA(et.AR_1,(1,0))\n",
    "ar1_result = ar1_model.fit() \n",
    "print ar1_result.summary()"
   ]
  },
  {
   "cell_type": "code",
   "execution_count": 62,
   "metadata": {
    "collapsed": true
   },
   "outputs": [
    {
     "name": "stdout",
     "output_type": "stream",
     "text": [
      "         acf                               confint     qstat    pvalues\n",
      "0          1                            [1.0, 1.0]  0.157093   0.691847\n",
      "1  0.0176723    [0.0176722547232, 0.0176722547232]   5.36207  0.0684923\n",
      "2  -0.101622    [-0.101621843551, -0.101621843551]    6.3325  0.0965076\n",
      "3 -0.0438353  [-0.0438353413275, -0.0438353413275]   6.56651   0.160647\n",
      "4  0.0215042    [0.0215041971862, 0.0215041971862]   7.83792   0.165397\n"
     ]
    },
    {
     "data": {
      "image/png": "[encoded data removed]",
      "text/plain": [
       "<matplotlib.figure.Figure at 0x7f48b426ae50>"
      ]
     },
     "metadata": {},
     "output_type": "display_data"
    },
    {
     "data": {
      "image/png": "[encoded data removed]",
      "text/plain": [
       "<matplotlib.figure.Figure at 0x7f48b45c9bd0>"
      ]
     },
     "metadata": {},
     "output_type": "display_data"
    }
   ],
   "source": [
    "## now let's take a look at error, see if they are corrolated\n",
    "resid = ar1_result.resid\n",
    "acf = tsa.acf(resid, qstat=True, fft=True, alpha=True)\n",
    "acf_pd = pd.DataFrame(list(acf)).T\n",
    "acf_pd.columns = ['acf','confint','qstat','pvalues']\n",
    "print acf_pd.head()\n",
    "\n",
    "acf_figure = sm.graphics.tsa.plot_acf(resid,lags = 40)\n",
    "pcf_figure = sm.graphics.tsa.plot_pacf(resid,lags = 40)"
   ]
  },
  {
   "cell_type": "markdown",
   "metadata": {},
   "source": [
    "We checked the auto corrolation with residuals, it seems to be fairly random. So our AR1 model might be ok. AR2 might be ok as well, it is a judgemental call. We can compare AIC and BIC to help us to make a decision "
   ]
  },
  {
   "cell_type": "markdown",
   "metadata": {},
   "source": [
    "## There is a way to automatically select the best arma model in eviews, we need to write it by ourselvef in python. The idea is try all the combinations and compare AIC or BIC"
   ]
  }
 ],
 "metadata": {
  "kernelspec": {
   "display_name": "Python 2",
   "language": "python",
   "name": "python2"
  },
  "language_info": {
   "codemirror_mode": {
    "name": "ipython",
    "version": 2
   },
   "file_extension": ".py",
   "mimetype": "text/x-python",
   "name": "python",
   "nbconvert_exporter": "python",
   "pygments_lexer": "ipython2",
   "version": "2.7.12"
  }
 },
 "nbformat": 4,
 "nbformat_minor": 0
}
