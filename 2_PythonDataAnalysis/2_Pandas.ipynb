{
 "cells": [
  {
   "cell_type": "code",
   "execution_count": 2,
   "metadata": {
    "collapsed": true
   },
   "outputs": [],
   "source": [
    "#################################\n",
    "### Using Pandas ################\n",
    "#################################\n",
    "import numpy as np\n",
    "import pandas as pd\n",
    "from pandas import Series, DataFrame"
   ]
  },
  {
   "cell_type": "code",
   "execution_count": 16,
   "metadata": {
    "collapsed": false
   },
   "outputs": [
    {
     "data": {
      "text/plain": [
       "Countries\n",
       "USSR        86666\n",
       "Germany     43344\n",
       "China       66666\n",
       "Japan      888888\n",
       "USA         83752\n",
       "Name: world war two, cars number, dtype: int64"
      ]
     },
     "execution_count": 16,
     "metadata": {},
     "output_type": "execute_result"
    }
   ],
   "source": [
    "######\n",
    "#series\n",
    "######\n",
    "\n",
    "obj = Series([3,6,9,12])          #create series object\n",
    "obj.values                        #see the values of the Series \n",
    "obj.index                         #see index \n",
    "\n",
    "#examples \n",
    "ww2_cars = Series([86666,43344,66666,888888,83752],index=['USSR','Germany','China','Japan','USA'])\n",
    "ww2_cars['USA']                   #slice an series \n",
    "#check which counties had cars greater than 4 mill\n",
    "ww2_cars > 55555                  #this will return indexed boolean list \n",
    "ww2_cars[ww2_cars>55555]          #if cars >5555 listed it here \n",
    "#other functions \n",
    "'USSR' in ww2_cars                #check if ussr is in the index,return true or false\n",
    "ww2_dict = ww2_cars.to_dict()     #convert to dictionary\n",
    "ww2_series = Series(ww2_dict)     #convert it back to series\n",
    "\n",
    "#other examples \n",
    "pd.isnull(ww2_cars)              #check if there is null\n",
    "pd.notnull(ww2_cars)             #check if not null\n",
    "ww2_cars + ww2_cars              #add two series, same as arry addition \n",
    "ww2_cars.name = 'world war two, cars number'  #name of the series objec \n",
    "ww2_cars.index.name = 'Countries'  #label the index of the series \n",
    "ww2_cars"
   ]
  },
  {
   "cell_type": "code",
   "execution_count": 168,
   "metadata": {
    "collapsed": false
   },
   "outputs": [
    {
     "data": {
      "text/html": [
       "<div>\n",
       "<table border=\"1\" class=\"dataframe\">\n",
       "  <thead>\n",
       "    <tr style=\"text-align: right;\">\n",
       "      <th></th>\n",
       "      <th>country</th>\n",
       "      <th>year</th>\n",
       "      <th>PPPPC</th>\n",
       "      <th>rule_law</th>\n",
       "      <th>control_corruption</th>\n",
       "      <th>regulatory_quality</th>\n",
       "    </tr>\n",
       "  </thead>\n",
       "  <tbody>\n",
       "    <tr>\n",
       "      <th>0</th>\n",
       "      <td>Afghanistan</td>\n",
       "      <td>2012</td>\n",
       "      <td>1875.016406</td>\n",
       "      <td>-1.723030</td>\n",
       "      <td>-1.411566</td>\n",
       "      <td>-1.210008</td>\n",
       "    </tr>\n",
       "    <tr>\n",
       "      <th>1</th>\n",
       "      <td>Albania</td>\n",
       "      <td>2012</td>\n",
       "      <td>10517.939210</td>\n",
       "      <td>-0.569308</td>\n",
       "      <td>-0.723548</td>\n",
       "      <td>0.167966</td>\n",
       "    </tr>\n",
       "    <tr>\n",
       "      <th>2</th>\n",
       "      <td>Algeria</td>\n",
       "      <td>2012</td>\n",
       "      <td>13273.173880</td>\n",
       "      <td>-0.753692</td>\n",
       "      <td>-0.475629</td>\n",
       "      <td>-1.292589</td>\n",
       "    </tr>\n",
       "    <tr>\n",
       "      <th>3</th>\n",
       "      <td>Angola</td>\n",
       "      <td>2012</td>\n",
       "      <td>6670.668082</td>\n",
       "      <td>-1.276352</td>\n",
       "      <td>-1.295879</td>\n",
       "      <td>-0.977499</td>\n",
       "    </tr>\n",
       "    <tr>\n",
       "      <th>4</th>\n",
       "      <td>Anguilla</td>\n",
       "      <td>2012</td>\n",
       "      <td>29051.187910</td>\n",
       "      <td>1.398365</td>\n",
       "      <td>1.294390</td>\n",
       "      <td>1.309333</td>\n",
       "    </tr>\n",
       "  </tbody>\n",
       "</table>\n",
       "</div>"
      ],
      "text/plain": [
       "       country  year         PPPPC  rule_law  control_corruption  \\\n",
       "0  Afghanistan  2012   1875.016406 -1.723030           -1.411566   \n",
       "1      Albania  2012  10517.939210 -0.569308           -0.723548   \n",
       "2      Algeria  2012  13273.173880 -0.753692           -0.475629   \n",
       "3       Angola  2012   6670.668082 -1.276352           -1.295879   \n",
       "4     Anguilla  2012  29051.187910  1.398365            1.294390   \n",
       "\n",
       "   regulatory_quality  \n",
       "0           -1.210008  \n",
       "1            0.167966  \n",
       "2           -1.292589  \n",
       "3           -0.977499  \n",
       "4            1.309333  "
      ]
     },
     "execution_count": 168,
     "metadata": {},
     "output_type": "execute_result"
    }
   ],
   "source": [
    "####################\n",
    "### Data  frames \n",
    "###################\n",
    "\n",
    "import numpy as np\n",
    "import pandas as pd\n",
    "from pandas import Series, DataFrame\n",
    "\n",
    "df = pd.read_csv('data.csv',sep=',')                              #read csv file\n",
    "df = pd.read_csv('data.csv',sep=',',                              #only read certain columns into the dataframe\n",
    "                 usecols=['country','year','PPPPC',               \n",
    "                          'rule_law','control_corruption',\n",
    "                          'regulatory_quality'])\n",
    "df.head(5)                                #print the first 5 row of the data"
   ]
  },
  {
   "cell_type": "code",
   "execution_count": 170,
   "metadata": {
    "collapsed": true
   },
   "outputs": [
    {
     "data": {
      "text/html": [
       "<div>\n",
       "<table border=\"1\" class=\"dataframe\">\n",
       "  <thead>\n",
       "    <tr style=\"text-align: right;\">\n",
       "      <th></th>\n",
       "      <th>country</th>\n",
       "      <th>year</th>\n",
       "      <th>PPPPC</th>\n",
       "      <th>rule_law</th>\n",
       "      <th>corruption</th>\n",
       "      <th>regulatory_quality</th>\n",
       "    </tr>\n",
       "  </thead>\n",
       "  <tbody>\n",
       "    <tr>\n",
       "      <th>0</th>\n",
       "      <td>Afghanistan</td>\n",
       "      <td>0</td>\n",
       "      <td>1875.016406</td>\n",
       "      <td>-1.723030</td>\n",
       "      <td>-1.411566</td>\n",
       "      <td>-1.210008</td>\n",
       "    </tr>\n",
       "    <tr>\n",
       "      <th>1</th>\n",
       "      <td>Albania</td>\n",
       "      <td>1</td>\n",
       "      <td>10517.939210</td>\n",
       "      <td>-0.569308</td>\n",
       "      <td>-0.723548</td>\n",
       "      <td>0.167966</td>\n",
       "    </tr>\n",
       "    <tr>\n",
       "      <th>2</th>\n",
       "      <td>Algeria</td>\n",
       "      <td>2</td>\n",
       "      <td>13273.173880</td>\n",
       "      <td>-0.753692</td>\n",
       "      <td>-0.475629</td>\n",
       "      <td>-1.292589</td>\n",
       "    </tr>\n",
       "    <tr>\n",
       "      <th>3</th>\n",
       "      <td>Angola</td>\n",
       "      <td>3</td>\n",
       "      <td>6670.668082</td>\n",
       "      <td>-1.276352</td>\n",
       "      <td>-1.295879</td>\n",
       "      <td>-0.977499</td>\n",
       "    </tr>\n",
       "    <tr>\n",
       "      <th>4</th>\n",
       "      <td>Anguilla</td>\n",
       "      <td>4</td>\n",
       "      <td>29051.187910</td>\n",
       "      <td>1.398365</td>\n",
       "      <td>1.294390</td>\n",
       "      <td>1.309333</td>\n",
       "    </tr>\n",
       "  </tbody>\n",
       "</table>\n",
       "</div>"
      ],
      "text/plain": [
       "       country  year         PPPPC  rule_law  corruption  regulatory_quality\n",
       "0  Afghanistan     0   1875.016406 -1.723030   -1.411566           -1.210008\n",
       "1      Albania     1  10517.939210 -0.569308   -0.723548            0.167966\n",
       "2      Algeria     2  13273.173880 -0.753692   -0.475629           -1.292589\n",
       "3       Angola     3   6670.668082 -1.276352   -1.295879           -0.977499\n",
       "4     Anguilla     4  29051.187910  1.398365    1.294390            1.309333"
      ]
     },
     "execution_count": 170,
     "metadata": {},
     "output_type": "execute_result"
    }
   ],
   "source": [
    "###retrieve columns####\n",
    "df.columns                                #return all the column name \n",
    "df.country                                #return the country column\n",
    "df['PPPPC']                               #return ppppc column\n",
    "DataFrame(nfl_frame,columns=['country','year','PPPPC']) #return multiple columns\n",
    "#retrieve rows \n",
    "df.head()                                 #retrieve first 5 rows\n",
    "df.tail(1)                                #retrieve end row\n",
    "df.ix[0:3]                                #retrieve the one to fourth row \n",
    "#retrieve rows and columns\n",
    "df[0:3][['country','year','PPPPC']]       #retrieve row and columns \n",
    "df[(df.PPPPC>10000) & (df.rule_law>0)]    #retrieve row based on columns values \n",
    "#modify data columns\n",
    "df['year'] = 1990                         #change everything to 1990\n",
    "nrow = df.shape[0]                 #get the length of the index\n",
    "df['year'] = np.arange(nrow)              #assing value from 0 to length\n",
    "df.index.values                           #values of all row indexes\n",
    "df.columns.values                         #values of all columns headers \n",
    "df = df.rename(columns={'control_corruption':'corruption'})   #change column name \n",
    "df.drop(0)                                #drop row\n",
    "df.drop('regulatory_quality',axis=1) #drop a column, use axis 1 \n",
    "df.head()"
   ]
  },
  {
   "cell_type": "code",
   "execution_count": 19,
   "metadata": {
    "collapsed": true
   },
   "outputs": [
    {
     "name": "stdout",
     "output_type": "stream",
     "text": [
      "     A  B\n",
      "NYC  0  1\n",
      "LA   2  3\n",
      "     A  D  C\n",
      "NYC  0  1  2\n",
      "SF   3  4  5\n",
      "LA   6  7  8\n",
      "       A   B   C   D\n",
      "LA   8.0 NaN NaN NaN\n",
      "NYC  0.0 NaN NaN NaN\n",
      "SF   NaN NaN NaN NaN\n",
      "       A    B    C    D\n",
      "LA   8.0  3.0  8.0  7.0\n",
      "NYC  0.0  1.0  2.0  1.0\n",
      "SF   3.0  NaN  5.0  4.0\n",
      "Sort by index: \n",
      "\n",
      "    A   B   C\n",
      "0   0   1   2\n",
      "1   3   4   5\n",
      "2   6   7   8\n",
      "3   9  10  11\n",
      "4  12  13  14\n",
      "5  15  16  17\n",
      "6  18  19  20\n",
      "7  21  22  23\n",
      "sort by columns \n",
      "\n",
      "    A   B   C\n",
      "0   0   1   2\n",
      "1   3   4   5\n",
      "2   6   7   8\n",
      "3   9  10  11\n",
      "4  12  13  14\n",
      "5  15  16  17\n",
      "6  18  19  20\n",
      "7  21  22  23\n"
     ]
    }
   ],
   "source": [
    "#######\n",
    "#data alignment\n",
    "#######\n",
    "import numpy as np\n",
    "from pandas import Series,DataFrame\n",
    "import pandas as pd\n",
    "\n",
    "df1= DataFrame(np.arange(4).reshape(2,2),columns=list('AB'),index=['NYC','LA'])\n",
    "print df1\n",
    "df2 = DataFrame(np.arange(9).reshape(3,3),columns=list('ADC'),index=['NYC','SF','LA'])\n",
    "print df2\n",
    "dfSum = df1+df2                                 #will create missing values \n",
    "print dfSum\n",
    "dfSumZero = df1.add(df2,fill_value=0)           #will make two data frame confortable, with 0 values\n",
    "print dfSumZero\n",
    "##### ranks ans sort #########\n",
    "df = DataFrame(np.arange(24).reshape(8,3),columns=list('ABC'))\n",
    "print 'Sort by index: \\n'\n",
    "print df.sort_index()                                             #sort by index\n",
    "print 'sort by columns \\n'\n",
    "print df.sort_values(['A','B'],ascending=[True,True])             #sort by multiple columns\n"
   ]
  },
  {
   "cell_type": "code",
   "execution_count": 43,
   "metadata": {
    "collapsed": true
   },
   "outputs": [
    {
     "data": {
      "text/html": [
       "<div>\n",
       "<table border=\"1\" class=\"dataframe\">\n",
       "  <thead>\n",
       "    <tr style=\"text-align: right;\">\n",
       "      <th></th>\n",
       "      <th>year</th>\n",
       "      <th>PPPPC</th>\n",
       "      <th>rule_law</th>\n",
       "      <th>control_corruption</th>\n",
       "      <th>regulatory_quality</th>\n",
       "    </tr>\n",
       "  </thead>\n",
       "  <tbody>\n",
       "    <tr>\n",
       "      <th>count</th>\n",
       "      <td>194.0</td>\n",
       "      <td>189.000000</td>\n",
       "      <td>193.000000</td>\n",
       "      <td>192.000000</td>\n",
       "      <td>192.000000</td>\n",
       "    </tr>\n",
       "    <tr>\n",
       "      <th>mean</th>\n",
       "      <td>2012.0</td>\n",
       "      <td>17796.134265</td>\n",
       "      <td>-0.099535</td>\n",
       "      <td>-0.084493</td>\n",
       "      <td>-0.075357</td>\n",
       "    </tr>\n",
       "    <tr>\n",
       "      <th>std</th>\n",
       "      <td>0.0</td>\n",
       "      <td>20075.733644</td>\n",
       "      <td>0.981295</td>\n",
       "      <td>0.996478</td>\n",
       "      <td>0.979621</td>\n",
       "    </tr>\n",
       "    <tr>\n",
       "      <th>min</th>\n",
       "      <td>2012.0</td>\n",
       "      <td>631.791705</td>\n",
       "      <td>-2.450159</td>\n",
       "      <td>-1.590733</td>\n",
       "      <td>-2.525228</td>\n",
       "    </tr>\n",
       "    <tr>\n",
       "      <th>25%</th>\n",
       "      <td>2012.0</td>\n",
       "      <td>NaN</td>\n",
       "      <td>NaN</td>\n",
       "      <td>NaN</td>\n",
       "      <td>NaN</td>\n",
       "    </tr>\n",
       "    <tr>\n",
       "      <th>50%</th>\n",
       "      <td>2012.0</td>\n",
       "      <td>NaN</td>\n",
       "      <td>NaN</td>\n",
       "      <td>NaN</td>\n",
       "      <td>NaN</td>\n",
       "    </tr>\n",
       "    <tr>\n",
       "      <th>75%</th>\n",
       "      <td>2012.0</td>\n",
       "      <td>NaN</td>\n",
       "      <td>NaN</td>\n",
       "      <td>NaN</td>\n",
       "      <td>NaN</td>\n",
       "    </tr>\n",
       "    <tr>\n",
       "      <th>max</th>\n",
       "      <td>2012.0</td>\n",
       "      <td>148615.935400</td>\n",
       "      <td>1.949052</td>\n",
       "      <td>2.391255</td>\n",
       "      <td>1.963062</td>\n",
       "    </tr>\n",
       "  </tbody>\n",
       "</table>\n",
       "</div>"
      ],
      "text/plain": [
       "         year          PPPPC    rule_law  control_corruption  \\\n",
       "count   194.0     189.000000  193.000000          192.000000   \n",
       "mean   2012.0   17796.134265   -0.099535           -0.084493   \n",
       "std       0.0   20075.733644    0.981295            0.996478   \n",
       "min    2012.0     631.791705   -2.450159           -1.590733   \n",
       "25%    2012.0            NaN         NaN                 NaN   \n",
       "50%    2012.0            NaN         NaN                 NaN   \n",
       "75%    2012.0            NaN         NaN                 NaN   \n",
       "max    2012.0  148615.935400    1.949052            2.391255   \n",
       "\n",
       "       regulatory_quality  \n",
       "count          192.000000  \n",
       "mean            -0.075357  \n",
       "std              0.979621  \n",
       "min             -2.525228  \n",
       "25%                   NaN  \n",
       "50%                   NaN  \n",
       "75%                   NaN  \n",
       "max              1.963062  "
      ]
     },
     "execution_count": 43,
     "metadata": {},
     "output_type": "execute_result"
    }
   ],
   "source": [
    "##########\n",
    "#Summary Statistics\n",
    "##########\n",
    "import numpy as np\n",
    "import pandas as pd\n",
    "from pandas import Series, DataFrame\n",
    "\n",
    "\n",
    "df = pd.read_csv('data.csv',sep=',',                              #only read certain columns into the dataframe\n",
    "                 usecols=['country','year','PPPPC',               \n",
    "                          'rule_law','control_corruption',\n",
    "                          'regulatory_quality'])\n",
    "df.sum()                            #sums of all variables \n",
    "df.sum(axis=1)                      #row sum of all records \n",
    "df.min()                            #min of all variables\n",
    "df.max()                            #max of all variables \n",
    "df.min(axis=1)                      #min of a row \n",
    "df.cumsum()                         #accumulate sum \n",
    "df.describe()                       #similary to stata describe function \n"
   ]
  },
  {
   "cell_type": "code",
   "execution_count": 64,
   "metadata": {
    "collapsed": true
   },
   "outputs": [
    {
     "data": {
      "text/plain": [
       "<matplotlib.axes._subplots.AxesSubplot at 0x7fcd9c6e3650>"
      ]
     },
     "execution_count": 64,
     "metadata": {},
     "output_type": "execute_result"
    },
    {
     "data": {
      "image/png": "[encoded data removed]",
      "text/plain": [
       "<matplotlib.figure.Figure at 0x7fcd9cd67a90>"
      ]
     },
     "metadata": {},
     "output_type": "display_data"
    }
   ],
   "source": [
    "#############\n",
    "##covariance and corrolation \n",
    "#############\n",
    "import pandas.io.data as pdweb\n",
    "import datetime\n",
    "import matplotlib.pyplot as plt\n",
    "import seaborn as sns\n",
    "%matplotlib inline\n",
    "\n",
    "#####show youtube videos ########\n",
    "from IPython.display import YouTubeVideo\n",
    "#CoVariance\n",
    "YouTubeVideo('xGbpuFNR1ME')\n",
    "#Correlation\n",
    "YouTubeVideo('4EXNedimDMs')\n",
    "\n",
    "#get financial info from web \n",
    "prices = pdweb.get_data_yahoo(['CVX','XOM','BP'],\n",
    "                              start=datetime.datetime(2010,1,1),\n",
    "                              end=datetime.datetime(2016,1,1))['Adj Close']\n",
    "volume = pdweb.get_data_yahoo(['CVX','XOM','BP'], \n",
    "                               start=datetime.datetime(2010, 1, 1), \n",
    "                               end=datetime.datetime(2016, 1, 1))['Volume']\n",
    "rets = prices.pct_change()             #percent chnage\n",
    "prices.plot()                          #plot the price series \n",
    "sns.heatmap(rets.corr())               #corrlation heat map\n",
    "\n"
   ]
  },
  {
   "cell_type": "code",
   "execution_count": 78,
   "metadata": {
    "collapsed": true
   },
   "outputs": [
    {
     "data": {
      "text/html": [
       "<div>\n",
       "<table border=\"1\" class=\"dataframe\">\n",
       "  <thead>\n",
       "    <tr style=\"text-align: right;\">\n",
       "      <th></th>\n",
       "      <th>0</th>\n",
       "      <th>1</th>\n",
       "      <th>2</th>\n",
       "    </tr>\n",
       "  </thead>\n",
       "  <tbody>\n",
       "    <tr>\n",
       "      <th>0</th>\n",
       "      <td>1.0</td>\n",
       "      <td>2.0</td>\n",
       "      <td>3.0</td>\n",
       "    </tr>\n",
       "    <tr>\n",
       "      <th>1</th>\n",
       "      <td>0.0</td>\n",
       "      <td>5.0</td>\n",
       "      <td>6.0</td>\n",
       "    </tr>\n",
       "    <tr>\n",
       "      <th>2</th>\n",
       "      <td>7.0</td>\n",
       "      <td>0.0</td>\n",
       "      <td>9.0</td>\n",
       "    </tr>\n",
       "    <tr>\n",
       "      <th>3</th>\n",
       "      <td>0.0</td>\n",
       "      <td>0.0</td>\n",
       "      <td>0.0</td>\n",
       "    </tr>\n",
       "  </tbody>\n",
       "</table>\n",
       "</div>"
      ],
      "text/plain": [
       "     0    1    2\n",
       "0  1.0  2.0  3.0\n",
       "1  0.0  5.0  6.0\n",
       "2  7.0  0.0  9.0\n",
       "3  0.0  0.0  0.0"
      ]
     },
     "execution_count": 78,
     "metadata": {},
     "output_type": "execute_result"
    }
   ],
   "source": [
    "##########\n",
    "##Missing data\n",
    "##########\n",
    "import numpy as np\n",
    "import pandas as pd\n",
    "from pandas import Series, DataFrame\n",
    "\n",
    "data = Series(['one','two', np.nan, 'four'])\n",
    "data.isnull()                 #return boolean list\n",
    "data.dropna()                 #dropped all na values \n",
    "#data frame \n",
    "df = DataFrame([[1,2,3],[np.nan,5,6],[7,np.nan,9],[np.nan,np.nan,np.nan]])\n",
    "df.dropna()                   #any variable with na, obs will be dropped \n",
    "df.dropna(axis=1)             #drop columns with missing data\n",
    "df.fillna(1)                  #fill missing value with 1 \n",
    "df.fillna({0:0,1:1,2:2})      #fill na, diff values for diff columns\n",
    "#if we want to modify original data frame \n",
    "df.fillna(0,inplace=True)     #change the original df "
   ]
  },
  {
   "cell_type": "code",
   "execution_count": 102,
   "metadata": {
    "collapsed": true
   },
   "outputs": [
    {
     "name": "stdout",
     "output_type": "stream",
     "text": [
      "      NY      LA   SF\n",
      "    cold hot hot cold\n",
      "a 1    0   1   2    3\n",
      "  2    4   5   6    7\n",
      "b 1    8   9  10   11\n",
      "  2   12  13  14   15\n",
      "Temp             cold  hot\n",
      "index_1 index_2           \n",
      "a       1           3    3\n",
      "        2          11   11\n",
      "b       1          19   19\n",
      "        2          27   27\n"
     ]
    }
   ],
   "source": [
    "##########\n",
    "##Index Hierarchy\n",
    "##########\n",
    "import numpy as np\n",
    "import pandas as pd\n",
    "from pandas import Series, DataFrame\n",
    "from numpy.random import randn\n",
    "\n",
    "#multiple index level\n",
    "ser= Series(randn(6),\n",
    "            index=[[1,1,1,2,2,2],\n",
    "                   ['a','b','c','a','b','c']])\n",
    "ser.index                         #show index\n",
    "ser[1]                            #show the first level of elements\n",
    "ser[:,'a']                        #show all elements with index a \n",
    "\n",
    "#create df with hierarchial series \n",
    "df = ser.unstack()                #will convert to df with row and column indexes\n",
    "\n",
    "# We can also apply multiple level indexing to DataFrames\n",
    "df2 = DataFrame(np.arange(16).reshape(4,4),\n",
    "                    index=[['a','a','b','b'],[1,2,1,2]],\n",
    "                    columns=[['NY','NY','LA','SF'],['cold','hot','hot','cold']])                                                   \n",
    "print df2\n",
    "df2.index.names = ['index_1','index_2']         #assign names of different levels of indexes\n",
    "df2.columns.names=['Cities','Temp']             #assign names of different levels of indexes\n",
    "df2.swaplevel('Temp','Cities',axis=1)           #swap indexes \n",
    "df2.sortlevel(1)                                #sort by index\n",
    "#######\n",
    "#######\n",
    "print df2.sum(level='Temp',axis=1)                    #aggregations by group\n"
   ]
  },
  {
   "cell_type": "code",
   "execution_count": 44,
   "metadata": {
    "collapsed": true
   },
   "outputs": [
    {
     "data": {
      "image/jpeg": "[encoded data removed]",
      "text/html": [
       "\n",
       "        <iframe\n",
       "            width=\"400\"\n",
       "            height=\"300\"\n",
       "            src=\"https://www.youtube.com/embed/4EXNedimDMs\"\n",
       "            frameborder=\"0\"\n",
       "            allowfullscreen\n",
       "        ></iframe>\n",
       "        "
      ],
      "text/plain": [
       "<IPython.lib.display.YouTubeVideo at 0x7fcdae3fe9d0>"
      ]
     },
     "execution_count": 44,
     "metadata": {},
     "output_type": "execute_result"
    }
   ],
   "source": [
    "##############end if this session "
   ]
  }
 ],
 "metadata": {
  "kernelspec": {
   "display_name": "Python [conda env:py35]",
   "language": "python",
   "name": "conda-env-py35-py"
  },
  "language_info": {
   "codemirror_mode": {
    "name": "ipython",
    "version": 3
   },
   "file_extension": ".py",
   "mimetype": "text/x-python",
   "name": "python",
   "nbconvert_exporter": "python",
   "pygments_lexer": "ipython3",
   "version": "3.5.2"
  }
 },
 "nbformat": 4,
 "nbformat_minor": 0
}
