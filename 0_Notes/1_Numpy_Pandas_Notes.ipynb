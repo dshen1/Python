{
 "cells": [
  {
   "cell_type": "markdown",
   "metadata": {},
   "source": [
    "## Notes for NumPy and Pandas"
   ]
  },
  {
   "cell_type": "code",
   "execution_count": 8,
   "metadata": {
    "collapsed": true
   },
   "outputs": [],
   "source": [
    "## import all libs \n",
    "import numpy as np\n",
    "import pandas as pd\n",
    "from pandas import Series, DataFrame"
   ]
  },
  {
   "cell_type": "code",
   "execution_count": 45,
   "metadata": {
    "collapsed": true
   },
   "outputs": [],
   "source": [
    "## some sample data \n",
    "countries = np.array(['France','Germany','Mexico','Russia','USA','Germany','China','China'])\n",
    "df = pd.read_csv('data.csv')\n",
    "colnames = ['country','year','PPPPC','rule_law','control_corruption','regulatory_quality']\n",
    "df_na = DataFrame([[1,2,3],[np.nan,5,6],[7,np.nan,9],[np.nan,np.nan,np.nan]])"
   ]
  },
  {
   "cell_type": "markdown",
   "metadata": {},
   "source": [
    "### Some Numpy functions "
   ]
  },
  {
   "cell_type": "code",
   "execution_count": 18,
   "metadata": {
    "collapsed": true
   },
   "outputs": [
    {
     "data": {
      "text/plain": [
       "array([ True,  True, False], dtype=bool)"
      ]
     },
     "execution_count": 18,
     "metadata": {},
     "output_type": "execute_result"
    }
   ],
   "source": [
    "points=np.arange(-5,5,0.01)                         # create evenly spaced intervals\n",
    "zero_series = np.zeros((5,5))                       # 5 by 5, all 0 matrix\n",
    "arr = np.random.randn(5,5)                          # 5 by 5  random numbers\n",
    "new_arr= np.where(arr<0,0,arr)                      # numpy logical filter, recode negative to 0s\n",
    "np.unique(countries)                                # get unique values of a list values\n",
    "np.in1d(['France','USA','Sweden'],countries)        # check if items in an array"
   ]
  },
  {
   "cell_type": "markdown",
   "metadata": {},
   "source": [
    "### Some pandas functions "
   ]
  },
  {
   "cell_type": "code",
   "execution_count": 49,
   "metadata": {
    "collapsed": false
   },
   "outputs": [],
   "source": [
    "######################\n",
    "## how to make pd df##\n",
    "#######################\n",
    "\n",
    "## reading multiple arrays into dataframe\n",
    "df_time =pd.DataFrame([data.index.year,data.index.month,data.index.day],index=['year','month','day']).T\n",
    "\n",
    "\n",
    "#####################\n",
    "## change column name\n",
    "######################\n",
    "df[colnames].head()                                                          # Easy way to get multiple columns from a df\n",
    "df[:3][['country','year','PPPPC']]                                           # retrieve certain rows and columns\n",
    "df[(df.PPPPC>10000) & (df.rule_law>0)]                                       # retrieve row based on columns values \n",
    "df['year'] = np.arange(df.shape[0])                                          # assing value from 0 to length\n",
    "df.index.values                                                              # values of all row indexes\n",
    "df.columns.values                                                            # show all columns names \n",
    "df.columns.names=['Cities','Temp']                                           # change all columns names\n",
    "#df = df.rename(columns={'control_corruption':'corruption'})                 # change column name \n",
    "#df.drop(0)                                                                  # drop row\n",
    "#df.drop('regulatory_quality',axis=1)                                        # drop a column, use axis 1 \n",
    "\n",
    "#####################\n",
    "## some statistics ##\n",
    "#####################\n",
    "df.describe()                                                                # summrize all variables \n",
    "df.PPPPC.cumsum()                                                            # accumulative sum\n",
    "df.min(axis=1)                                                               # row sum, min or others  \n",
    "df_na.dropna()                                                               # drop row when there is na anywhere\n",
    "df_na.dropna(axis=1)                                                         # drop columns with missing data\n",
    "df_na.isnull()                                                               # return boolean list\n",
    "df_na.fillna(0,inplace=True)                                                 # fill na with 0, and change the original df \n",
    "\n",
    "df.sum(level='Temp',axis=1)                                                  # aggregations by group"
   ]
  },
  {
   "cell_type": "markdown",
   "metadata": {},
   "source": [
    "### Pandas with Time Series"
   ]
  },
  {
   "cell_type": "code",
   "execution_count": null,
   "metadata": {
    "collapsed": true
   },
   "outputs": [],
   "source": []
  }
 ],
 "metadata": {
  "kernelspec": {
   "display_name": "Python 2",
   "language": "python",
   "name": "python2"
  },
  "language_info": {
   "codemirror_mode": {
    "name": "ipython",
    "version": 2
   },
   "file_extension": ".py",
   "mimetype": "text/x-python",
   "name": "python",
   "nbconvert_exporter": "python",
   "pygments_lexer": "ipython2",
   "version": "2.7.12"
  }
 },
 "nbformat": 4,
 "nbformat_minor": 0
}
