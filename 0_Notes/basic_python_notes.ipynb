{
 "cells": [
  {
   "cell_type": "markdown",
   "metadata": {},
   "source": [
    "### Some useful python codes"
   ]
  },
  {
   "cell_type": "code",
   "execution_count": 9,
   "metadata": {
    "collapsed": false
   },
   "outputs": [
    {
     "name": "stdout",
     "output_type": "stream",
     "text": [
      "[('good', 2), ('ok', 2), ('fine', 2), ('a', 1), ('excellent', 1), ('b', 1)]\n",
      "good:  2\n",
      "[('good', 2), ('ok', 2), ('fine', 2)]\n"
     ]
    }
   ],
   "source": [
    "##############################\n",
    "#### use counter object ######\n",
    "##############################\n",
    "from collections import Counter\n",
    "\n",
    "positive_word = Counter()\n",
    "words = ['a','b','good','ok','fine','good','excellent','ok','fine']\n",
    "for word in words:\n",
    "    positive_word[word] += 1\n",
    "print(positive_word.most_common())     ## it will retern a list of tutples of work count\n",
    "\n",
    "## you can also access word count by:\n",
    "print('good: ',positive_word['good'])\n",
    "\n",
    "## filter out counter over 2\n",
    "print ([(tem,count) for (tem,count) in positive_word.items() if count >1])"
   ]
  },
  {
   "cell_type": "code",
   "execution_count": null,
   "metadata": {
    "collapsed": false
   },
   "outputs": [],
   "source": []
  },
  {
   "cell_type": "code",
   "execution_count": null,
   "metadata": {
    "collapsed": true
   },
   "outputs": [],
   "source": []
  }
 ],
 "metadata": {
  "anaconda-cloud": {},
  "kernelspec": {
   "display_name": "Python [conda env:py35]",
   "language": "python",
   "name": "conda-env-py35-py"
  },
  "language_info": {
   "codemirror_mode": {
    "name": "ipython",
    "version": 3
   },
   "file_extension": ".py",
   "mimetype": "text/x-python",
   "name": "python",
   "nbconvert_exporter": "python",
   "pygments_lexer": "ipython3",
   "version": "3.5.2"
  }
 },
 "nbformat": 4,
 "nbformat_minor": 1
}
