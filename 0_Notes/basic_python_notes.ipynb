{
 "cells": [
  {
   "cell_type": "markdown",
   "metadata": {},
   "source": [
    "### Some useful python codes"
   ]
  },
  {
   "cell_type": "code",
   "execution_count": 10,
   "metadata": {
    "collapsed": false
   },
   "outputs": [
    {
     "name": "stdout",
     "output_type": "stream",
     "text": [
      "[('good', 2), ('ok', 2), ('fine', 2), ('a', 1), ('excellent', 1), ('b', 1)]\n",
      "good:  2\n",
      "[('good', 2), ('ok', 2), ('fine', 2)]\n",
      "Counter({'good': 1, 'ok': 1, 'fine': 1, 'a': 0, 'excellent': 0, 'b': 0})\n"
     ]
    }
   ],
   "source": [
    "##############################\n",
    "#### use counter object ######\n",
    "##############################\n",
    "from collections import Counter\n",
    "\n",
    "positive_word = Counter()\n",
    "words = ['a','b','good','ok','fine','good','excellent','ok','fine']\n",
    "for word in words:\n",
    "    positive_word[word] += 1\n",
    "print(positive_word.most_common())     ## it will retern a list of tutples of work count\n",
    "\n",
    "## you can also access word count by:\n",
    "print('good: ',positive_word['good'])\n",
    "\n",
    "## filter out counter over 2\n",
    "print ([(tem,count) for (tem,count) in positive_word.items() if count >1])\n",
    "\n",
    "## change values of count object \n",
    "for word,value in positive_word.most_common():\n",
    "    if(value > 1):\n",
    "        positive_word[word] = 1\n",
    "    else:\n",
    "        positive_word[word] = 0\n",
    "print(positive_word)"
   ]
  },
  {
   "cell_type": "code",
   "execution_count": 13,
   "metadata": {
    "collapsed": false
   },
   "outputs": [
    {
     "name": "stdout",
     "output_type": "stream",
     "text": [
      "{'a', 'place.', 'very', 'This', 'good', 'is'}\n"
     ]
    }
   ],
   "source": [
    "##########################\n",
    "#### use set #############\n",
    "##########################\n",
    "\n",
    "# set only contain unique items \n",
    "review = \"This is a very good place. This is a very good place. This is a very good place.\"\n",
    "words = set()\n",
    "for word in review.split(\" \"):\n",
    "    words.add(word)\n",
    "\n",
    "print(words)"
   ]
  },
  {
   "cell_type": "code",
   "execution_count": null,
   "metadata": {
    "collapsed": true
   },
   "outputs": [],
   "source": []
  }
 ],
 "metadata": {
  "anaconda-cloud": {},
  "kernelspec": {
   "display_name": "Python [conda env:py35]",
   "language": "python",
   "name": "conda-env-py35-py"
  },
  "language_info": {
   "codemirror_mode": {
    "name": "ipython",
    "version": 3
   },
   "file_extension": ".py",
   "mimetype": "text/x-python",
   "name": "python",
   "nbconvert_exporter": "python",
   "pygments_lexer": "ipython3",
   "version": "3.5.2"
  }
 },
 "nbformat": 4,
 "nbformat_minor": 1
}
