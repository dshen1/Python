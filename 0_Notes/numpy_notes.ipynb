{
 "cells": [
  {
   "cell_type": "markdown",
   "metadata": {},
   "source": [
    "## Numpy Notes"
   ]
  },
  {
   "cell_type": "code",
   "execution_count": 2,
   "metadata": {
    "collapsed": true
   },
   "outputs": [],
   "source": [
    "import numpy as np"
   ]
  },
  {
   "cell_type": "markdown",
   "metadata": {},
   "source": [
    "##### some basic numpy functions"
   ]
  },
  {
   "cell_type": "code",
   "execution_count": 3,
   "metadata": {
    "collapsed": false
   },
   "outputs": [
    {
     "data": {
      "text/plain": [
       "array([ True,  True, False], dtype=bool)"
      ]
     },
     "execution_count": 3,
     "metadata": {},
     "output_type": "execute_result"
    }
   ],
   "source": [
    "points=np.arange(-5,5,0.01)                         # create evenly spaced intervals\n",
    "zero_series = np.zeros((5,5))                       # 5 by 5, all 0 matrix\n",
    "arr = np.random.randn(5,5)                          # 5 by 5  random numbers\n",
    "new_arr= np.where(arr<0,0,arr)                      # numpy logical filter, recode negative to 0s\n",
    "\n",
    "# create some data\n",
    "countries = np.array(['France','Germany','Mexico','Russia','USA','Germany','China','China'])\n",
    "\n",
    "np.unique(countries)                                # get unique values of a list values\n",
    "np.in1d(['France','USA','Sweden'],countries)        # check if items in an array"
   ]
  },
  {
   "cell_type": "markdown",
   "metadata": {},
   "source": [
    "##### Some numpy transformations"
   ]
  },
  {
   "cell_type": "code",
   "execution_count": 4,
   "metadata": {
    "collapsed": false
   },
   "outputs": [
    {
     "name": "stdout",
     "output_type": "stream",
     "text": [
      "1. To column vector:  [[ 0.49671415]\n",
      " [-0.1382643 ]\n",
      " [ 0.64768854]] \n",
      "\n"
     ]
    }
   ],
   "source": [
    "## turn an row vector to a column vector \n",
    "features = np.array([ 0.49671415, -0.1382643 ,  0.64768854])\n",
    "features_c = features[:,None]         ### this is one way of doing it \n",
    "features_c = features.reshape(-1,1)   ### you can also to it like this, this will vectorize any matrix \n",
    "\n",
    "print('1. To column vector: ',features_c,'\\n')"
   ]
  },
  {
   "cell_type": "code",
   "execution_count": null,
   "metadata": {
    "collapsed": true
   },
   "outputs": [],
   "source": []
  }
 ],
 "metadata": {
  "anaconda-cloud": {},
  "kernelspec": {
   "display_name": "Python [default]",
   "language": "python",
   "name": "python3"
  },
  "language_info": {
   "codemirror_mode": {
    "name": "ipython",
    "version": 3
   },
   "file_extension": ".py",
   "mimetype": "text/x-python",
   "name": "python",
   "nbconvert_exporter": "python",
   "pygments_lexer": "ipython3",
   "version": "3.5.2"
  }
 },
 "nbformat": 4,
 "nbformat_minor": 2
}
