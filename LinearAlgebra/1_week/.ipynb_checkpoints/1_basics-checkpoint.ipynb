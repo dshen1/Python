{
 "cells": [
  {
   "cell_type": "markdown",
   "metadata": {},
   "source": [
    "# Linear Algebra Week 1"
   ]
  },
  {
   "cell_type": "code",
   "execution_count": 3,
   "metadata": {
    "collapsed": true
   },
   "outputs": [],
   "source": [
    "## import all the modules \n",
    "\n",
    "import numpy as np\n",
    "from numpy import linalg\n",
    "import math"
   ]
  },
  {
   "cell_type": "markdown",
   "metadata": {},
   "source": [
    "### 1. Basic Vector Orerations "
   ]
  },
  {
   "cell_type": "code",
   "execution_count": 4,
   "metadata": {
    "collapsed": true
   },
   "outputs": [],
   "source": [
    "# or we can simply use numpy array\n",
    "v = np.array([1,2,3])           # this is a row vector\n",
    "w = np.array([4,5,6])           # this is a row vector \n",
    "c = 5"
   ]
  },
  {
   "cell_type": "code",
   "execution_count": 7,
   "metadata": {
    "collapsed": false,
    "scrolled": true
   },
   "outputs": [
    {
     "name": "stdout",
     "output_type": "stream",
     "text": [
      "Sum =  [5 7 9]\n",
      "Minus =  [3 3 3]\n",
      "Product 5*w =  [20 25 30]\n",
      "Parall Product w*v=  [ 4 10 18]\n",
      "Vector Product w.dot(v)=  32\n"
     ]
    }
   ],
   "source": [
    "# operations \n",
    "rSum = w+v\n",
    "rMinus = w-v\n",
    "rProduct = 5*w\n",
    "rProduct_p = w*v\n",
    "rProduct_v = w.dot(v)\n",
    "\n",
    "print 'Sum = ',rSum\n",
    "print 'Minus = ',rMinus\n",
    "print 'Product 5*w = ',rProduct\n",
    "print 'Parall Product w*v= ',rProduct_p\n",
    "print 'Vector Product w.dot(v)= ',rProduct_v"
   ]
  },
  {
   "cell_type": "markdown",
   "metadata": {},
   "source": [
    "### 2. Euclidean length of a vector"
   ]
  },
  {
   "cell_type": "code",
   "execution_count": 10,
   "metadata": {
    "collapsed": false,
    "scrolled": true
   },
   "outputs": [
    {
     "name": "stdout",
     "output_type": "stream",
     "text": [
      "The Euclidean lenght of v is: 3.74165738677\n"
     ]
    }
   ],
   "source": [
    "## Euclidean length of v:\n",
    "eu_len_v = np.sqrt(v.dot(v))       # we can write out the calculation by ourselves\n",
    "eu_len_v = np.linalg.norm(v)       # or we can juse linalg in numpy library \n",
    "\n",
    "print 'The Euclidean lenght of v is:',eu_len_v"
   ]
  },
  {
   "cell_type": "markdown",
   "metadata": {},
   "source": [
    "### 3. Inner products and angle"
   ]
  },
  {
   "cell_type": "code",
   "execution_count": 11,
   "metadata": {
    "collapsed": false
   },
   "outputs": [
    {
     "name": "stdout",
     "output_type": "stream",
     "text": [
      "inner product =  32\n",
      "angle =  12.9331544919\n"
     ]
    }
   ],
   "source": [
    "innerProduct = v.dot(w)\n",
    "v_norm = np.linalg.norm(v)\n",
    "w_norm = np.linalg.norm(w)\n",
    "cos_theta = innerProduct/(v_norm*w_norm)                 # property of cos theta\n",
    "angle = np.arccos(cos_theta)/math.pi*180                 # transform the angle to degree\n",
    "print 'inner product = ',innerProduct\n",
    "print 'angle = ' ,angle"
   ]
  }
 ],
 "metadata": {
  "kernelspec": {
   "display_name": "Python 2",
   "language": "python",
   "name": "python2"
  },
  "language_info": {
   "codemirror_mode": {
    "name": "ipython",
    "version": 2
   },
   "file_extension": ".py",
   "mimetype": "text/x-python",
   "name": "python",
   "nbconvert_exporter": "python",
   "pygments_lexer": "ipython2",
   "version": "2.7.12"
  }
 },
 "nbformat": 4,
 "nbformat_minor": 0
}
