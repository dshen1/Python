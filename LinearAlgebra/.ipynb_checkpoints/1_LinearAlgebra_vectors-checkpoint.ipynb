{
 "cells": [
  {
   "cell_type": "code",
   "execution_count": 58,
   "metadata": {
    "collapsed": false
   },
   "outputs": [],
   "source": [
    "import numpy as np\n",
    "from numpy import linalg\n",
    "import math\n"
   ]
  },
  {
   "cell_type": "markdown",
   "metadata": {},
   "source": [
    "## Vector plus minus multiply"
   ]
  },
  {
   "cell_type": "code",
   "execution_count": 18,
   "metadata": {
    "collapsed": false
   },
   "outputs": [
    {
     "name": "stdout",
     "output_type": "stream",
     "text": [
      "[16.436, -18.682]\n",
      "[8.218, -9.341, 8.218, -9.341]\n"
     ]
    }
   ],
   "source": [
    "# there a lots of ways , we can use list comprehension  \n",
    "def plus(a,b):\n",
    "    result = [x+y for x,y in zip(a,b)]\n",
    "    return result\n",
    "    \n",
    "v = [8.218,-9.341]\n",
    "w = [8.218,-9.341]\n",
    "\n",
    "print plus(v,w)"
   ]
  },
  {
   "cell_type": "code",
   "execution_count": 31,
   "metadata": {
    "collapsed": false
   },
   "outputs": [
    {
     "name": "stdout",
     "output_type": "stream",
     "text": [
      "Sum = [ 13.436 -16.682]\n",
      "Minus = [ 3. -2.]\n",
      "Product = [ 41.09  -46.705]\n",
      "Parall Product = [ 42.881524  68.572281]\n",
      "Vector Product = 111.453805\n"
     ]
    }
   ],
   "source": [
    "# or we can simply use numpy array\n",
    "v = np.array([5.218,-7.341])           # this is a row vector\n",
    "w = np.array([8.218,-9.341])           # this is a row vector \n",
    "c = 5\n",
    "rSum = w+v\n",
    "rMinus = w-v\n",
    "rProduct = 5*w\n",
    "rProduct_p = w*v\n",
    "rProduct_v = w.dot(v)\n",
    "print 'Sum = ' + str(rSum)\n",
    "print 'Minus = ' + str(rMinus)\n",
    "print 'Product = ' + str(rProduct)\n",
    "print 'Parall Product = ' + str(rProduct_p)\n",
    "print 'Vector Product = ' + str(rProduct_v)\n"
   ]
  },
  {
   "cell_type": "markdown",
   "metadata": {},
   "source": [
    "## Magnitude and Direction "
   ]
  },
  {
   "cell_type": "code",
   "execution_count": 43,
   "metadata": {
    "collapsed": false
   },
   "outputs": [
    {
     "name": "stdout",
     "output_type": "stream",
     "text": [
      "magnitude of v = 10.8841875673\n",
      "normalized v = [ 0.80970674 -0.12228749 -0.57395189]\n"
     ]
    }
   ],
   "source": [
    "v = np.array([8.813,-1.331,-6.247])\n",
    "v_distance = np.sqrt(v.dot(v))         #square root of the sum product of v\n",
    "v_distance = np.linalg.norm(v)         #or we can use linalg library to get the norm of v\n",
    "v_normal = v/v_distance\n",
    "print 'magnitude of v = ' + str(v_distance)\n",
    "print 'normalized v = ' + str(v_normal)"
   ]
  },
  {
   "cell_type": "markdown",
   "metadata": {
    "collapsed": true
   },
   "source": [
    "## Inner Products"
   ]
  },
  {
   "cell_type": "code",
   "execution_count": 50,
   "metadata": {
    "collapsed": false
   },
   "outputs": [
    {
     "name": "stdout",
     "output_type": "stream",
     "text": [
      "inner product = 56.397178\n",
      "angle = 54.1755285321\n"
     ]
    }
   ],
   "source": [
    "v = np.array([-5.955,-4.904,-1.874])\n",
    "w = np.array([-4.496,-8.755,7.103])\n",
    "innerProduct = v.dot(w)\n",
    "v_norm = np.linalg.norm(v)\n",
    "w_norm = np.linalg.norm(w)\n",
    "cos_theta = innerProduct/(v_norm*w_norm) \n",
    "angle = np.arccos(cos_theta)/math.pi*180                 # transform the angle to degree\n",
    "print 'inner product = ' + str(innerProduct)\n",
    "print 'angle = ' + str(angle)"
   ]
  },
  {
   "cell_type": "markdown",
   "metadata": {},
   "source": [
    "## Parallel and Orthogonal"
   ]
  },
  {
   "cell_type": "code",
   "execution_count": null,
   "metadata": {
    "collapsed": true
   },
   "outputs": [],
   "source": [
    "# when v and w are parallel if one is a scalar multiple of the other \n",
    "# v = 2v, 1/2v   etc\n",
    "# v and w are orthogonal of v.dot(w) = 0 "
   ]
  },
  {
   "cell_type": "markdown",
   "metadata": {},
   "source": [
    "## Vector Projections "
   ]
  },
  {
   "cell_type": "code",
   "execution_count": 54,
   "metadata": {
    "collapsed": false
   },
   "outputs": [
    {
     "name": "stdout",
     "output_type": "stream",
     "text": [
      "the projection of v on b is : [ 1.08260696  2.67174276]\n",
      "the orthogonal of v on b is : [ 1.95639304 -0.79274276]\n"
     ]
    }
   ],
   "source": [
    "v = np.array([3.039,1.879])\n",
    "b = np.array([0.825,2.036])\n",
    "b_norm = np.linalg.norm(b)\n",
    "b_u = b/b_norm\n",
    "v_parallel = v.dot(b_u)*(b_u)            # formula discussed in the video lecture it is the v projection in b \n",
    "v_orthogonal = v - v_parallel \n",
    "print 'the projection of v on b is : ' + str(v_parallel)\n",
    "print 'the orthogonal of v on b is : ' + str(v_orthogonal)"
   ]
  },
  {
   "cell_type": "markdown",
   "metadata": {},
   "source": [
    "## Cross Prodct"
   ]
  },
  {
   "cell_type": "code",
   "execution_count": 56,
   "metadata": {
    "collapsed": false
   },
   "outputs": [
    {
     "name": "stdout",
     "output_type": "stream",
     "text": [
      "The cross product of v and w is : [ -11.204571  -97.609444 -105.685162]\n",
      "The area of the parallelogram is : 144.300032697\n"
     ]
    }
   ],
   "source": [
    "# another form of multiplication is that v x w is orthogonal to both v and w \n",
    "v = np.array([8.462,7.893,-8.187])\n",
    "w = np.array([6.984,-5.975,4.778])\n",
    "v_cross_w = np.cross(v,w)\n",
    "area = np.linalg.norm(v_cross_w)\n",
    "print 'The cross product of v and w is : ' + str(v_cross_w)\n",
    "print 'The area of the parallelogram is : ' + str(area)"
   ]
  },
  {
   "cell_type": "markdown",
   "metadata": {},
   "source": [
    "## Line intercetions -- Solving Systems Equations"
   ]
  },
  {
   "cell_type": "code",
   "execution_count": 61,
   "metadata": {
    "collapsed": false
   },
   "outputs": [
    {
     "data": {
      "text/plain": [
       "array([5, 6])"
      ]
     },
     "execution_count": 61,
     "metadata": {},
     "output_type": "execute_result"
    }
   ],
   "source": [
    "##### determine if two lines are parallel ######\n",
    "class Equesions(object):\n",
    "    def __init__(self,A=None,k=None):\n",
    "        self.A = A\n",
    "        self.k = k\n",
    "    "
   ]
  },
  {
   "cell_type": "code",
   "execution_count": 49,
   "metadata": {
    "collapsed": false
   },
   "outputs": [
    {
     "data": {
      "text/plain": [
       "83.019221999999999"
      ]
     },
     "execution_count": 49,
     "metadata": {},
     "output_type": "execute_result"
    }
   ],
   "source": [
    "sum(v*w)"
   ]
  }
 ],
 "metadata": {
  "kernelspec": {
   "display_name": "Python 2",
   "language": "python",
   "name": "python2"
  },
  "language_info": {
   "codemirror_mode": {
    "name": "ipython",
    "version": 2
   },
   "file_extension": ".py",
   "mimetype": "text/x-python",
   "name": "python",
   "nbconvert_exporter": "python",
   "pygments_lexer": "ipython2",
   "version": "2.7.11"
  }
 },
 "nbformat": 4,
 "nbformat_minor": 0
}
