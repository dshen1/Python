{
 "cells": [
  {
   "cell_type": "markdown",
   "metadata": {},
   "source": [
    "# File system object"
   ]
  },
  {
   "cell_type": "markdown",
   "metadata": {},
   "source": [
    "## Basics"
   ]
  },
  {
   "cell_type": "code",
   "execution_count": 1,
   "metadata": {
    "collapsed": false
   },
   "outputs": [
    {
     "name": "stdout",
     "output_type": "stream",
     "text": [
      "folder1/folder2/folder3\n",
      "/home/ubuntu/workspace/Python_Automate_examples\n",
      "/home/ubuntu/workspace\n",
      "sample.txt\n",
      "False\n",
      "False\n",
      "4096\n",
      "('/home/ubuntu/workspace/sample', '.txt')\n",
      "['File_System.ipynb', 'Debugger.ipynb', 'Regular_Expression.ipynb', '.ipynb_checkpoints', 'data', 'mydata.dir', 'Web_Scripting.ipynb', 'mydata.bak']\n"
     ]
    }
   ],
   "source": [
    "import os\n",
    "\n",
    "print os.path.join('folder1','folder2','folder3') # Basics use os.path.join for file path \n",
    "\n",
    "print os.getcwd()                                          # get current directory\n",
    "os.chdir('/home/ubuntu/workspace')                         # change directory\n",
    "print os.path.dirname('/home/ubuntu/workspace/sample.txt') # get the path without file name\n",
    "print os.path.basename('/home/ubuntu/workspace/sample.txt')# get the file name\n",
    "print os.path.exists('/home/ubuntu/workspace/sample.txt')  # check if file or path exists\n",
    "print os.path.isfile('/home/ubuntu/workspace/sample.txt')  # check if file exists\n",
    "print os.path.getsize('/home/ubuntu/workspace')            # check file or folder size \n",
    "print os.path.splitext('/home/ubuntu/workspace/sample.txt')# extract out extension \n",
    "print os.listdir('/home/ubuntu/workspace/Python_Automate_examples')\n",
    "                                                           # list all files in a directory"
   ]
  },
  {
   "cell_type": "code",
   "execution_count": 14,
   "metadata": {
    "collapsed": false
   },
   "outputs": [
    {
     "name": "stdout",
     "output_type": "stream",
     "text": [
      "13254\n"
     ]
    }
   ],
   "source": [
    "###### get all files in one folder \n",
    "\n",
    "totalSize = 0 \n",
    "for filename in os.listdir('/home/ubuntu/workspace/Python_Automate_examples'):\n",
    "    if not os.path.isfile(os.path.join('/home/ubuntu/workspace/Python_Automate_examples/',filename)):\n",
    "        continue #if it is not exist, go to next item in the loop\n",
    "    totalSize += os.path.getsize(os.path.join('/home/ubuntu/workspace/Python_Automate_examples/',filename))\n",
    "print totalSize\n"
   ]
  },
  {
   "cell_type": "markdown",
   "metadata": {},
   "source": [
    "## Write text files"
   ]
  },
  {
   "cell_type": "code",
   "execution_count": 44,
   "metadata": {
    "collapsed": true
   },
   "outputs": [
    {
     "name": "stdout",
     "output_type": "stream",
     "text": [
      "['Hello !!!!!!\\n', 'How are you?']\n",
      "['Zophie', 'Pooka', 'Fat-tail']\n",
      "['cats']\n",
      "[['Zophie', 'Pooka', 'Fat-tail']]\n"
     ]
    }
   ],
   "source": [
    "os.chdir('/home/ubuntu/workspace/Python_Automate_examples')\n",
    "\n",
    "###### read files \n",
    "\n",
    "helloFile = open('./data/hello.txt')          # will open file in read mode\n",
    "#content = helloFile.read()                    # read content as one string \n",
    "content2 = helloFile.readlines()              # read contents to a list of strings \n",
    "helloFile.close()\n",
    "print content2\n",
    "\n",
    "\n",
    "###### write file\n",
    "\n",
    "helloFile2 = open('./data/hello2.txt','w')     # or use 'a', if file does not exist, it will create\n",
    "helloFile2.write('Hello !!!!!!\\n')\n",
    "helloFile2.write('Hello !!!!!!\\n')\n",
    "helloFile2.close()\n",
    "\n",
    "\n",
    "###### save as shelve file  #######\n",
    "\n",
    "import shelve \n",
    "shelfFile = shelve.open('data/mydata')\n",
    "shelfFile['cats'] = ['Zophie','Pooka','Fat-tail']\n",
    "shelfFile.close()\n",
    "# now we can read the shelve file \n",
    "shelfFile = shelve.open('data/mydata')\n",
    "print shelfFile['cats']                   # shelf is like a dictionary\n",
    "print shelfFile.keys()\n",
    "print shelfFile.values()"
   ]
  },
  {
   "cell_type": "markdown",
   "metadata": {},
   "source": [
    "## Copy and move file and folders "
   ]
  },
  {
   "cell_type": "code",
   "execution_count": 4,
   "metadata": {
    "collapsed": false
   },
   "outputs": [
    {
     "name": "stdout",
     "output_type": "stream",
     "text": [
      "/home/ubuntu/workspace/Python_Automate_examples\n"
     ]
    }
   ],
   "source": [
    "# basics \n",
    "import shutil\n",
    "import os\n",
    "\n",
    "print os.getcwd()\n",
    "shutil.copy('data/hello.txt','./')                   # copy files \n",
    "shutil.copy('data/hello.txt','./spam.txt')           # copy and rename\n",
    "# also can use .copytree .move (copy folder, move file, use move to rename)\n",
    "\n",
    "\n",
    "## Delete files \n",
    "os.unlink('./hello.txt')                            # delete a single file \n",
    "# os.rmdir('./data/somename')                       # remove folder, need the folder to be empty first \n",
    "# shutil.rmtree                                     # delete the entire folder with content \n",
    "\n",
    "# these are all very dangeous operations, there is a module to send file to trash  --- send2trash\n"
   ]
  },
  {
   "cell_type": "markdown",
   "metadata": {},
   "source": [
    "## Use os.walk to loop through all subfolders"
   ]
  },
  {
   "cell_type": "code",
   "execution_count": 12,
   "metadata": {
    "collapsed": true
   },
   "outputs": [
    {
     "name": "stdout",
     "output_type": "stream",
     "text": [
      "The folder is ./\n",
      "The subfolders in ./ are: ['.ipynb_checkpoints', 'data']\n",
      "The filenames in ./ are: ['Web_Scraping.py', 'File_System.ipynb', 'Debugger.ipynb', 'Debug.py', 'Regular_Expression.ipynb', 'mydata.dir', 'Web_Scripting.ipynb', 'mydata.bak']\n",
      "Next loop \n",
      "\n",
      "The folder is ./.ipynb_checkpoints\n",
      "The subfolders in ./.ipynb_checkpoints are: []\n",
      "The filenames in ./.ipynb_checkpoints are: ['Web_Scripting-checkpoint.ipynb', 'Regular_Expression-checkpoint.ipynb', 'File_System-checkpoint.ipynb', 'Debugger-checkpoint.ipynb']\n",
      "Next loop \n",
      "\n",
      "The folder is ./data\n",
      "The subfolders in ./data are: []\n",
      "The filenames in ./data are: ['error_log.txt', 'mydata.dat', 'hello.txt', 'sample.xls', 'mydata.dir', 'hello2.txt', 'mydata.bak']\n",
      "Next loop \n",
      "\n"
     ]
    }
   ],
   "source": [
    "## use os.walk \n",
    "import os \n",
    "for foldername, subfolders,filenames in os.walk('./'):\n",
    "    print ('The folder is ' + foldername)\n",
    "    print ('The subfolders in ' + foldername + ' are: ' + str(subfolders))\n",
    "    print ('The filenames in ' + foldername + ' are: ' + str(filenames))\n",
    "    print 'Next loop \\n'\n"
   ]
  },
  {
   "cell_type": "code",
   "execution_count": 9,
   "metadata": {
    "collapsed": false
   },
   "outputs": [],
   "source": [
    "## examples : delete file based on file name \n",
    "import os\n",
    "\n",
    "path = os.getcwd()\n",
    "for filename in os.listdir(path):\n",
    "    if filename.endswith('.txt'):\n",
    "        os.unlink(filename)\n",
    "        print('deleted file : ' + filename)\n",
    "        "
   ]
  }
 ],
 "metadata": {
  "kernelspec": {
   "display_name": "Python 2",
   "language": "python",
   "name": "python2"
  },
  "language_info": {
   "codemirror_mode": {
    "name": "ipython",
    "version": 2
   },
   "file_extension": ".py",
   "mimetype": "text/x-python",
   "name": "python",
   "nbconvert_exporter": "python",
   "pygments_lexer": "ipython2",
   "version": "2.7.12"
  }
 },
 "nbformat": 4,
 "nbformat_minor": 0
}
