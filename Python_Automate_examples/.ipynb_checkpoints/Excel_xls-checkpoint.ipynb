{
 "cells": [
  {
   "cell_type": "markdown",
   "metadata": {},
   "source": [
    "# Read xls"
   ]
  },
  {
   "cell_type": "code",
   "execution_count": null,
   "metadata": {
    "collapsed": true
   },
   "outputs": [],
   "source": [
    "\n",
    "import os\n",
    "import xlrd\n",
    "import csv\n",
    "import logging\n",
    "logging.basicConfig(level=logging.DEBUG,format='%(asctime)s - %(levelname)s - %(message)s')\n",
    "logging.disable(logging.CRITICAL)  #this will disable all logging message, we can toggle this in testing stage\n",
    "#logging.disable(logging.DEBUG)\n",
    "\n",
    "print \"Program running ... ...\"\n",
    "\n",
    "#####\n",
    "# all objects are 0 indexed\n",
    "#####"
   ]
  },
  {
   "cell_type": "markdown",
   "metadata": {},
   "source": [
    "## Function to filter data"
   ]
  },
  {
   "cell_type": "code",
   "execution_count": null,
   "metadata": {
    "collapsed": true
   },
   "outputs": [],
   "source": [
    "##########\n",
    "# a function to open the workbook, filter out the data we want\n",
    "##########\n",
    "def get_matched_value(file_path,substr):\n",
    "    # open workbook\n",
    "    wb = xlrd.open_workbook(file_path)\n",
    "    logging.debug(wb.nsheets)                                       # print number of sheets\n",
    "    logging.debug(wb.sheet_names())                                 # print sheet names\n",
    "    ws = wb.sheet_by_name('English')                                # set sheet object by name\n",
    "    logging.debug('number of rows: ' + str(ws.nrows))               # print # of rows\n",
    "    logging.debug('number of columns: ' + str(ws.ncols))            # print # of columns\n",
    "    column_value = ws.col_values(colx=3)                            # it will return a list of values\n",
    "\n",
    "    # apply filter logics in the sheet, \n",
    "    #print column_value.index('x. Auction FX Swap Sell BCRP') # exact match in a list, not being used here \n",
    "    indices = [i for i, s in enumerate(column_value) if substr in s]# go through each value, partial match a substring, return index\n",
    "\n",
    "    # use the indices, find value we want \n",
    "    logging.debug(ws.cell(indices[0],9).value)\n",
    "    return str(ws.cell(indices[0],9).value).strip()\n"
   ]
  },
  {
   "cell_type": "markdown",
   "metadata": {},
   "source": [
    "# Function to change file extension, if needed"
   ]
  },
  {
   "cell_type": "code",
   "execution_count": null,
   "metadata": {
    "collapsed": true
   },
   "outputs": [],
   "source": [
    "##########\n",
    "# a function to change file name if needed \n",
    "##########\n",
    "def change_extension(path,ext):\n",
    "    folder = path\n",
    "    for filename in os.listdir(folder):\n",
    "        infilename = os.path.join(folder,filename)\n",
    "        if not os.path.isfile(infilename): continue\n",
    "        oldbase = os.path.splitext(infilename)\n",
    "        newname = oldbase[0] + '.xls'\n",
    "        os.rename(infilename,newname)"
   ]
  },
  {
   "cell_type": "markdown",
   "metadata": {},
   "source": [
    "## Loop through files and call functions"
   ]
  },
  {
   "cell_type": "code",
   "execution_count": null,
   "metadata": {
    "collapsed": true
   },
   "outputs": [],
   "source": [
    "########\n",
    "# loop through the folder and apply the function  \n",
    "########\n",
    "\n",
    "#set path\n",
    "path = 'C:\\Temp\\downloads'\n",
    "# create two list to hold values\n",
    "Names = []\n",
    "Values = []\n",
    "\n",
    "print \"Constructing the list ... ...\"\n",
    "\n",
    "# loop through all files in the folder\n",
    "for filename in os.listdir(path):\n",
    "    infilename = os.path.join(path,filename)\n",
    "    if not os.path.isfile(infilename): continue\n",
    "    if filename.endswith('.xls'):\n",
    "        #logging.info(filename.split(\"-\")[-1])\n",
    "        #logging.info(get_matched_value(infilename,'Auction FX Swap Sell BCRP'))\n",
    "        Names.append(filename.split('-')[-1])\n",
    "        Values.append(get_matched_value(infilename,'Auction FX Swap Sell BCRP'))\n",
    "\n",
    "# write to csv\n",
    "with open('C:\\\\Temp\\\\output.csv', \"wb\") as f:\n",
    "    writer = csv.writer(f)\n",
    "    writer.writerows([Names,Values])        #we can use numpy to vectorize it if we want\n",
    "\n",
    "    \n",
    "print 'Done'"
   ]
  }
 ],
 "metadata": {
  "kernelspec": {
   "display_name": "Python 2",
   "language": "python",
   "name": "python2"
  },
  "language_info": {
   "codemirror_mode": {
    "name": "ipython",
    "version": 2
   },
   "file_extension": ".py",
   "mimetype": "text/x-python",
   "name": "python",
   "nbconvert_exporter": "python",
   "pygments_lexer": "ipython2",
   "version": "2.7.12"
  }
 },
 "nbformat": 4,
 "nbformat_minor": 0
}
