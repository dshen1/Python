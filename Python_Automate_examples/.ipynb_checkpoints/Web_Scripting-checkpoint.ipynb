{
 "cells": [
  {
   "cell_type": "markdown",
   "metadata": {},
   "source": [
    "# Web Scraping"
   ]
  },
  {
   "cell_type": "markdown",
   "metadata": {},
   "source": [
    "# User webbrowser module"
   ]
  },
  {
   "cell_type": "code",
   "execution_count": 1,
   "metadata": {
    "collapsed": false
   },
   "outputs": [
    {
     "data": {
      "text/plain": [
       "True"
      ]
     },
     "execution_count": 1,
     "metadata": {},
     "output_type": "execute_result"
    }
   ],
   "source": [
    "## use webbrowser module\n",
    "\n",
    "import webbrowser, sys\n",
    "sys.argv # ['mapit.py','870','Valencia','St.']\n",
    "\n",
    "# check if command line arguments were passed \n",
    "if len(sys.argv)>1: #check if argument is passed\n",
    "    # ['mapit.py','870','Valencia','St.'] --> '870 Valencia St.'\n",
    "    address = ' '.join(sys.argv[1:])\n",
    "else:\n",
    "    #use default address\n",
    "    address = '7911 westpark drive, tysons,VA'\n",
    "\n",
    "# this does not really work on server \n",
    "webbrowser.open('https://www.google.com/maps/place/' + address)"
   ]
  },
  {
   "cell_type": "markdown",
   "metadata": {},
   "source": [
    "## Download files"
   ]
  },
  {
   "cell_type": "code",
   "execution_count": 4,
   "metadata": {
    "collapsed": true
   },
   "outputs": [],
   "source": [
    "## use request module to download file \n",
    "import requests\n",
    "res = requests.get('http://opendatakit.org/wp-content/uploads/static/sample.xls')\n",
    "res.raise_for_status() #check if file exists, if no error, nothing happens \n",
    "with open('data/sample.xls','wb') as excel:\n",
    "    excel.write(res.content)\n",
    "    \n",
    "# or you can also use urllib etc, just google it \n"
   ]
  },
  {
   "cell_type": "markdown",
   "metadata": {},
   "source": [
    "## Parse html"
   ]
  },
  {
   "cell_type": "code",
   "execution_count": 15,
   "metadata": {
    "collapsed": false
   },
   "outputs": [
    {
     "name": "stdout",
     "output_type": "stream",
     "text": [
      "$25.45\n"
     ]
    }
   ],
   "source": [
    "## use beautifl soup to parse html \n",
    "\n",
    "import bs4\n",
    "import requests\n",
    "res = requests.get('https://www.amazon.com/Automate-Boring-Stuff-Python-Programming/dp/1593275994')\n",
    "res.raise_for_status()           # raise error if it failed \n",
    "\n",
    "soup = bs4.BeautifulSoup(res.text,'html.parser')\n",
    "# on the web site, right click the element and copy selector\n",
    "elems=soup.select('#mediaNoAccordion > div.a-row > div.a-column.a-span4.a-text-right.a-span-last > span.a-size-medium.a-color-price.header-price')\n",
    "price = elems[0].text.strip() # get the text and strip all blank spaces  "
   ]
  },
  {
   "cell_type": "markdown",
   "metadata": {},
   "source": [
    "## Control webbrowser"
   ]
  },
  {
   "cell_type": "code",
   "execution_count": null,
   "metadata": {
    "collapsed": true
   },
   "outputs": [],
   "source": [
    "import os\n",
    "from selenium import webdriver\n",
    "\n",
    "#get the chrome driver\n",
    "chromedriver = \"C:\\Users\\huang\\Desktop\\Apps\\chromedriver.exe\"\n",
    "#os.environ[\"webdriver.chrome.driver\"] = chromedriver\n",
    "driver = webdriver.Chrome(executable_path=chromedriver)\n",
    "# go to certain webpage\n",
    "driver.get('https://automatetheboringstuff.com')\n",
    "#select element\n",
    "elem = driver.find_element_by_css_selector('#post-6 > div > ol:nth-child(20) > li:nth-child(1) > a')\n",
    "#click a link\n",
    "elem.click()\n",
    "elems = driver.find_elements_by_css_selector('div')\n",
    "print 'find # of divs: ' + str(len(elems))\n",
    "\n",
    "'''\n",
    "#other method \n",
    "\n",
    "searchElem = driver.find_element_by_css_selector('.search-field')\n",
    "searchElem.send_keys('something')\n",
    "searchElem.submit()\n",
    "driver.back()\n",
    ".forward()\n",
    ".refresh()\n",
    "\n",
    "'''\n",
    "\n",
    "driver.quit()"
   ]
  }
 ],
 "metadata": {
  "kernelspec": {
   "display_name": "Python 2",
   "language": "python",
   "name": "python2"
  },
  "language_info": {
   "codemirror_mode": {
    "name": "ipython",
    "version": 2
   },
   "file_extension": ".py",
   "mimetype": "text/x-python",
   "name": "python",
   "nbconvert_exporter": "python",
   "pygments_lexer": "ipython2",
   "version": "2.7.12"
  }
 },
 "nbformat": 4,
 "nbformat_minor": 0
}
