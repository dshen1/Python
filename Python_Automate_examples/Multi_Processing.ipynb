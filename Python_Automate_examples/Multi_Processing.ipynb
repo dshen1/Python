{
 "cells": [
  {
   "cell_type": "markdown",
   "metadata": {},
   "source": [
    "\n",
    "# Multi processing using pool and lock "
   ]
  },
  {
   "cell_type": "markdown",
   "metadata": {},
   "source": [
    "## Import modules and define functions to run in parellel"
   ]
  },
  {
   "cell_type": "code",
   "execution_count": 1,
   "metadata": {
    "collapsed": true
   },
   "outputs": [],
   "source": [
    "import multiprocessing\n",
    "import time\n",
    "import random\n",
    "import sys\n",
    "import csv\n",
    "from functools import partial\n",
    "import time\n",
    "import timeit \n",
    "\n",
    "def start_main(args):\n",
    "    return main_function(*args)\n",
    "    \n",
    "def main_function(a, b,savefile):\n",
    "    time.sleep(0.5)\n",
    "    result =  a * b\n",
    "    name = multiprocessing.current_process().name\n",
    "    try:\n",
    "        #lock.acquire()                                      # start lock when trying to write to common csv file\n",
    "        with open(savefile, \"ab\") as f:                     # get ride of new line\n",
    "            writer = csv.writer(f)\n",
    "            writer.writerows([[name,result]])\n",
    "        #lock.release()                                      # strop the lock when finished\n",
    "        return 'Success'\n",
    "        \n",
    "    except:\n",
    "        print 'Can not write to csv file!'\n",
    "        lock.release()\n",
    "        return 'Failed'\n",
    "        \n",
    "def init(l):\n",
    "    global lock\n",
    "    lock = l"
   ]
  },
  {
   "cell_type": "markdown",
   "metadata": {},
   "source": [
    "## Two methods to pass thorugh multiple arguments"
   ]
  },
  {
   "cell_type": "code",
   "execution_count": 2,
   "metadata": {
    "collapsed": true
   },
   "outputs": [],
   "source": [
    "## first way of running multi process    \n",
    "def multi_p1():\n",
    "    # this will count the number of cores taht are available in the machines \n",
    "    #print 'cpu_count() = %d' % multiprocessing.cpu_count()\n",
    "    # create pools \n",
    "    l = multiprocessing.Lock()\n",
    "    PROCESSES = 8\n",
    "    pool = multiprocessing.Pool(initializer=init, initargs=(l,), processes =PROCESSES)\n",
    "    TASKS = [(i, 7,'results.csv') for i in range(100)]\n",
    "    #use pool.map to start multi process \n",
    "    status = pool.map(start_main, TASKS)\n",
    "    #print len(status)\n",
    "\n",
    "\n",
    "## second way of running multi proecess,using partial \n",
    "def multi_p2():\n",
    "    l = multiprocessing.Lock()\n",
    "    PROCESSES = 8\n",
    "    pool = multiprocessing.Pool(initializer=init, initargs=(l,), processes =PROCESSES)\n",
    "    p_main_function = partial(main_function,b=7,savefile='resullts')          # use partial to construct the function with args\n",
    "    status = pool.map(p_main_function, range(100)) \n",
    "    \n"
   ]
  },
  {
   "cell_type": "markdown",
   "metadata": {},
   "source": [
    "## Clean up after running multi processing"
   ]
  },
  {
   "cell_type": "code",
   "execution_count": 3,
   "metadata": {
    "collapsed": true
   },
   "outputs": [],
   "source": [
    "def multi_cleanup():\n",
    "    l = multiprocessing.Lock()\n",
    "    PROCESSES = 8\n",
    "    pool = multiprocessing.Pool(initializer=init, initargs=(l,), processes =PROCESSES)\n",
    "    p_main_function = partial(main_function,b=7,savefile='resullts')\n",
    "    status = pool.map(p_main_function, range(10)) \n",
    "    print len(status)\n",
    "    \n",
    "    # test clean up functionalities\n",
    "    print pool._cache           # this will print out remain taskes in the pool\n",
    "    pool.close()                # close and clean up \n",
    "    pool.join()\n",
    "    for worker in pool._pool:   # workers shoud be closed, all values are false\n",
    "        print worker.is_alive()\n",
    "    pool = None                 # collect grabages of using pool "
   ]
  },
  {
   "cell_type": "markdown",
   "metadata": {},
   "source": [
    "## Main function"
   ]
  },
  {
   "cell_type": "code",
   "execution_count": 4,
   "metadata": {
    "collapsed": false
   },
   "outputs": [
    {
     "name": "stdout",
     "output_type": "stream",
     "text": [
      "10\n",
      "{}\n",
      "False\n",
      "False\n",
      "False\n",
      "False\n",
      "False\n",
      "False\n",
      "False\n",
      "False\n"
     ]
    }
   ],
   "source": [
    "if __name__ == '__main__':\n",
    "    multiprocessing.freeze_support()\n",
    "    multi_cleanup()"
   ]
  }
 ],
 "metadata": {
  "kernelspec": {
   "display_name": "Python 2",
   "language": "python",
   "name": "python2"
  },
  "language_info": {
   "codemirror_mode": {
    "name": "ipython",
    "version": 2
   },
   "file_extension": ".py",
   "mimetype": "text/x-python",
   "name": "python",
   "nbconvert_exporter": "python",
   "pygments_lexer": "ipython2",
   "version": "2.7.12"
  }
 },
 "nbformat": 4,
 "nbformat_minor": 0
}
