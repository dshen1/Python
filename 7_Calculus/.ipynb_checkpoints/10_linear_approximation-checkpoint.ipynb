{
 "cells": [
  {
   "cell_type": "markdown",
   "metadata": {},
   "source": [
    "## Calculus - Linear Approximiation"
   ]
  },
  {
   "cell_type": "code",
   "execution_count": 11,
   "metadata": {
    "collapsed": true
   },
   "outputs": [],
   "source": [
    "from sympy import *\n",
    "import math\n",
    "import numpy as np\n",
    "init_printing(use_latex=True)"
   ]
  },
  {
   "cell_type": "markdown",
   "metadata": {},
   "source": [
    "#### Q1: Consider the interval I=[8,9.2]. Break I into 4 subintervals of length 0.3: [8,8.3],[8.3,8.6],[8.6,8.9],[8.9,9.2].\n",
    "#### Suppose that\n",
    "f(8)=17,\n",
    "f′(8)=−4,\n",
    "f′(8.3)=−4.3,\n",
    "f′(8.6)=−4.2, and\n",
    "f′(8.9)=−4.8.\n",
    "#### What is the approximate value of f(9.2)?"
   ]
  },
  {
   "cell_type": "code",
   "execution_count": 21,
   "metadata": {
    "collapsed": false
   },
   "outputs": [
    {
     "name": "stdout",
     "output_type": "stream",
     "text": [
      "f(9.2) =  11.810000000000002\n"
     ]
    }
   ],
   "source": [
    "d_f=[-4,-4.3,-4.2,-4.8]\n",
    "step_size = 0.3\n",
    "x = np.arange(8,9.2,step_size)\n",
    "i=8\n",
    "ini_x = 17\n",
    "counter = 0 \n",
    "while i < 9:\n",
    "    ini_x += 0.3*d_f[counter]\n",
    "    i += 0.3\n",
    "    counter += 1 \n",
    "print ('f(9.2) = ',ini_x)"
   ]
  },
  {
   "cell_type": "code",
   "execution_count": null,
   "metadata": {
    "collapsed": false
   },
   "outputs": [],
   "source": [
    "\n"
   ]
  },
  {
   "cell_type": "code",
   "execution_count": null,
   "metadata": {
    "collapsed": true
   },
   "outputs": [],
   "source": []
  }
 ],
 "metadata": {
  "anaconda-cloud": {},
  "kernelspec": {
   "display_name": "Python [conda env:py35]",
   "language": "python",
   "name": "conda-env-py35-py"
  },
  "language_info": {
   "codemirror_mode": {
    "name": "ipython",
    "version": 3
   },
   "file_extension": ".py",
   "mimetype": "text/x-python",
   "name": "python",
   "nbconvert_exporter": "python",
   "pygments_lexer": "ipython3",
   "version": "3.5.2"
  }
 },
 "nbformat": 4,
 "nbformat_minor": 1
}
