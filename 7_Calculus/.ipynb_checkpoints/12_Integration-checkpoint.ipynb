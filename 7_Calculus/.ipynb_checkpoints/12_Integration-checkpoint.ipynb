{
 "cells": [
  {
   "cell_type": "markdown",
   "metadata": {},
   "source": [
    "## Calculus - Integration"
   ]
  },
  {
   "cell_type": "code",
   "execution_count": 3,
   "metadata": {
    "collapsed": true
   },
   "outputs": [],
   "source": [
    "from sympy import *\n",
    "import math\n",
    "import numpy as np\n",
    "from IPython.display import Image\n",
    "init_printing(use_latex=True)\n",
    "from IPython.display import HTML, display"
   ]
  },
  {
   "cell_type": "markdown",
   "metadata": {
    "collapsed": true
   },
   "source": [
    "### Some rules "
   ]
  },
  {
   "cell_type": "markdown",
   "metadata": {},
   "source": [
    "Sum of tirst k numbers:\n",
    "$$\\sum_{n=1}^{k} n = \\frac{k*(k+1)}{2}$$\n",
    "Sum of first k odd numbers:\n",
    "$$\\sum_{n=1}^{k} (2n-1) = k^2$$\n",
    "Sum of first k $n^2$:\n",
    "$$\\sum_{n=1}^{k}n^2 = \\frac{k(k+1)(2k+1)}{6}$$\n",
    "Sum of first k $n^2$:\n",
    "$$\\sum_{n=1}^{k}n^3 = \\frac{k^2(k+1)^2}{4}$$"
   ]
  },
  {
   "cell_type": "markdown",
   "metadata": {},
   "source": [
    "### Summision in Sympy"
   ]
  },
  {
   "cell_type": "code",
   "execution_count": 25,
   "metadata": {
    "collapsed": false
   },
   "outputs": [
    {
     "data": {
      "image/png": "[encoded data removed]",
      "text/latex": [
       "$$\\sum_{x=1}^{10} \\left(2 x - 1\\right)$$"
      ],
      "text/plain": [
       "  10           \n",
       " ___           \n",
       " ╲             \n",
       "  ╲   (2⋅x - 1)\n",
       "  ╱            \n",
       " ╱             \n",
       " ‾‾‾           \n",
       "x = 1          "
      ]
     },
     "execution_count": 25,
     "metadata": {},
     "output_type": "execute_result"
    }
   ],
   "source": [
    "## first ten odd numbers \n",
    "x = symbols('x')\n",
    "expr=Sum(2*x-1,(x,1,10))    # Sum from x = 1 to 10\n",
    "expr"
   ]
  },
  {
   "cell_type": "code",
   "execution_count": 26,
   "metadata": {
    "collapsed": false
   },
   "outputs": [
    {
     "data": {
      "image/png": "[encoded data removed]",
      "text/latex": [
       "$$100.0$$"
      ],
      "text/plain": [
       "100.000000000000"
      ]
     },
     "execution_count": 26,
     "metadata": {},
     "output_type": "execute_result"
    }
   ],
   "source": [
    "N(expr)"
   ]
  },
  {
   "cell_type": "markdown",
   "metadata": {},
   "source": [
    "## Riemann sum\n",
    "<table><tr><td><p>Left Rieman<P><img src='pic/LeftRiemann2.svg.png' style='width:200px;height:200px;'></td><td><p>Right Rieman<P><img src='pic/RightRiemann2.svg.png' style='width:200px;height:200px;'></td><td><p>Middle Rieman<P><img src='pic/MidRiemann2.svg.png' style='width:200px;height:200px;'></td><td><p>Trapezoidal Rieman<P><img src='pic/TrapRiemann2.svg.png' style='width:200px;height:200px;'></td></tr></table>\n",
    "\n",
    "#### Area under curve using riemann sum: $$S=\\sum_{n=1}^{k}f(x^*_i)(x_i-x_{i-1}), x_{i-1}\\leq x^*_i\\leq x_i$$\n",
    "#### When the number of partition goes to infinity and each partition goes close to 0:\n",
    "$$ \\int_{a}^{b}f(x)dx=\\sum_{n=1}^{k}f(x^*_i)(x_i-x_{i-1})$$\n",
    "\n",
    "#### The integral with respect to x of a real-valued function f(x) of a real variable x on the interval [a, b] is written as: \n",
    "$$ \\int_{a}^{b}f(x)dx$$\n",
    "The integral sign $\\int$ represents integration. The symbol $dx$, called the differential of the variable $x$, indicates that the variable of integration is $x$. The function $f(x)$ to be integrated is called the integrand. The symbol $dx$ is separated from the integrand by a space (as shown). If a function has an integral, it is said to be integrable. The points $a$ and $b$ are called the limits of the integral. An integral where the limits are specified is called a definite integral. The integral is said to be over the interval [a, b].\n",
    "\n",
    "#### When the limits are omitted, as in \n",
    "$$ \\int f(x)dx$$\n",
    "$$ F(x) = \\int f(x)dx$$\n",
    "\n",
    "#### Some other properties\n",
    "$$ \\int_{a}^{b}k*f(x)dx= k*\\int_{a}^{b}f(x)dx $$\n",
    "$$ \\int_{a}^{b}(f(x)+g(x))dx= \\int_{a}^{b}f(x)dx + \\int_{a}^{b}g(x)dx$$\n",
    "\n",
    "#### Define accumulation function \n",
    "$$ F(x) = \\int_{a}^{b}f(x)dx$$\n",
    "\n",
    "$$ F'(b) = f(x)$$\n",
    "\n",
    "$$\\int_{a}^{b}f(x)dx = F(b) - F(a)$$ \n",
    "<img src=\"pic/intergal.png\">\n",
    "#### The accumulation function $F(x)$ is the antiderative of $f(x)$\n",
    "\n",
    "#### Differient it in respect to a:\n",
    "$$F'(a) = -f(x)$$\n",
    "\n",
    "$$\\int_{a}^{b}f(x)dx = -\\int_{b}^{a}f(x)dx$$ \n"
   ]
  },
  {
   "cell_type": "markdown",
   "metadata": {},
   "source": [
    "### How to calculate integrals \n",
    "Consider the definite integral $\\int_{2}^{19}(10x−9)dx$. Find a closed form expression for the nth right Riemann sum of this integral.\n"
   ]
  },
  {
   "cell_type": "code",
   "execution_count": 35,
   "metadata": {
    "collapsed": false
   },
   "outputs": [
    {
     "data": {
      "image/png": "[encoded data removed]",
      "text/latex": [
       "$$1632$$"
      ],
      "text/plain": [
       "1632"
      ]
     },
     "execution_count": 35,
     "metadata": {},
     "output_type": "execute_result"
    }
   ],
   "source": [
    "## we can use both integrate or integral to create an unsolved integrals\n",
    "## first, and resolve it later \n",
    "\n",
    "Integral(10*x-9,(x,2,19)).doit()\n",
    "\n",
    "# or use integrate(10*x-9,(x,2,19)) to calculate right way "
   ]
  },
  {
   "cell_type": "code",
   "execution_count": 10,
   "metadata": {
    "collapsed": false
   },
   "outputs": [
    {
     "data": {
      "image/png": "[encoded data removed]",
      "text/latex": [
       "$$0.514450281282303$$"
      ],
      "text/plain": [
       "0.514450281282303"
      ]
     },
     "execution_count": 10,
     "metadata": {},
     "output_type": "execute_result"
    }
   ],
   "source": [
    "## another example \n",
    "x = symbols('x')\n",
    "expr = csc(x)*cot(x)\n",
    "Integral(expr,(x,0.7,1.3)).doit()"
   ]
  }
 ],
 "metadata": {
  "anaconda-cloud": {},
  "kernelspec": {
   "display_name": "Python [conda env:py35]",
   "language": "python",
   "name": "conda-env-py35-py"
  },
  "language_info": {
   "codemirror_mode": {
    "name": "ipython",
    "version": 3
   },
   "file_extension": ".py",
   "mimetype": "text/x-python",
   "name": "python",
   "nbconvert_exporter": "python",
   "pygments_lexer": "ipython3",
   "version": "3.5.2"
  }
 },
 "nbformat": 4,
 "nbformat_minor": 1
}
