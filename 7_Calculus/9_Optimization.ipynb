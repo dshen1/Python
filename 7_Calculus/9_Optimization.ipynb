{
 "cells": [
  {
   "cell_type": "markdown",
   "metadata": {},
   "source": [
    "## Calculus - Optimization"
   ]
  },
  {
   "cell_type": "code",
   "execution_count": 23,
   "metadata": {
    "collapsed": true
   },
   "outputs": [],
   "source": [
    "from sympy import *\n",
    "import math\n",
    "init_printing(use_latex=True)"
   ]
  },
  {
   "cell_type": "markdown",
   "metadata": {},
   "source": [
    "#### Some Basic Optimization problems"
   ]
  },
  {
   "cell_type": "markdown",
   "metadata": {},
   "source": [
    "#### Q1: For which x does the function $f(x)=x^3−6x^2−5x+5$ assume its maximum value on the interval [−5,5]?"
   ]
  },
  {
   "cell_type": "code",
   "execution_count": 22,
   "metadata": {
    "collapsed": false
   },
   "outputs": [
    {
     "name": "stdout",
     "output_type": "stream",
     "text": [
      "The derative of the function is: 3*x**2 - 12*x - 5\n",
      "the solution for x are: [2 + sqrt(51)/3, -sqrt(51)/3 + 2]\n",
      "\n",
      "\n",
      "Maximum value is: 5.97872961893966\n",
      "The input for maximum value is: -sqrt(51)/3 + 2\n"
     ]
    }
   ],
   "source": [
    "x = Symbol('x')                         ## defind x as a symbol \n",
    "func = x**3-6*x**2-5*x+5                ## define the function f(x)\n",
    "expr = diff(func,x)                     ## get the derative of the f(x)\n",
    "print('The derative of the function is:',expr)\n",
    "\n",
    "res = solve(expr)                       ## solve the d(f(x))\n",
    "print('the solution for x are:',res)\n",
    "\n",
    "res.extend([-5,5])                      ## we extend the list by add the max and min of x, in case they are the extrem\n",
    "maxlist=[func.subs(x,i) for i in res]   ## use list compression to plug in all solutions of x \n",
    "max_val = N(max(maxlist))\n",
    "max_val_imput = res[maxlist.index(max(maxlist))]\n",
    "\n",
    "print('\\n')\n",
    "print('Maximum value is:',max_val)\n",
    "print('The input for maximum value is:',max_val_imput)"
   ]
  },
  {
   "cell_type": "markdown",
   "metadata": {},
   "source": [
    "#### Q2: How large can xy be if we know $2x+y = 48?$"
   ]
  },
  {
   "cell_type": "code",
   "execution_count": 31,
   "metadata": {
    "collapsed": false
   },
   "outputs": [],
   "source": [
    "## set up the problem \n",
    "x,y = symbols('x y')\n",
    "constrain = 2*x+y-48\n",
    "func = x*y"
   ]
  },
  {
   "cell_type": "code",
   "execution_count": 44,
   "metadata": {
    "collapsed": false
   },
   "outputs": [
    {
     "name": "stdout",
     "output_type": "stream",
     "text": [
      "Max value is: [288]\n",
      "X input for max value is: [12]\n"
     ]
    }
   ],
   "source": [
    "y_s = solve(constrain,y)      # First solve y for x \n",
    "func_x=func.subs(y,y_s[0])    # use solved y to replace y in the expression \n",
    "expr = diff(func_x,x)         # get derative of the maximization function, in terms of x \n",
    "res = solve(expr)             # solve the function \n",
    "maxlist=[func_x.subs(x,i) for i in res]\n",
    "\n",
    "print('Max value is:', maxlist)\n",
    "print('X input for max value is:', res)"
   ]
  },
  {
   "cell_type": "markdown",
   "metadata": {},
   "source": [
    "#### Q3 :A painting is mounted on a wall. The bottom of the painting is 5 feet above eye level, and the top of the painting is 14 feet above eye level.If you stand directly underneath the painting, you cannot see it at all. Similarly, if you stand very far away, you cannot see it very well. At some distance away from the wall, the angle subtended by the painting, whose vertex is your eye, is maximized.How far away must you stand from the wall to achieve this maximal viewing angle?"
   ]
  },
  {
   "cell_type": "code",
   "execution_count": 45,
   "metadata": {
    "collapsed": false
   },
   "outputs": [
    {
     "name": "stdout",
     "output_type": "stream",
     "text": [
      "The result is : sqrt(70)\n"
     ]
    }
   ],
   "source": [
    "x = Symbol('x')\n",
    "func = atan(14/x)-atan(5/x)\n",
    "diff_func= diff(func,x)\n",
    "res = solve(diff_func)\n",
    "# because x>0 so we need to pick the smaller one\n",
    "print ('The result is : ' + str(res[1]))"
   ]
  },
  {
   "cell_type": "markdown",
   "metadata": {},
   "source": [
    "#### Q4:shorest distance between a point and a circle\n",
    "\n",
    "You are building a new house on a cartesian plane whose units are measured in miles.\n",
    "Your house is to be located at the point (4,0). Unfortunately, the\n",
    "existing gas line follows the curve $y=\\sqrt{17x^2+7x+10}$.\n",
    "It costs 300 dollars per mile to install new pipe connecting your house to the existing line.\n",
    "What is the least amount of money you could pay to get hooked up to the system?"
   ]
  },
  {
   "cell_type": "code",
   "execution_count": 48,
   "metadata": {
    "collapsed": false
   },
   "outputs": [
    {
     "name": "stdout",
     "output_type": "stream",
     "text": [
      "The result is :  25*sqrt(3742)\n"
     ]
    }
   ],
   "source": [
    "## so, say we have x, y in the circle, then use use x, y to minimize the distance to 4,0\n",
    "\n",
    "x = Symbol('x')\n",
    "func = (x-4)**2+17*x**2+7*x+10              #distance between x, y to 4,0\n",
    "diff_func= diff(func,x)\n",
    "res = solve(diff_func)\n",
    "dist = sqrt(func.subs(x,res[0]))\n",
    "# need to spend 400 per mile \n",
    "print ('The result is : ',str(dist*300))"
   ]
  },
  {
   "cell_type": "code",
   "execution_count": null,
   "metadata": {
    "collapsed": true
   },
   "outputs": [],
   "source": []
  }
 ],
 "metadata": {
  "anaconda-cloud": {},
  "kernelspec": {
   "display_name": "Python [conda env:py35]",
   "language": "python",
   "name": "conda-env-py35-py"
  },
  "language_info": {
   "codemirror_mode": {
    "name": "ipython",
    "version": 3
   },
   "file_extension": ".py",
   "mimetype": "text/x-python",
   "name": "python",
   "nbconvert_exporter": "python",
   "pygments_lexer": "ipython3",
   "version": "3.5.2"
  }
 },
 "nbformat": 4,
 "nbformat_minor": 1
}
