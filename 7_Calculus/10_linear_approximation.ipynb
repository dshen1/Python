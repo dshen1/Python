{
 "cells": [
  {
   "cell_type": "markdown",
   "metadata": {},
   "source": [
    "## Calculus - Linear Approximiation"
   ]
  },
  {
   "cell_type": "code",
   "execution_count": 23,
   "metadata": {
    "collapsed": true
   },
   "outputs": [],
   "source": [
    "from sympy import *\n",
    "import math\n",
    "import numpy as np\n",
    "from IPython.display import Image\n",
    "init_printing(use_latex=True)"
   ]
  },
  {
   "cell_type": "markdown",
   "metadata": {},
   "source": [
    "#### Q1: Consider the interval I=[8,9.2]. Break I into 4 subintervals of length 0.3: [8,8.3],[8.3,8.6],[8.6,8.9],[8.9,9.2].\n",
    "Suppose that\n",
    "f(8)=17,\n",
    "f′(8)=−4,\n",
    "f′(8.3)=−4.3,\n",
    "f′(8.6)=−4.2, and\n",
    "f′(8.9)=−4.8.\n",
    "What is the approximate value of f(9.2)?"
   ]
  },
  {
   "cell_type": "code",
   "execution_count": 21,
   "metadata": {
    "collapsed": false
   },
   "outputs": [
    {
     "name": "stdout",
     "output_type": "stream",
     "text": [
      "f(9.2) =  11.810000000000002\n"
     ]
    }
   ],
   "source": [
    "d_f=[-4,-4.3,-4.2,-4.8]\n",
    "step_size = 0.3\n",
    "x = np.arange(8,9.2,step_size)\n",
    "i=8\n",
    "ini_x = 17\n",
    "counter = 0 \n",
    "while i < 9:\n",
    "    ini_x += 0.3*d_f[counter]\n",
    "    i += 0.3\n",
    "    counter += 1 \n",
    "print ('f(9.2) = ',ini_x)"
   ]
  },
  {
   "cell_type": "markdown",
   "metadata": {},
   "source": [
    "#### Q1: (2) \n",
    "You are interested in the function f which satisfies the differential equation $f′(x)=0.5x+0.5f(x)$ and which satisfies\n",
    "$f(0)=2$.\n",
    "Use repeated linear approximation (otherwise known as Euler's Method) to approximate the value of this function at $x=2$\n",
    "using a step size of $1/2$."
   ]
  },
  {
   "cell_type": "code",
   "execution_count": 62,
   "metadata": {
    "collapsed": false
   },
   "outputs": [
    {
     "data": {
      "image/png": "[encoded data removed]",
      "text/latex": [
       "$$5.765625$$"
      ],
      "text/plain": [
       "5.76562500000000"
      ]
     },
     "execution_count": 62,
     "metadata": {},
     "output_type": "execute_result"
    }
   ],
   "source": [
    "x,f= symbols('x f')      \n",
    "d_f = 0.5*x+0.5*f\n",
    "\n",
    "step_size = 0.5\n",
    "f0=2\n",
    "for i in np.arange(0,2,step_size):\n",
    "    df = d_f.subs({x:i,f:f0})\n",
    "    f0 = f0+step_size*df\n",
    "f0"
   ]
  },
  {
   "cell_type": "markdown",
   "metadata": {
    "collapsed": false
   },
   "source": [
    "### Newton's Method"
   ]
  },
  {
   "cell_type": "markdown",
   "metadata": {},
   "source": [
    "In numerical analysis, Newton's method (also known as the Newton–Raphson method), named after Isaac Newton and Joseph Raphson, is a method for finding successively better approximations to the roots (or zeroes) of a real-valued function.\n",
    "\n",
    "$$ x:f(x)=0$$\n",
    "The Newton–Raphson method in one variable is implemented as follows:\n",
    "\n",
    "The method starts with a function f defined over the real numbers x, the function's derivative f', and an initial guess x0 for a root of the function f. If the function satisfies the assumptions made in the derivation of the formula and the initial guess is close, then a better approximation x1 is\n",
    "\n",
    "$$x_1=x_0-f(x_0)/f'(x_0)$$ $$x_{n+1}=x_n-f(x_n)/f'(x_n)$$.\n",
    "\n",
    "<img src=\"pic/newtown.PNG\">"
   ]
  },
  {
   "cell_type": "markdown",
   "metadata": {
    "collapsed": true
   },
   "source": [
    "#### Q2: Consider the polynomial $f(x)=−4x^3−2x^2−2x−3$. Since $f(−2)=25$ and $f(0)=−3$, we know by the intermediate value theorem that f has a root between these two points. Let $x_0=−2$ in Newton's method. Calculate $x_2$."
   ]
  },
  {
   "cell_type": "code",
   "execution_count": 47,
   "metadata": {
    "collapsed": false
   },
   "outputs": [
    {
     "name": "stdout",
     "output_type": "stream",
     "text": [
      "The derative of the function is: -12*x**2 - 4*x - 2\n",
      "The reuslt is: -0.888022717514269\n"
     ]
    }
   ],
   "source": [
    "x = Symbol('x')                            ##defind x as a symbol \n",
    "func = -4*x**3-2*x**2-2*x-3                ## define the function f(x)\n",
    "expr = diff(func,x)                        ## get the derative of the f(x)\n",
    "gradient = func/expr\n",
    "print('The derative of the function is:',expr)\n",
    "\n",
    "## set up iterations and initial values \n",
    "x0 = -2 \n",
    "iteration = 10                             ## it prety much converges at 5 iters  \n",
    "xn=x0\n",
    "\n",
    "## run the newtown method iterations \n",
    "for n in range(iteration):\n",
    "    xn1 = xn - gradient                   ## newtown's method formula \n",
    "    xn1 = N(xn1.subs(x,xn))\n",
    "    xn= xn1\n",
    "    \n",
    "print('The reuslt is:',N(xn))"
   ]
  },
  {
   "cell_type": "code",
   "execution_count": null,
   "metadata": {
    "collapsed": false
   },
   "outputs": [],
   "source": []
  },
  {
   "cell_type": "code",
   "execution_count": null,
   "metadata": {
    "collapsed": false
   },
   "outputs": [],
   "source": []
  },
  {
   "cell_type": "code",
   "execution_count": null,
   "metadata": {
    "collapsed": true
   },
   "outputs": [],
   "source": []
  }
 ],
 "metadata": {
  "anaconda-cloud": {},
  "kernelspec": {
   "display_name": "Python [conda env:py35]",
   "language": "python",
   "name": "conda-env-py35-py"
  },
  "language_info": {
   "codemirror_mode": {
    "name": "ipython",
    "version": 3
   },
   "file_extension": ".py",
   "mimetype": "text/x-python",
   "name": "python",
   "nbconvert_exporter": "python",
   "pygments_lexer": "ipython3",
   "version": "3.5.2"
  }
 },
 "nbformat": 4,
 "nbformat_minor": 1
}
