{
 "cells": [
  {
   "cell_type": "markdown",
   "metadata": {},
   "source": [
    "## Calculus - Antidifferentation"
   ]
  },
  {
   "cell_type": "code",
   "execution_count": 2,
   "metadata": {
    "collapsed": true
   },
   "outputs": [],
   "source": [
    "from sympy import *\n",
    "import math\n",
    "import numpy as np\n",
    "from IPython.display import Image\n",
    "init_printing(use_latex=True)"
   ]
  },
  {
   "cell_type": "markdown",
   "metadata": {},
   "source": [
    "### Anti-differentation\n",
    "Anti-differentiation or integration is the reverse process to differentiation. For example, if\n",
    "$f'(x)$ = 2x, we know that this is the derivative of $f(x) = x^2+c$ (where c is an arbitrary constant).\n",
    "\n",
    "#### Definition\n",
    "A function $F(x)$ is called an antiderivative of $f(x)$ on an interval if\n",
    "$$F′(x) = f (x)$$\n",
    "for all $x$ in the interval.\n",
    "\n",
    "#### The antiderivative is denoted by\n",
    "$$\\int f(x)dx = F(x) + C$$,\n",
    "where dx identifies x as the variable and C is a constant indicating that there\n",
    "are many possible antiderivatives, each varying by the addition of a constant.\n",
    "This is often called the indefinite integral.\n",
    "\n",
    "<img src='pic/Antiderivatives.PNG'>"
   ]
  },
  {
   "cell_type": "markdown",
   "metadata": {},
   "source": [
    "#### Q1 Find $\\int (−5x3+10x2+8x+8)dx$. Your answer should include +C."
   ]
  },
  {
   "cell_type": "code",
   "execution_count": 110,
   "metadata": {
    "collapsed": false
   },
   "outputs": [
    {
     "data": {
      "image/png": "[encoded data removed]",
      "text/latex": [
       "$$c - \\frac{5 x^{4}}{4} + \\frac{10 x^{3}}{3} + 4 x^{2} + 8 x$$"
      ],
      "text/plain": [
       "       4       3             \n",
       "    5⋅x    10⋅x       2      \n",
       "c - ──── + ───── + 4⋅x  + 8⋅x\n",
       "     4       3               "
      ]
     },
     "execution_count": 110,
     "metadata": {},
     "output_type": "execute_result"
    }
   ],
   "source": [
    "## find the antiderivatives in python \n",
    "x,c = symbols('x c')\n",
    "func = -5*x**3+10*x**2 + 8*x +8       # define a function \n",
    "g =integrate(func) + c                    # find the antiderivative for that function \n",
    "\n",
    "g                                     # antiderivative = g + C "
   ]
  },
  {
   "cell_type": "markdown",
   "metadata": {},
   "source": [
    "#### Q2 Let a:R→R be the function given by $a(t)=6t$, and suppose p:R→R is a twice differentiable function with the property that that $p′′(t)=a(t)$. If $p′(1)=4$ and $p(1)=4$, what is $p(2)$?"
   ]
  },
  {
   "cell_type": "code",
   "execution_count": 108,
   "metadata": {
    "collapsed": false
   },
   "outputs": [
    {
     "data": {
      "image/png": "[encoded data removed]",
      "text/latex": [
       "$$12$$"
      ],
      "text/plain": [
       "12"
      ]
     },
     "execution_count": 108,
     "metadata": {},
     "output_type": "execute_result"
    }
   ],
   "source": [
    "x,c,d = symbols('x c d')\n",
    "func = 6*x       # define a function \n",
    "f_1 =integrate(func,x) + c                  # find the antiderivative for that function \n",
    "f_2 = integrate(f_1,x) + d\n",
    "fx = f_2\n",
    "\n",
    "f_1=f_1.subs(x,1)-4                         # use know information p′(1)=4 and   p(1)=4 to solve c and d \n",
    "f_2=f_2.subs(x,1)-4\n",
    "res=solve([f_1,f_2],(c,d))\n",
    "\n",
    "fx = fx.subs({c:res[c],d:res[d]})\n",
    "fx.subs(x,2)                                # plug in x = 2 "
   ]
  }
 ],
 "metadata": {
  "anaconda-cloud": {},
  "kernelspec": {
   "display_name": "Python [conda env:py35]",
   "language": "python",
   "name": "conda-env-py35-py"
  },
  "language_info": {
   "codemirror_mode": {
    "name": "ipython",
    "version": 3
   },
   "file_extension": ".py",
   "mimetype": "text/x-python",
   "name": "python",
   "nbconvert_exporter": "python",
   "pygments_lexer": "ipython3",
   "version": "3.5.2"
  }
 },
 "nbformat": 4,
 "nbformat_minor": 1
}
