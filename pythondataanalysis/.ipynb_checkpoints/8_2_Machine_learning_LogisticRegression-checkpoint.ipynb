{
 "cells": [
  {
   "cell_type": "code",
   "execution_count": 3,
   "metadata": {
    "collapsed": false
   },
   "outputs": [],
   "source": [
    "########################\n",
    "# Logistic Regression ##\n",
    "########################\n",
    "import numpy as np\n",
    "import pandas as pd\n",
    "from pandas import Series, DataFrame\n",
    "import math\n",
    "import matplotlib.pyplot as plt\n",
    "import seaborn as sns\n",
    "sns.set_style('whitegrid')\n",
    "%matplotlib inline\n",
    "from sklearn.linear_model import LogisticRegression\n",
    "from sklearn.cross_validation import train_test_split\n",
    "from sklearn import metrics\n",
    "import statsmodels.api as sm"
   ]
  },
  {
   "cell_type": "code",
   "execution_count": 4,
   "metadata": {
    "collapsed": true
   },
   "outputs": [
    {
     "data": {
      "text/plain": [
       "<matplotlib.text.Text at 0x7fed2c439b50>"
      ]
     },
     "execution_count": 4,
     "metadata": {},
     "output_type": "execute_result"
    },
    {
     "data": {
      "image/png": "[encoded data removed]",
      "text/plain": [
       "<matplotlib.figure.Figure at 0x7fed2dbd1f10>"
      ]
     },
     "metadata": {},
     "output_type": "display_data"
    }
   ],
   "source": [
    "##############################\n",
    "## plot logistic regression ##\n",
    "\n",
    "def logistic(t):\n",
    "    return 1.0/(1+math.exp((-1.0)*t))\n",
    "t = np.linspace(-6,6,500)                 #generate an array of -6 to 6\n",
    "y=np.array([logistic(ele) for ele in t])  #apply logistic function to each element\n",
    "plt.plot(t,y)                             #plot other function \n",
    "plt.title('Logistic Function')"
   ]
  },
  {
   "cell_type": "code",
   "execution_count": 7,
   "metadata": {
    "collapsed": false
   },
   "outputs": [
    {
     "data": {
      "text/html": [
       "<div>\n",
       "<table border=\"1\" class=\"dataframe\">\n",
       "  <thead>\n",
       "    <tr style=\"text-align: right;\">\n",
       "      <th></th>\n",
       "      <th>rate_marriage</th>\n",
       "      <th>age</th>\n",
       "      <th>yrs_married</th>\n",
       "      <th>children</th>\n",
       "      <th>religious</th>\n",
       "      <th>educ</th>\n",
       "      <th>occupation</th>\n",
       "      <th>occupation_husb</th>\n",
       "      <th>affairs</th>\n",
       "    </tr>\n",
       "  </thead>\n",
       "  <tbody>\n",
       "    <tr>\n",
       "      <th>0</th>\n",
       "      <td>3.0</td>\n",
       "      <td>32.0</td>\n",
       "      <td>9.0</td>\n",
       "      <td>3.0</td>\n",
       "      <td>3.0</td>\n",
       "      <td>17.0</td>\n",
       "      <td>2.0</td>\n",
       "      <td>5.0</td>\n",
       "      <td>0.111111</td>\n",
       "    </tr>\n",
       "    <tr>\n",
       "      <th>1</th>\n",
       "      <td>3.0</td>\n",
       "      <td>27.0</td>\n",
       "      <td>13.0</td>\n",
       "      <td>3.0</td>\n",
       "      <td>1.0</td>\n",
       "      <td>14.0</td>\n",
       "      <td>3.0</td>\n",
       "      <td>4.0</td>\n",
       "      <td>3.230769</td>\n",
       "    </tr>\n",
       "    <tr>\n",
       "      <th>2</th>\n",
       "      <td>4.0</td>\n",
       "      <td>22.0</td>\n",
       "      <td>2.5</td>\n",
       "      <td>0.0</td>\n",
       "      <td>1.0</td>\n",
       "      <td>16.0</td>\n",
       "      <td>3.0</td>\n",
       "      <td>5.0</td>\n",
       "      <td>1.400000</td>\n",
       "    </tr>\n",
       "    <tr>\n",
       "      <th>3</th>\n",
       "      <td>4.0</td>\n",
       "      <td>37.0</td>\n",
       "      <td>16.5</td>\n",
       "      <td>4.0</td>\n",
       "      <td>3.0</td>\n",
       "      <td>16.0</td>\n",
       "      <td>5.0</td>\n",
       "      <td>5.0</td>\n",
       "      <td>0.727273</td>\n",
       "    </tr>\n",
       "    <tr>\n",
       "      <th>4</th>\n",
       "      <td>5.0</td>\n",
       "      <td>27.0</td>\n",
       "      <td>9.0</td>\n",
       "      <td>1.0</td>\n",
       "      <td>1.0</td>\n",
       "      <td>14.0</td>\n",
       "      <td>3.0</td>\n",
       "      <td>4.0</td>\n",
       "      <td>4.666666</td>\n",
       "    </tr>\n",
       "  </tbody>\n",
       "</table>\n",
       "</div>"
      ],
      "text/plain": [
       "   rate_marriage   age  yrs_married  children  religious  educ  occupation  \\\n",
       "0            3.0  32.0          9.0       3.0        3.0  17.0         2.0   \n",
       "1            3.0  27.0         13.0       3.0        1.0  14.0         3.0   \n",
       "2            4.0  22.0          2.5       0.0        1.0  16.0         3.0   \n",
       "3            4.0  37.0         16.5       4.0        3.0  16.0         5.0   \n",
       "4            5.0  27.0          9.0       1.0        1.0  14.0         3.0   \n",
       "\n",
       "   occupation_husb   affairs  \n",
       "0              5.0  0.111111  \n",
       "1              4.0  3.230769  \n",
       "2              5.0  1.400000  \n",
       "3              5.0  0.727273  \n",
       "4              4.0  4.666666  "
      ]
     },
     "execution_count": 7,
     "metadata": {},
     "output_type": "execute_result"
    }
   ],
   "source": [
    "######### import sample data set\n",
    "df=sm.datasets.fair.load_pandas().data  #Affairs dataset\n",
    "df.head()\n",
    "#     rate_marriage   : How rate marriage, 1 = very poor, 2 = poor, 3 = fair,\n",
    "#                     4 = good, 5 = very good\n",
    "#     age             : Age\n",
    "#     yrs_married     : No. years married. Interval approximations. See\n",
    "#                     original paper for detailed explanation.\n",
    "#     children        : No. children\n",
    "#     religious       : How relgious, 1 = not, 2 = mildly, 3 = fairly,\n",
    "#                     4 = strongly\n",
    "#     educ            : Level of education, 9 = grade school, 12 = high\n",
    "#                     school, 14 = some college, 16 = college graduate,\n",
    "#                     17 = some graduate school, 20 = advanced degree\n",
    "#     occupation      : 1 = student, 2 = farming, agriculture; semi-skilled,\n",
    "#                     or unskilled worker; 3 = white-colloar; 4 = teacher\n",
    "#                     counselor social worker, nurse; artist, writers;\n",
    "#                     technician, skilled worker, 5 = managerial,\n",
    "#                     administrative, business, 6 = professional with\n",
    "#                     advanced degree\n",
    "#     occupation_husb : Husband's occupation. Same as occupation.\n",
    "#     affairs         : measure of time spent in extramarital affairs"
   ]
  },
  {
   "cell_type": "code",
   "execution_count": 18,
   "metadata": {
    "collapsed": true
   },
   "outputs": [
    {
     "name": "stdout",
     "output_type": "stream",
     "text": [
      "            rate_marriage        age  yrs_married  children  religious  \\\n",
      "Had_Affair                                                               \n",
      "0                4.329701  28.390679     7.989335  1.238813   2.504521   \n",
      "1                3.647345  30.537019    11.152460  1.728933   2.261568   \n",
      "\n",
      "                 educ  occupation  occupation_husb   affairs  \n",
      "Had_Affair                                                    \n",
      "0           14.322977    3.405286         3.833758  0.000000  \n",
      "1           13.972236    3.463712         3.884559  2.187243  \n"
     ]
    },
    {
     "data": {
      "text/plain": [
       "<seaborn.axisgrid.FacetGrid at 0x7fed29d08610>"
      ]
     },
     "execution_count": 18,
     "metadata": {},
     "output_type": "execute_result"
    },
    {
     "data": {
      "image/png": "[encoded data removed]",
      "text/plain": [
       "<matplotlib.figure.Figure at 0x7fed2c401d50>"
      ]
     },
     "metadata": {},
     "output_type": "display_data"
    }
   ],
   "source": [
    "## recode affairs to be 0 or 1\n",
    "def affair_check(x):\n",
    "    if x != 0:\n",
    "        return 1 \n",
    "    else:\n",
    "        return 0 \n",
    "df['Had_Affair'] = df['affairs'].apply(affair_check)     # recode had affair to be 0 or 1 \n",
    "print df.groupby('Had_Affair').mean()                    # show mean of all variables group by had_affair\n",
    "sns.factorplot('age',kind='count',data=df,hue='Had_Affair',palette='coolwarm')  #plot the distribution"
   ]
  },
  {
   "cell_type": "code",
   "execution_count": 37,
   "metadata": {
    "collapsed": false
   },
   "outputs": [
    {
     "data": {
      "text/plain": [
       "array([1, 1, 1, ..., 0, 0, 0])"
      ]
     },
     "execution_count": 37,
     "metadata": {},
     "output_type": "execute_result"
    }
   ],
   "source": [
    "### prepare data, create dummies for categorical data ####\n",
    "df_reg = df                                              # create a copy of the dataframe\n",
    "occ_dummies = pd.get_dummies(df['occupation'])           # create dummies based on occupation categories\n",
    "hus_occ_dummies = pd.get_dummies(df['occupation_husb'])  # create dummies based on occupation_husb\n",
    "occ_dummies.columns = ['occ1','occ2','occ3','occ4','occ5','occ6']\n",
    "hus_occ_dummies.columns = ['hocc1','hocc2','hocc3','hocc4','hocc5','hocc6']\n",
    "dummies = pd.concat([occ_dummies,hus_occ_dummies],axis = 1)             # concatnate two dummies dataframe\n",
    "X = df_reg.drop(['occupation','occupation_husb','Had_Affair'],axis=1)   # drop out categorical variables\n",
    "X = pd.concat([X,dummies],axis=1)\n",
    "####because of multicollinearity, we need to drop 1 variable for each dummy groups\n",
    "X= X.drop('occ1',axis=1)\n",
    "X = X.drop('hocc1',axis=1)\n",
    "## drop affair column, as we are treating had affair as y \n",
    "X = X.drop('affairs',axis=1)\n",
    "#make Had_Affair as Y variable\n",
    "Y = df.Had_Affair\n",
    "Y = np.ravel(Y)                            # make Y as (1,n) array \n",
    "Y"
   ]
  },
  {
   "cell_type": "code",
   "execution_count": 43,
   "metadata": {
    "collapsed": true
   },
   "outputs": [
    {
     "name": "stdout",
     "output_type": "stream",
     "text": [
      "0.726044612001\n",
      "0.322494502042\n",
      "                0                   1\n",
      "0   rate_marriage    [-0.69773901275]\n",
      "1             age  [-0.0563288132225]\n",
      "2     yrs_married    [0.103853116954]\n",
      "3        children   [0.0181065998304]\n",
      "4       religious   [-0.367989763576]\n",
      "5            educ  [0.00903270157738]\n",
      "6            occ2    [0.293793852647]\n",
      "7            occ3    [0.604549716995]\n",
      "8            occ4     [0.34183781875]\n",
      "9            occ5    [0.938970273528]\n",
      "10           occ6    [0.895723883821]\n",
      "11          hocc2    [0.233360797075]\n",
      "12          hocc3    [0.337371379495]\n",
      "13          hocc4    [0.202618150199]\n",
      "14          hocc5    [0.225526102484]\n",
      "15          hocc6    [0.228427968956]\n"
     ]
    }
   ],
   "source": [
    "#########################################\n",
    "####### run logistic regression #########\n",
    "#########################################\n",
    "\n",
    "log_model = LogisticRegression()\n",
    "log_model.fit(X,Y)\n",
    "#the score is the accuracy rating\n",
    "print log_model.score(X,Y)                     \n",
    "print Y.mean()\n",
    "##look at the coefficients\n",
    "coeff_df = DataFrame(zip(X.columns,np.transpose(log_model.coef_)))\n",
    "print coeff_df"
   ]
  },
  {
   "cell_type": "code",
   "execution_count": 49,
   "metadata": {
    "collapsed": false
   },
   "outputs": [
    {
     "name": "stdout",
     "output_type": "stream",
     "text": [
      "0.717964824121\n"
     ]
    }
   ],
   "source": [
    "######################################\n",
    "## Use Testing and Training Data sets#\n",
    "\n",
    "X_train,X_test, Y_train, Y_test = train_test_split(X,Y)\n",
    "log_model2=LogisticRegression()\n",
    "log_model2.fit(X_train,Y_train)\n",
    "## use predict to evaluate model \n",
    "class_predict = log_model2.predict(X_test)\n",
    "print metrics.accuracy_score(Y_test,class_predict)  #the accuracy of our prediction\n",
    "\n"
   ]
  }
 ],
 "metadata": {
  "kernelspec": {
   "display_name": "Python 2",
   "language": "python",
   "name": "python2"
  },
  "language_info": {
   "codemirror_mode": {
    "name": "ipython",
    "version": 2
   },
   "file_extension": ".py",
   "mimetype": "text/x-python",
   "name": "python",
   "nbconvert_exporter": "python",
   "pygments_lexer": "ipython2",
   "version": "2.7.11"
  }
 },
 "nbformat": 4,
 "nbformat_minor": 0
}
