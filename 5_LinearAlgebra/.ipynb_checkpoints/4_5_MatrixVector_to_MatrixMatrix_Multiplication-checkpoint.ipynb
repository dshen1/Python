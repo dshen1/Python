{
 "cells": [
  {
   "cell_type": "markdown",
   "metadata": {},
   "source": [
    "## 4 Matrix Vector to Matrix Matrix Multiplication"
   ]
  },
  {
   "cell_type": "code",
   "execution_count": 31,
   "metadata": {
    "collapsed": true
   },
   "outputs": [],
   "source": [
    "## import all the modules \n",
    "import numpy as np\n",
    "from numpy import linalg\n",
    "import math"
   ]
  },
  {
   "cell_type": "markdown",
   "metadata": {},
   "source": [
    "#### Motivation Problem: predicting wheter based on the whether today"
   ]
  },
  {
   "cell_type": "markdown",
   "metadata": {},
   "source": [
    "<img src=\"pic/4_1.PNG\">\n",
    "<img src=\"pic/4_2.PNG\">"
   ]
  },
  {
   "cell_type": "markdown",
   "metadata": {},
   "source": [
    "- #### So a system of equasions can be viewed as Matrix Vector multiplications \n",
    "\n",
    "#### Now, instead of forecast one day forward, we want to forecast 7 days forward or 365 days forward. How we do that?"
   ]
  },
  {
   "cell_type": "code",
   "execution_count": 23,
   "metadata": {
    "collapsed": false
   },
   "outputs": [
    {
     "data": {
      "text/plain": [
       "array([ 0.26315789,  0.42105263,  0.31578947])"
      ]
     },
     "execution_count": 23,
     "metadata": {},
     "output_type": "execute_result"
    }
   ],
   "source": [
    "# first, define the transformation matrix \n",
    "P = np.array([[0.4,0.3,0.1],\n",
    "            [0.4,0.3,0.6],\n",
    "            [0.2,0.4,0.3]])\n",
    "# assign the data for initial vector -- stands for the whether for today \n",
    "x0 = np.array([0,1,0])\n",
    "# how many iteration you want to compute \n",
    "N = 365\n",
    "# iterate through the calculation for however many days you want to forecast\n",
    "x_i = x0\n",
    "for i in range(N):\n",
    "    x_i = P.dot(x_i)\n",
    "x_i"
   ]
  },
  {
   "cell_type": "markdown",
   "metadata": {
    "collapsed": false
   },
   "source": [
    "### 5 Matrix  Matrix Multiplication \n",
    "\n",
    "- #### How it works:\n",
    "<img src=\"pic/4_4.PNG\">"
   ]
  },
  {
   "cell_type": "code",
   "execution_count": null,
   "metadata": {
    "collapsed": false
   },
   "outputs": [],
   "source": []
  },
  {
   "cell_type": "code",
   "execution_count": null,
   "metadata": {
    "collapsed": false
   },
   "outputs": [],
   "source": []
  },
  {
   "cell_type": "code",
   "execution_count": null,
   "metadata": {
    "collapsed": true
   },
   "outputs": [],
   "source": []
  },
  {
   "cell_type": "code",
   "execution_count": null,
   "metadata": {
    "collapsed": true
   },
   "outputs": [],
   "source": []
  }
 ],
 "metadata": {
  "anaconda-cloud": {},
  "kernelspec": {
   "display_name": "Python [conda env:py35]",
   "language": "python",
   "name": "conda-env-py35-py"
  },
  "language_info": {
   "codemirror_mode": {
    "name": "ipython",
    "version": 3
   },
   "file_extension": ".py",
   "mimetype": "text/x-python",
   "name": "python",
   "nbconvert_exporter": "python",
   "pygments_lexer": "ipython3",
   "version": "3.5.2"
  }
 },
 "nbformat": 4,
 "nbformat_minor": 1
}
