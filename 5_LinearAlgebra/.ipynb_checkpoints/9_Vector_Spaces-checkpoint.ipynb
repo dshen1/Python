{
 "cells": [
  {
   "cell_type": "markdown",
   "metadata": {},
   "source": [
    "## 9 Vector Spaces"
   ]
  },
  {
   "cell_type": "code",
   "execution_count": null,
   "metadata": {
    "collapsed": true
   },
   "outputs": [],
   "source": [
    "## import all the modules \n",
    "import numpy as np\n",
    "from numpy import linalg\n",
    "import math\n",
    "import scipy\n",
    "import scipy.linalg"
   ]
  },
  {
   "cell_type": "markdown",
   "metadata": {},
   "source": [
    "#### Motivatiing Problem "
   ]
  },
  {
   "cell_type": "markdown",
   "metadata": {},
   "source": [
    "<img src=\"pic/9_1.PNG\" height=\"70%\" width=\"100%\">\n",
    "<img src=\"pic/9_2.PNG\" height=\"70%\" width=\"100%\">"
   ]
  },
  {
   "cell_type": "markdown",
   "metadata": {},
   "source": [
    "#### Now the question is what if we have more euqation than we need, is it still solvable?\n",
    "<img src=\"pic/9_3.PNG\">"
   ]
  },
  {
   "cell_type": "markdown",
   "metadata": {},
   "source": [
    "### 9.2 When system of equations do not have a unique solution\n",
    "- #### No solutions:\n",
    "    - If Gaussian Elimination (or Gauss-Jordan elimination) introduces an inconsistent equation ($0 \\neq 0$), then the system of linear equations has no solution. \n",
    "- #### Many solutions:\n",
    "    - For instance what if we have a equation like this:\n",
    "    <img src=\"pic/9_4.PNG\">\n",
    "    #### after apply Gaussian elimination,\n",
    "    <img src=\"pic/9_5.PNG\">\n",
    "    - #### If Gaussian Elimination breaks down without introducing an inconsistent equation (0=0 is ok), then a infinite number of solutions exist.\n",
    "    "
   ]
  },
  {
   "cell_type": "markdown",
   "metadata": {},
   "source": [
    "### So, what is happening?\n",
    "<img src=\"pic/9_7.PNG\">"
   ]
  },
  {
   "cell_type": "markdown",
   "metadata": {},
   "source": [
    "### 9.3 Review of Sets"
   ]
  },
  {
   "cell_type": "markdown",
   "metadata": {},
   "source": [
    "- #### What is sets \n",
    "    - The integers 1,2,3 are a collection of three objects. The set formed by these three objects is given {1,2,3}. The size of the set is |{1,2,3}|=3.\n",
    "- #### Operations with sets\n",
    "    - Union: The union of two sets S and T is the set of all elements that are in S or in T. This union is denoted by $S \\cup T$.\n",
    "    - Intersection: the intersection of two sets S and T is the set of all elements that are in S and T. This is denoted by $S \\cap T$.\n",
    "    - Complement : The complement of set S with respect to set T is the set of all elements taht are in T but are not in S. This complement is denoted by $T \\text{ \\ } S$."
   ]
  },
  {
   "cell_type": "markdown",
   "metadata": {},
   "source": [
    "### 9.4 Vector Space"
   ]
  },
  {
   "cell_type": "markdown",
   "metadata": {},
   "source": [
    "#### The reason we talk about Vector Space is because a vector spaces have a very special property, that is a few vectors can describe an infinite number of vectors in that space.\n",
    "#### For our pusposes, a vector space is a subset, S, of $\\mathbb{R}^n$ with the following properties:\n",
    "- $0 \\in S$ (the zero vector of size n is in the set S)\n",
    "- if $v,w \\in S$ then $(v+w) \\in S$\n",
    "- if $\\alpha \\in \\mathbb{R} \\text{ and } v \\in S$ then $\\alpha v \\in S$\n",
    "#### \"S is closed under addition and scalar multiplication.\" It is also called a subset of  $\\mathbb{R}^n$"
   ]
  },
  {
   "cell_type": "markdown",
   "metadata": {
    "collapsed": true
   },
   "source": [
    "### 9.4.1: Column Space\n",
    "<img src=\"pic/9_8.PNG\">\n",
    "- #### Simply out, the defination of columan space of A is:$$C(A) = Span(a_0,a_1,...,a_{n-1})$$ where $a_n$ is columns of matrix A.\n",
    "<img src=\"pic/9_9.PNG\">\n",
    "<img src=\"pic/9_10.PNG\">\n",
    "#### Intuitively, what does this mean: \n",
    "- My understanding is that a if a vector is in a subspace, it mean that all elements of that vector follows certain relation that is defined in the subspace. So if b is in the subspace, mean b follow the constrain set by $Ax$, that is why it has a solution. "
   ]
  },
  {
   "cell_type": "markdown",
   "metadata": {
    "collapsed": true
   },
   "source": [
    "### 9.4.4 The Null Space\n",
    "#### Definition:\n",
    "- Let A $\\in \\mathbf{R}^{m \\times n}$. The set of all vectors $x \\in \\mathbf{R}^n$ that have the property that $Ax=0$ is called the null space of $A$.\n",
    "- Notateion: $$N(A) = \\{x|Ax=0\\}$$"
   ]
  },
  {
   "cell_type": "markdown",
   "metadata": {},
   "source": [
    "### 9.5 Span,Linear Independence, and Bases\n",
    "\n",
    "#### 9.5.1 Span:\n",
    "<img src=\"pic/9_11.PNG\" height=\"70%\" width=\"80%\">\n",
    "<img src=\"pic/9_12.PNG\" height=\"70%\" width=\"80%\">\n",
    "\n",
    "##### The idea is that we can identify a small set of vectors, and the linear combination of this set of vectors can represents the entire subspace. \n",
    "##### In this case, the solution for that equation is a plane, it that plane can be express as the linear combination of the two vectors. So we used two vectors to express an plane. "
   ]
  },
  {
   "cell_type": "markdown",
   "metadata": {},
   "source": [
    "#### 9.5.2 Linear Independence\n",
    "#### Definiation:\n",
    "- Let $\\{ a_0, ... , a_{n-1} \\} \\subset \\mathbb{R}^m$ and let $A= (a_0|...|a_{n-1})$. Then the vectors $\\{a_0,...,a_{n-1} \\}$ are linearly independent if and only if $N(A)=\\{0\\}$\n",
    "- Proof:\n",
    "<img src = \"pic/9_13.PNG\" height=\"100%\" width=\"100%\">\n",
    "\n",
    "\n",
    "- So what does this mean?: it is saying that if one of those vectors in the set can be express as linear combination of other vectotrs. This means that that particular vector does not add any dimentionality to the system. So the set is called linearly dependent set. \n",
    "\n",
    "##### - example of linearly dependent system to represent $R^3$: \n",
    "<img src = \"pic/9_21.PNG\" height=\"60%\" width=\"60%\">\n",
    "##### - example of linearly independent system to represent $R^3$: note, they don't have to be orthogonal\n",
    "<img src = \"pic/9_22.PNG\" height=\"40%\" width=\"40%\">"
   ]
  },
  {
   "cell_type": "markdown",
   "metadata": {},
   "source": [
    "#### 9.5.2 Bases for subspace\n",
    "##### Definiation:\n",
    "- Let $S$ be a subspace of $\\mathbb{R}^m$. Then the set $\\{v_0.v_1,...,v_{n-1}\\}$ is said to be a basis for S if(1)$\\{v_0,v_1,...,v_{n-1} \\}$ are linearly independent and (2) Span $\\{v_0,v_1,...,_v{n-1}\\}=S$ "
   ]
  },
  {
   "cell_type": "markdown",
   "metadata": {},
   "source": [
    "#### Some properties:\n",
    "- Let $S \\subset \\mathbb{R}^m$. Then $S$ contains at most $m$ linearly independent vectors  --- this means you can not have more variables than your equations \n",
    "- Every nontrivial subspace of $\\mathbb{R}^m$ has a basis. \n",
    "- This basis is not unique. \n",
    "- The number of vectors in a basis for a  given subspace is always the same.\n",
    "\n",
    "- #### How to find the basis of a matrix A:\n",
    "    Transform matix A to be row-echolon form, find out the pivot columns, they are the basis of matrix A,\n",
    "    Look at this for detailed explaination : https://www.khanacademy.org/math/linear-algebra/vectors-and-spaces/null-column-space/v/showing-relation-between-basis-cols-and-pivot-cols\n",
    "\n",
    "### 9.5.3 Dimension:\n",
    "- This number then is the dimension of the subspace\n",
    "- A basis is a spanning set with minimum number of vectors \n",
    "- The dimension of a subspace S equals the number of vectors in a basis for that subspace.\n",
    "\n",
    "<img src=\"pic/9_14.PNG\">\n",
    "\n",
    "### Matrix $A^{m \\times n}$ is full rank if the rand of A is n. --- rank(A)=n.\n",
    "### Matrix A can be invertable, only if A is full rank."
   ]
  },
  {
   "cell_type": "code",
   "execution_count": null,
   "metadata": {
    "collapsed": true
   },
   "outputs": [],
   "source": []
  }
 ],
 "metadata": {
  "anaconda-cloud": {},
  "kernelspec": {
   "display_name": "Python [conda env:py35]",
   "language": "python",
   "name": "conda-env-py35-py"
  },
  "language_info": {
   "codemirror_mode": {
    "name": "ipython",
    "version": 3
   },
   "file_extension": ".py",
   "mimetype": "text/x-python",
   "name": "python",
   "nbconvert_exporter": "python",
   "pygments_lexer": "ipython3",
   "version": "3.5.2"
  }
 },
 "nbformat": 4,
 "nbformat_minor": 1
}
