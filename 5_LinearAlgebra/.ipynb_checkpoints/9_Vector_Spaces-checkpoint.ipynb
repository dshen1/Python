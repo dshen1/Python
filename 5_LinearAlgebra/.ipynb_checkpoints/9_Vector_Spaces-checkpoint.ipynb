{
 "cells": [
  {
   "cell_type": "markdown",
   "metadata": {},
   "source": [
    "## 9 Vector Spaces"
   ]
  },
  {
   "cell_type": "code",
   "execution_count": null,
   "metadata": {
    "collapsed": true
   },
   "outputs": [],
   "source": [
    "## import all the modules \n",
    "import numpy as np\n",
    "from numpy import linalg\n",
    "import math\n",
    "import scipy\n",
    "import scipy.linalg"
   ]
  },
  {
   "cell_type": "markdown",
   "metadata": {},
   "source": [
    "#### Motivatiing Problem "
   ]
  },
  {
   "cell_type": "markdown",
   "metadata": {},
   "source": [
    "<img src=\"pic/9_1.PNG\" height=\"70%\" width=\"70%\">\n",
    "<img src=\"pic/9_2.PNG\" height=\"70%\" width=\"70%\">"
   ]
  },
  {
   "cell_type": "markdown",
   "metadata": {},
   "source": [
    "#### Now the question is what if we have more euqation than we need, is it still solvable?\n",
    "<img src=\"pic/9_3.PNG\">"
   ]
  },
  {
   "cell_type": "markdown",
   "metadata": {},
   "source": [
    "### 9.2 When system of equations do not have a unique solution\n",
    "- #### No solutions:\n",
    "    - If Gaussian Elimination (or Gauss-Jordan elimination) introduces an inconsistent equation ($0 \\neq 0$), then the system of linear equations has no solution. \n",
    "- #### Many solutions:\n",
    "    - For instance what if we have a equation like this:\n",
    "    <img src=\"pic/9_4.PNG\">\n",
    "    #### after apply Gaussian elimination,\n",
    "    <img src=\"pic/9_5.PNG\">\n",
    "    - #### If Gaussian Elimination breaks down without introducing an inconsistent equation (0=0 is ok), then a infinite number of solutions exist.\n",
    "    "
   ]
  },
  {
   "cell_type": "markdown",
   "metadata": {},
   "source": [
    "### So, what is happening?\n",
    "<img src=\"pic/9_7.PNG\">"
   ]
  },
  {
   "cell_type": "markdown",
   "metadata": {},
   "source": [
    "### 9.3 Review of Sets"
   ]
  },
  {
   "cell_type": "markdown",
   "metadata": {},
   "source": [
    "- #### What is sets \n",
    "    - The integers 1,2,3 are a collection of three objects. The set formed by these three objects is given {1,2,3}. The size of the set is |{1,2,3}|=3.\n",
    "- #### Operations with sets\n",
    "    - Union: The union of two sets S and T is the set of all elements that are in S or in T. This union is denoted by $S \\cup T$.\n",
    "    - Intersection: the intersection of two sets S and T is the set of all elements that are in S and T. This is denoted by $S \\cap T$.\n",
    "    - Complement : The complement of set S with respect to set T is the set of all elements taht are in T but are not in S. This complement is denoted by $T \\text{ \\ } S$."
   ]
  },
  {
   "cell_type": "markdown",
   "metadata": {},
   "source": [
    "### 9.4 Vector Space"
   ]
  },
  {
   "cell_type": "code",
   "execution_count": null,
   "metadata": {
    "collapsed": true
   },
   "outputs": [],
   "source": []
  },
  {
   "cell_type": "code",
   "execution_count": null,
   "metadata": {
    "collapsed": true
   },
   "outputs": [],
   "source": []
  },
  {
   "cell_type": "code",
   "execution_count": null,
   "metadata": {
    "collapsed": true
   },
   "outputs": [],
   "source": []
  }
 ],
 "metadata": {
  "kernelspec": {
   "display_name": "Python [conda env:py35]",
   "language": "python",
   "name": "conda-env-py35-py"
  },
  "language_info": {
   "codemirror_mode": {
    "name": "ipython",
    "version": 3
   },
   "file_extension": ".py",
   "mimetype": "text/x-python",
   "name": "python",
   "nbconvert_exporter": "python",
   "pygments_lexer": "ipython3",
   "version": "3.5.2"
  }
 },
 "nbformat": 4,
 "nbformat_minor": 1
}
