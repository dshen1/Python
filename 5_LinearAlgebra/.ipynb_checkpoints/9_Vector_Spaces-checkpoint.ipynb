{
 "cells": [
  {
   "cell_type": "markdown",
   "metadata": {},
   "source": [
    "## 9 Vector Spaces"
   ]
  },
  {
   "cell_type": "code",
   "execution_count": null,
   "metadata": {
    "collapsed": true
   },
   "outputs": [],
   "source": [
    "## import all the modules \n",
    "import numpy as np\n",
    "from numpy import linalg\n",
    "import math\n",
    "import scipy\n",
    "import scipy.linalg"
   ]
  },
  {
   "cell_type": "markdown",
   "metadata": {},
   "source": [
    "#### Motivatiing Problem "
   ]
  },
  {
   "cell_type": "markdown",
   "metadata": {},
   "source": [
    "<img src=\"pic/9_1.PNG\" height=\"70%\" width=\"70%\">\n",
    "<img src=\"pic/9_2.PNG\" height=\"70%\" width=\"70%\">"
   ]
  },
  {
   "cell_type": "markdown",
   "metadata": {},
   "source": [
    "#### Now the question is what if we have more euqation than we need, is it still solvable?\n",
    "<img src=\"pic/9_3.PNG\">"
   ]
  },
  {
   "cell_type": "markdown",
   "metadata": {},
   "source": [
    "### 9.2 When system of equations do not have a unique solution\n",
    "- #### No solutions:\n",
    "    - If Gaussian Elimination (or Gauss-Jordan elimination) introduces an inconsistent equation ($0 \\neq 0$), then the system of linear equations has no solution. \n",
    "- #### Many solutions:\n",
    "    - For instance what if we have a equation like this:\n",
    "    <img src=\"pic/9_4.PNG\">\n",
    "    #### after apply Gaussian elimination,\n",
    "    <img src=\"pic/9_5.PNG\">\n",
    "    - #### If Gaussian Elimination breaks down without introducing an inconsistent equation (0=0 is ok), then a infinite number of solutions exist.\n",
    "    "
   ]
  },
  {
   "cell_type": "markdown",
   "metadata": {},
   "source": [
    "### So, what is happening?\n",
    "<img src=\"pic/9_7.PNG\">"
   ]
  },
  {
   "cell_type": "markdown",
   "metadata": {},
   "source": [
    "### 9.3 Review of Sets"
   ]
  },
  {
   "cell_type": "markdown",
   "metadata": {},
   "source": [
    "- #### What is sets \n",
    "    - The integers 1,2,3 are a collection of three objects. The set formed by these three objects is given {1,2,3}. The size of the set is |{1,2,3}|=3.\n",
    "- #### Operations with sets\n",
    "    - Union: The union of two sets S and T is the set of all elements that are in S or in T. This union is denoted by $S \\cup T$.\n",
    "    - Intersection: the intersection of two sets S and T is the set of all elements that are in S and T. This is denoted by $S \\cap T$.\n",
    "    - Complement : The complement of set S with respect to set T is the set of all elements taht are in T but are not in S. This complement is denoted by $T \\text{ \\ } S$."
   ]
  },
  {
   "cell_type": "markdown",
   "metadata": {},
   "source": [
    "### 9.4 Vector Space"
   ]
  },
  {
   "cell_type": "markdown",
   "metadata": {},
   "source": [
    "#### The reason we talk about Vector Space is because a vector spaces have a very special property, that is a few vectors can describe an infinite number of vectors in that space.\n",
    "#### For our pusposes, a vector space is a subset, S, of $\\mathbb{R}^n$ with the following properties:\n",
    "- $0 \\in S$ (the zero vector of size n is in the set S)\n",
    "- if $v,w \\in S$ then $(v+w) \\in S$\n",
    "- if $\\alpha \\in \\mathbb{R} \\text{ and } v \\in S$ then $\\alpha v \\in S$\n",
    "#### \"S is closed under addition and scalar multiplication.\""
   ]
  },
  {
   "cell_type": "markdown",
   "metadata": {
    "collapsed": true
   },
   "source": [
    "### Examples: Column Space\n",
    "<img src=\"pic/9_8.PNG\">\n",
    "<img src=\"pic/9_9.PNG\">\n",
    "<img src=\"pic/9_10.PNG\">"
   ]
  },
  {
   "cell_type": "markdown",
   "metadata": {
    "collapsed": true
   },
   "source": [
    "### 9.4.4 The Null Space\n",
    "#### Definition:\n",
    "- Let A $\\in \\mathbf{R}^{m \\times n}$. The set of all vectors $x \\in \\mathbf{R}^n$ that have the property that $Ax=0$ is called the null space of $A$.\n",
    "- Notateion: $$N(A) = \\{x|Ax=0\\}$$"
   ]
  },
  {
   "cell_type": "markdown",
   "metadata": {},
   "source": [
    "### 9.5 Span,Linear Independence, and Bases\n",
    "\n",
    "#### 9.5.1 Span:\n",
    "<img src=\"pic/9_11.PNG\" height=\"70%\" width=\"70%\">\n",
    "<img src=\"pic/9_12.PNG\" height=\"70%\" width=\"70%\">\n",
    "\n",
    "#### The idea is that we can identify a small set of vectors, and the linear combination of this set of vectors can represents the entire subspace. "
   ]
  },
  {
   "cell_type": "code",
   "execution_count": null,
   "metadata": {
    "collapsed": true
   },
   "outputs": [],
   "source": []
  }
 ],
 "metadata": {
  "anaconda-cloud": {},
  "kernelspec": {
   "display_name": "Python [conda env:py35]",
   "language": "python",
   "name": "conda-env-py35-py"
  },
  "language_info": {
   "codemirror_mode": {
    "name": "ipython",
    "version": 3
   },
   "file_extension": ".py",
   "mimetype": "text/x-python",
   "name": "python",
   "nbconvert_exporter": "python",
   "pygments_lexer": "ipython3",
   "version": "3.5.2"
  }
 },
 "nbformat": 4,
 "nbformat_minor": 1
}
