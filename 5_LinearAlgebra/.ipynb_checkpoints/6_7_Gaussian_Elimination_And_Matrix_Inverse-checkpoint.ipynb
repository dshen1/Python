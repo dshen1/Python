{
 "cells": [
  {
   "cell_type": "markdown",
   "metadata": {},
   "source": [
    "## 6 Gausian Elimination\n",
    "Solving system of equations "
   ]
  },
  {
   "cell_type": "code",
   "execution_count": 2,
   "metadata": {
    "collapsed": true
   },
   "outputs": [],
   "source": [
    "## import all the modules \n",
    "import numpy as np\n",
    "from numpy import linalg\n",
    "import math\n",
    "import scipy\n",
    "import scipy.linalg"
   ]
  },
  {
   "cell_type": "markdown",
   "metadata": {},
   "source": [
    "- #### A system of linear equations:\n",
    "$$2x_0 + 4x_1-2x_2 = -10$$\n",
    "$$4x_0 - 2x_1+6x_2=20$$\n",
    "$$6x_0 - 4 x_1 + 2x_2= 18$$\n",
    "\n",
    "- #### Gausian elimination (transform linear system of equations to an upper triangular system)\n",
    "\n",
    "    After gausian elimination:\n",
    "$$2x_0 + 4x_1-2x_2=-10$$\n",
    "$$-10x_1+10x_2=40$$\n",
    "$$-8x_2=-16$$\n",
    "\n",
    "    Then we can solve it:\n",
    "$x = \\begin{bmatrix}\n",
    "    1 \\\\\n",
    "    -2 \\\\\n",
    "    2 \n",
    "\\end{bmatrix}\n",
    "$"
   ]
  },
  {
   "cell_type": "markdown",
   "metadata": {},
   "source": [
    "- #### Now we think linear equations as Matrix and vector multiplication "
   ]
  },
  {
   "cell_type": "markdown",
   "metadata": {},
   "source": [
    "$$\n",
    "\\begin{bmatrix}\n",
    "    2&4&-2 \\\\\n",
    "    4&-2&6 \\\\\n",
    "    6&-4&2 \n",
    "\\end{bmatrix} \n",
    "\\times\n",
    "\\begin{bmatrix}\n",
    "    x_0 \\\\\n",
    "    x_1 \\\\\n",
    "    x_2 \n",
    "\\end{bmatrix} \n",
    "=\n",
    "\\begin{bmatrix}\n",
    "    -10 \\\\\n",
    "    20 \\\\\n",
    "    18 \n",
    "\\end{bmatrix} \n",
    "$$\n",
    "\n",
    "    And this can by transformed into an appended matrix:\n",
    "$$\n",
    "\\left[\n",
    "\\begin{array}{ccc|c}\n",
    "2 & 4 & -2 & 10 \\\\\n",
    "  & -10 & 10 & 40 \\\\\n",
    " &  & -8 & -16 \\\\\n",
    "\\end{array}\n",
    "\\right]\n",
    "$$\n",
    "\n",
    "We can further simplify the matrix to be:\n",
    "$$\n",
    "\\left[\n",
    "\\begin{array}{ccc|c}\n",
    "1 & 0 & 0 & 1 \\\\\n",
    "0  & 1 & 0 & -2 \\\\\n",
    "0 & 0 & 1 & 2 \\\\\n",
    "\\end{array}\n",
    "\\right]\n",
    "$$"
   ]
  },
  {
   "cell_type": "markdown",
   "metadata": {},
   "source": [
    "- #### Gaussian elimination in matrix form \n",
    "<img src=\"pic/6_1.PNG\">\n",
    "\n",
    "#### In practice, we can leave the right side along to begin with, transform the left side of the appended matrix, and then use the stored transformation to transform the right hand side in the end. "
   ]
  },
  {
   "cell_type": "markdown",
   "metadata": {},
   "source": [
    "### LU Decomposition to solve Ax=b"
   ]
  },
  {
   "cell_type": "markdown",
   "metadata": {},
   "source": [
    "<img src=\"pic/6_2.PNG\" height=\"70%\" width=\"70%\">"
   ]
  },
  {
   "cell_type": "code",
   "execution_count": 7,
   "metadata": {
    "collapsed": false
   },
   "outputs": [
    {
     "name": "stdout",
     "output_type": "stream",
     "text": [
      "A:\n",
      "[[ 7  3 -1  2]\n",
      " [ 3  8  1 -4]\n",
      " [-1  1  4 -1]\n",
      " [ 2 -4 -1  6]]\n",
      "P:\n",
      "[[ 1.  0.  0.  0.]\n",
      " [ 0.  1.  0.  0.]\n",
      " [ 0.  0.  1.  0.]\n",
      " [ 0.  0.  0.  1.]]\n",
      "L:\n",
      "[[ 1.          0.          0.          0.        ]\n",
      " [ 0.42857143  1.          0.          0.        ]\n",
      " [-0.14285714  0.21276596  1.          0.        ]\n",
      " [ 0.28571429 -0.72340426  0.08982036  1.        ]]\n",
      "U:\n",
      "[[ 7.          3.         -1.          2.        ]\n",
      " [ 0.          6.71428571  1.42857143 -4.85714286]\n",
      " [ 0.          0.          3.55319149  0.31914894]\n",
      " [ 0.          0.          0.          1.88622754]]\n"
     ]
    }
   ],
   "source": [
    "## LU deconposition in Python:\n",
    "## it is a process to make it easier to solve x \n",
    "\n",
    "A = np.array([ [7, 3, -1, 2], [3, 8, 1, -4], [-1, 1, 4, -1], [2, -4, -1, 6] ])\n",
    "P, L, U = scipy.linalg.lu(A)\n",
    "print (\"A:\")\n",
    "print(A)\n",
    "\n",
    "print (\"P:\")\n",
    "print(P)\n",
    "\n",
    "print (\"L:\")\n",
    "print(L)\n",
    "\n",
    "print (\"U:\")\n",
    "print(U)"
   ]
  },
  {
   "cell_type": "code",
   "execution_count": 8,
   "metadata": {
    "collapsed": false
   },
   "outputs": [
    {
     "data": {
      "text/plain": [
       "array([[ 7.,  3., -1.,  2.],\n",
       "       [ 3.,  8.,  1., -4.],\n",
       "       [-1.,  1.,  4., -1.],\n",
       "       [ 2., -4., -1.,  6.]])"
      ]
     },
     "execution_count": 8,
     "metadata": {},
     "output_type": "execute_result"
    }
   ],
   "source": [
    "## just to prove it is doing it right, LxU = A \n",
    "L.dot(U)"
   ]
  },
  {
   "cell_type": "markdown",
   "metadata": {},
   "source": [
    "- #### The problem now is that When can matrix A be decomposed? always ? only if it is a square? if it is a square, can it always be decomposed? "
   ]
  },
  {
   "cell_type": "markdown",
   "metadata": {},
   "source": [
    "## 7 Ax=b, When does it have a unique solution?"
   ]
  },
  {
   "cell_type": "markdown",
   "metadata": {},
   "source": [
    "   #### Inituation:\n",
    "<img src=\"pic/7_1.PNG\" width=\"50%\" height=\"50%\">\n",
    "\n",
    "   #### We can view each equasion as defining a plan in a 3D space. When three plans intercept in one point, we have a unique solution."
   ]
  },
  {
   "cell_type": "markdown",
   "metadata": {},
   "source": [
    "####  7.1 When it has unique solution\n",
    "- #### If Faussian elimination compolents with an upper triangular system that has no zero diagonal coefficients(LU factorization computes with L and U whrer U has no diagonal zero elements), then for all right-hand side vectors, b, the linear system Ax-b has a unique solution x."
   ]
  },
  {
   "cell_type": "markdown",
   "metadata": {},
   "source": [
    "#### When it fails\n",
    "- #### when U has zero elements in diagonal, the process we used befrore breaks down. since we are deviding a21 by zero. It is a problem of the algorism rather then the problem of the equasion. we can simply swap the order of the equation to solve it. \n",
    "\n",
    "- #### so when it happens, we will use permutation matrix to swap rows "
   ]
  },
  {
   "cell_type": "markdown",
   "metadata": {},
   "source": [
    "#### 7.2 Permutations:\n",
    "<img src=\"pic/7_3.PNG\">"
   ]
  },
  {
   "cell_type": "markdown",
   "metadata": {
    "collapsed": true
   },
   "source": [
    "- #### Now with the permutations matrix, when we encounter 0s in diaganal, we can easily swap row. In fact, the row swaping can be implemented in the algorism. "
   ]
  },
  {
   "cell_type": "markdown",
   "metadata": {},
   "source": [
    "#### 7.2.1 Example of no solution even with row swap"
   ]
  },
  {
   "cell_type": "markdown",
   "metadata": {},
   "source": [
    "- Given a system of linear equations:\n",
    "$$x_0 + 2x_1 + x_2 + x_3 = 8$$\n",
    "$$x_0 + 2x_1 + 2x_2 - x_4 = 12$$\n",
    "$$2x_0 - 4x_1 + 6x_3= 4$$\n",
    "\n",
    "- And this can by transformed into an appended matrix:\n",
    "$$\n",
    "\\left[\n",
    "\\begin{array}{cccc|c}\n",
    "1 & 2 & 1 & 1 & 8 \\\\\n",
    "1 & 2 & 2 & -1 & 12 \\\\\n",
    "2 & -4 & 0 & 6 & 4 \\\\\n",
    "\\end{array}\n",
    "\\right]\n",
    "$$\n",
    "-  Transform into row-echelon form:\n",
    "$$\n",
    "\\left[\n",
    "\\begin{array}{cccc|c}\n",
    "1 & 2 & 0 & 3 & 4 \\\\\n",
    "0 & 0 & 1 & -2 & 4 \\\\\n",
    "0 & 0 & 0 & 0 & 4 \\\\\n",
    "\\end{array}\n",
    "\\right]\n",
    "$$"
   ]
  },
  {
   "cell_type": "markdown",
   "metadata": {},
   "source": [
    "##### Now, the problem is in the third equation, 0 = 4, this will never happen, so the system has no solution. \n",
    "##### Visually, it mean that at least two of the plane are parellel to each other."
   ]
  },
  {
   "cell_type": "markdown",
   "metadata": {},
   "source": [
    "### 7.4  Determinant of a 2 x 2 matrix "
   ]
  },
  {
   "cell_type": "markdown",
   "metadata": {},
   "source": [
    "- The 2 X 2 matrix $A = \\begin{bmatrix}\n",
    "    a_{0,0}&a_{0,1}  \\\\\n",
    "    a_{1,0}&a_{1,1} \\\\\n",
    "\\end{bmatrix}$, $\\frac{1}{a_{0,0}a_{0,1} - a_{1,0}a_{1,1}}$ is the determinent of matrix A. "
   ]
  },
  {
   "cell_type": "markdown",
   "metadata": {},
   "source": [
    "### 7.5 Inverse Matrix "
   ]
  },
  {
   "cell_type": "markdown",
   "metadata": {},
   "source": [
    "#### simplest defination of inverse function:\n",
    "$$f(f^{-1}(x)) = x  \\text{ and } f^{-1}(f(x))=x$$\n",
    "\n",
    "#### Matrix inverse defination:\n",
    "<img src=\"pic/7_4.PNG\">"
   ]
  },
  {
   "cell_type": "markdown",
   "metadata": {
    "collapsed": true
   },
   "source": [
    "### Matrix inverse: General principles:\n",
    "- #### Given a matrix A for which you want to find the inverse\n",
    "    - Chieck is that $A$ is square\n",
    "    - Ask youself \"What is the matrix that undoes $Ax$?\""
   ]
  },
  {
   "cell_type": "markdown",
   "metadata": {},
   "source": [
    "- #### Some special matrix inverse:\n",
    "    <img src=\"pic/7_5.PNG\">\n"
   ]
  },
  {
   "cell_type": "code",
   "execution_count": null,
   "metadata": {
    "collapsed": true
   },
   "outputs": [],
   "source": []
  }
 ],
 "metadata": {
  "anaconda-cloud": {},
  "kernelspec": {
   "display_name": "Python [conda env:py35]",
   "language": "python",
   "name": "conda-env-py35-py"
  },
  "language_info": {
   "codemirror_mode": {
    "name": "ipython",
    "version": 3
   },
   "file_extension": ".py",
   "mimetype": "text/x-python",
   "name": "python",
   "nbconvert_exporter": "python",
   "pygments_lexer": "ipython3",
   "version": "3.5.2"
  }
 },
 "nbformat": 4,
 "nbformat_minor": 1
}
