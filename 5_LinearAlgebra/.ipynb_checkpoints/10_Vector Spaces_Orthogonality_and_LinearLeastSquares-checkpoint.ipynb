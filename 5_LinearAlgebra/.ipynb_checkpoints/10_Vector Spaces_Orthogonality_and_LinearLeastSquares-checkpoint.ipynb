{
 "cells": [
  {
   "cell_type": "markdown",
   "metadata": {},
   "source": [
    "## Vector Spaces, Orthogonality, and Linear Least-Squares"
   ]
  },
  {
   "cell_type": "code",
   "execution_count": 1,
   "metadata": {
    "collapsed": true
   },
   "outputs": [],
   "source": [
    "## import all the modules \n",
    "import numpy as np\n",
    "from numpy import linalg\n",
    "import math\n",
    "import scipy\n",
    "import scipy.linalg"
   ]
  },
  {
   "cell_type": "markdown",
   "metadata": {},
   "source": [
    "### Equation of a plane \n",
    "- $Ax + By + Cz = D$"
   ]
  },
  {
   "cell_type": "markdown",
   "metadata": {},
   "source": [
    "#### Orthogonal Vectors  Definition:\n",
    "- Two vectords $x, y \\in \\mathbf{R}^n$ are said to be orthogonal if and only if $x^Ty=0$"
   ]
  },
  {
   "cell_type": "markdown",
   "metadata": {},
   "source": [
    "#### Orthogonal Space  Definition: $V \\bot W$\n",
    "- Let $V,W \\in \\mathbf{R}^n$ be subspaces. Then $V$ and $W$ are said to be orthogonal if and only if $v\\in V$ and $w \\in W$ in implies that $v^Tw=0$.\n",
    "- In other words: Two subspaces are orthogonal if all the vectors from one of the subspace are orthogonal to all of the vectors from the other subspace. "
   ]
  },
  {
   "cell_type": "markdown",
   "metadata": {
    "collapsed": true
   },
   "source": [
    "#### Theorem:\n",
    "#### - Let $A \\in \\mathbf{R}^{m\\times n}$. Then $R(A) \\bot N(A)$  -- Row space of A is orthogonal to No space of A\n",
    "#### - Let $A \\in \\mathbf{R}^{m\\times n}$.  Every $x \\in \\mathbf{R}^n$ can be written as $ x = x_r + x_n$ where $x_r \\in R(A) and x_n \\in N(A)$. x equals to some vector from row space + some vector from no space. "
   ]
  },
  {
   "cell_type": "code",
   "execution_count": null,
   "metadata": {
    "collapsed": true
   },
   "outputs": [],
   "source": []
  },
  {
   "cell_type": "markdown",
   "metadata": {},
   "source": [
    "### 10.4 Approximationg a Solution: least square problem"
   ]
  },
  {
   "cell_type": "markdown",
   "metadata": {},
   "source": [
    "<img src=\"pic/10_1.PNG\" height=\"60%\" width=\"60%\">\n",
    "#### - A linear representation of the problem:\n",
    "<img src=\"pic/10_2.PNG\" height=\"60%\" width=\"60%\">\n",
    "<img src=\"pic/10_3.PNG\" height=\"60%\" width=\"60%\">\n",
    "    The problem is how do we find the best $\\gamma_0, \\gamma_1$. "
   ]
  },
  {
   "cell_type": "code",
   "execution_count": null,
   "metadata": {
    "collapsed": true
   },
   "outputs": [],
   "source": []
  }
 ],
 "metadata": {
  "anaconda-cloud": {},
  "kernelspec": {
   "display_name": "Python [conda env:py35]",
   "language": "python",
   "name": "conda-env-py35-py"
  },
  "language_info": {
   "codemirror_mode": {
    "name": "ipython",
    "version": 3
   },
   "file_extension": ".py",
   "mimetype": "text/x-python",
   "name": "python",
   "nbconvert_exporter": "python",
   "pygments_lexer": "ipython3",
   "version": "3.5.2"
  }
 },
 "nbformat": 4,
 "nbformat_minor": 1
}
