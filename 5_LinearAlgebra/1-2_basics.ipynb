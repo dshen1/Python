{
 "cells": [
  {
   "cell_type": "markdown",
   "metadata": {},
   "source": [
    "# Linear Algebra Week 1 & 2"
   ]
  },
  {
   "cell_type": "code",
   "execution_count": 2,
   "metadata": {
    "collapsed": true
   },
   "outputs": [],
   "source": [
    "## import all the modules \n",
    "\n",
    "import numpy as np\n",
    "from numpy import linalg\n",
    "import math"
   ]
  },
  {
   "cell_type": "markdown",
   "metadata": {},
   "source": [
    "### 1. Basic Vector Orerations "
   ]
  },
  {
   "cell_type": "code",
   "execution_count": 3,
   "metadata": {
    "collapsed": false
   },
   "outputs": [
    {
     "name": "stdout",
     "output_type": "stream",
     "text": [
      "[1 2 3] [4 5 6]\n"
     ]
    }
   ],
   "source": [
    "# or we can simply use numpy array\n",
    "v = np.array([1,2,3])           # this is a row vector\n",
    "w = np.array([4,5,6])           # this is a row vector \n",
    "c = 5\n",
    "print(v,w)"
   ]
  },
  {
   "cell_type": "markdown",
   "metadata": {},
   "source": [
    "#### Calculate\n",
    "\n",
    "1. $$\n",
    "\\begin{bmatrix}\n",
    "    1 \\\\\n",
    "    2 \\\\\n",
    "    3 \n",
    "\\end{bmatrix}\n",
    "+\n",
    "\\begin{bmatrix}\n",
    "    4 \\\\\n",
    "    5 \\\\\n",
    "    6\n",
    "\\end{bmatrix}\n",
    "$$\n",
    "2. $$5*\n",
    "\\begin{bmatrix}\n",
    "    1 \\\\\n",
    "    2 \\\\\n",
    "    3 \n",
    "\\end{bmatrix}\n",
    "$$\n",
    "3. $$\n",
    "\\begin{bmatrix}\n",
    "    1 \\\\\n",
    "    2 \\\\\n",
    "    3 \n",
    "\\end{bmatrix}\n",
    "*\n",
    "\\begin{bmatrix}\n",
    "    4 \\\\\n",
    "    5 \\\\\n",
    "    6\n",
    "\\end{bmatrix}\n",
    "$$\n",
    "4. $$\n",
    "\\begin{bmatrix}\n",
    "    1 \\\\\n",
    "    2 \\\\\n",
    "    3 \n",
    "\\end{bmatrix}\n",
    ".dot(\n",
    "\\begin{bmatrix}\n",
    "    4 \\\\\n",
    "    5 \\\\\n",
    "    6\n",
    "\\end{bmatrix})\n",
    "$$"
   ]
  },
  {
   "cell_type": "code",
   "execution_count": 4,
   "metadata": {
    "collapsed": false,
    "scrolled": true
   },
   "outputs": [
    {
     "name": "stdout",
     "output_type": "stream",
     "text": [
      "Sum =  [5 7 9]\n",
      "Product 5*w =  [20 25 30]\n",
      "Parall Product w*v=  [ 4 10 18]\n",
      "Vector Product w.dot(v)=  32\n"
     ]
    }
   ],
   "source": [
    "# operations \n",
    "rSum = w+v\n",
    "rProduct = 5*w\n",
    "rProduct_p = w*v\n",
    "rProduct_v = w.dot(v)\n",
    "\n",
    "print ('Sum = ',rSum)\n",
    "print ('Product 5*w = ',rProduct)\n",
    "print ('Parall Product w*v= ',rProduct_p)\n",
    "print ('Vector Product w.dot(v)= ',rProduct_v)"
   ]
  },
  {
   "cell_type": "markdown",
   "metadata": {},
   "source": [
    "### 2. Linear Transformation"
   ]
  },
  {
   "cell_type": "markdown",
   "metadata": {
    "collapsed": true
   },
   "source": [
    "- #### Rotate Vector \n",
    "    - roateing a vector is a linear transformation. It does not metter you add first or rotate first. \n",
    "    <img src=\"pic/1_rotate_vector.PNG\">"
   ]
  },
  {
   "cell_type": "markdown",
   "metadata": {},
   "source": [
    "   - #### Linear transformation: Some typical questions that we are interested in:\n",
    "       - Given vector $y \\in \\mathbf{R}$, find x $x$ such that $f(x) = y$\n",
    "       - Find scalar $\\lambda$ and vector x such that $f(x) = \\lambda x$   --   (find engineer value and eigineer vector)"
   ]
  },
  {
   "cell_type": "markdown",
   "metadata": {},
   "source": [
    "- #### Defination of Linear transformation:\n",
    "A vector function $f : \\mathbf{R}^n \\rightarrow \\mathbf{R}^m$ is a linear transformation if for all scalars $\\alpha$ and for all vectors $x;y \\in \\mathbf{R}^m$ it is that case that:\n",
    "\n",
    "    - f (ax) = af (x) and\n",
    "    - f (x+y) = f (x)+ f (y).\n",
    "    \n",
    "    If there is even one scalar $\\alpha$ and vector $x \\in \\mathbf{R}^n$ such that $f(\\alpha x) \\neq \\alpha f(x)$ or if there is even one pair of vectors $x;y \\in \\mathbf{R}^n$ such that $f(x+y) \\neq f(x)+f(y)$, then the vector function f is not a linear transformation.\n",
    "\n",
    "    Thus, in order to show that a vector function $f$ is not a linear transformation, it suffices to find one such counter example."
   ]
  },
  {
   "cell_type": "markdown",
   "metadata": {},
   "source": [
    "- #### Alternative Defination of Linear transformation:\n",
    "    $L :  \\mathbf{R}^n \\rightarrow \\mathbf{R}^m is a linear transformation if and only if (iff) for all u,v \\in \\mathbf{R}^n and \\alpha,\\beta \\in \\mathbf{R}^n$ $$L(\\alpha u+\\beta v) = \\alpha L(u)+\\beta L(v)$$\n",
    "    \n",
    "    - $Let v_0, v_1,....,v_{k-1} \\in \\mathbf{R} and let L :  \\mathbf{R}^n \\rightarrow \\mathbf{R}^m be a linear transformation then:$ $$L(v_0 + v_1 + ... + v_{k-1}) = L(v_0)+L(v_1)+...+L(v_{k-1})$$"
   ]
  },
  {
   "cell_type": "markdown",
   "metadata": {
    "collapsed": true
   },
   "source": [
    "### 2.1 Linear Transformation Matrix Representation"
   ]
  },
  {
   "cell_type": "markdown",
   "metadata": {},
   "source": [
    "$Let v_0, v_1,....,v_{n-1} \\in \\mathbf{R}, \\alpha_0, \\alpha_1 ..., \\alpha_{n-1} \\in \\mathbf{R} and let L :  \\mathbf{R}^n \\rightarrow \\mathbf{R}^m be a linear transformation then:$ $$L(\\alpha_0 v_0 + \\alpha_1 v_1 + ... +\\alpha_{n-1} v_{n-1}) = \\alpha_0L(v_0)+\\alpha_1L(v_1)+...+\\alpha_{n-1}L(v_{k-1})$$\n",
    "A more concise notation:\n",
    "$$L(\\sum_{j=0}^{k-1}\\alpha_jv_j)= \\sum_{j=0}^{k=1}\\alpha_jL(v_j)$$"
   ]
  },
  {
   "cell_type": "markdown",
   "metadata": {
    "collapsed": true
   },
   "source": [
    "#### Sample question:\n",
    "<img src=\"pic/2_linear_transformation.png\" height=\"500\" width=\"500\">"
   ]
  },
  {
   "cell_type": "markdown",
   "metadata": {
    "collapsed": true
   },
   "source": [
    "- ### Using Matrix to represent linear transformation\n",
    "<img src=\"pic/2_1.PNG\">\n",
    "<img src=\"pic/2_2.PNG\">\n",
    "\n",
    "### This is so important. Matrix A stroed all the information of linear transformation L(x). L(x) = Ax. \n",
    "### This is prety much the definiation of Matrix and Vector multiplication. It is a linear transformation of vector x. "
   ]
  },
  {
   "cell_type": "markdown",
   "metadata": {
    "collapsed": true
   },
   "source": [
    "- Sample question: Matrix, vector multiplications:\n",
    "$$\n",
    "y = Ax \\text{ when A =} \n",
    "\\begin{bmatrix}\n",
    "    -1 &0& 2 \\\\\n",
    "    -3 &1& -1\\\\\n",
    "    -2 &-1& 2 \n",
    "\\end{bmatrix} \\text{ and } \n",
    "x = \n",
    "\\begin{bmatrix}\n",
    "    1\\\\\n",
    "    0\\\\\n",
    "    0 \n",
    "\\end{bmatrix} \\text{, y = ?}\n",
    "$$"
   ]
  },
  {
   "cell_type": "code",
   "execution_count": 14,
   "metadata": {
    "collapsed": false,
    "scrolled": false
   },
   "outputs": [
    {
     "name": "stdout",
     "output_type": "stream",
     "text": [
      "A =  [[-1  0  2]\n",
      " [-3  1 -1]\n",
      " [-2 -1  2]]\n",
      "x =  [1 0 0]\n",
      "A.dot(x) =  [-1 -3 -2]\n"
     ]
    }
   ],
   "source": [
    "# or we can simply use numpy array\n",
    "A = np.array([[-1,0,2],\n",
    "            [-3,1,-1],\n",
    "            [-2,-1,2]])           # this is a row vector\n",
    "x = np.array([1,0,0])\n",
    "res = A.dot(x)\n",
    "print(\"A = \",A)\n",
    "print(\"x = \",x)\n",
    "print(\"A.dot(x) = \",res)"
   ]
  },
  {
   "cell_type": "markdown",
   "metadata": {
    "collapsed": true
   },
   "source": [
    "### 2.2 Linear Transformation and Rotation"
   ]
  },
  {
   "cell_type": "markdown",
   "metadata": {
    "collapsed": true
   },
   "source": [
    "<img src=\"pic/2_3.PNG\">\n",
    "<img src=\"pic/2_4.PNG\">"
   ]
  },
  {
   "cell_type": "code",
   "execution_count": null,
   "metadata": {
    "collapsed": true
   },
   "outputs": [],
   "source": []
  },
  {
   "cell_type": "code",
   "execution_count": null,
   "metadata": {
    "collapsed": true
   },
   "outputs": [],
   "source": []
  },
  {
   "cell_type": "code",
   "execution_count": null,
   "metadata": {
    "collapsed": true
   },
   "outputs": [],
   "source": []
  },
  {
   "cell_type": "code",
   "execution_count": null,
   "metadata": {
    "collapsed": true
   },
   "outputs": [],
   "source": []
  },
  {
   "cell_type": "markdown",
   "metadata": {},
   "source": [
    "### 2 Euclidean length"
   ]
  },
  {
   "cell_type": "code",
   "execution_count": 6,
   "metadata": {
    "collapsed": false,
    "scrolled": true
   },
   "outputs": [
    {
     "name": "stdout",
     "output_type": "stream",
     "text": [
      "The Euclidean lenght of v is: 3.74165738677\n"
     ]
    }
   ],
   "source": [
    "## Euclidean length of v:\n",
    "eu_len_v = np.sqrt(v.dot(v))       # we can write out the calculation by ourselves\n",
    "eu_len_v = np.linalg.norm(v)       # or we can juse linalg in numpy library \n",
    "\n",
    "print ('The Euclidean lenght of v is:',eu_len_v)"
   ]
  },
  {
   "cell_type": "markdown",
   "metadata": {},
   "source": [
    "### 3. Inner products and angle"
   ]
  },
  {
   "cell_type": "code",
   "execution_count": 7,
   "metadata": {
    "collapsed": false
   },
   "outputs": [
    {
     "name": "stdout",
     "output_type": "stream",
     "text": [
      "inner product =  32\n",
      "angle =  12.9331544919\n"
     ]
    }
   ],
   "source": [
    "innerProduct = v.dot(w)\n",
    "v_norm = np.linalg.norm(v)\n",
    "w_norm = np.linalg.norm(w)\n",
    "cos_theta = innerProduct/(v_norm*w_norm)                 # property of cos theta\n",
    "angle = np.arccos(cos_theta)/math.pi*180                 # transform the angle to degree\n",
    "print ('inner product = ',innerProduct)\n",
    "print ('angle = ' ,angle)"
   ]
  },
  {
   "cell_type": "code",
   "execution_count": null,
   "metadata": {
    "collapsed": true
   },
   "outputs": [],
   "source": []
  }
 ],
 "metadata": {
  "anaconda-cloud": {},
  "kernelspec": {
   "display_name": "Python [conda env:py35]",
   "language": "python",
   "name": "conda-env-py35-py"
  },
  "language_info": {
   "codemirror_mode": {
    "name": "ipython",
    "version": 3
   },
   "file_extension": ".py",
   "mimetype": "text/x-python",
   "name": "python",
   "nbconvert_exporter": "python",
   "pygments_lexer": "ipython3",
   "version": "3.5.2"
  }
 },
 "nbformat": 4,
 "nbformat_minor": 0
}
