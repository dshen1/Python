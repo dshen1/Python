{
 "cells": [
  {
   "cell_type": "markdown",
   "metadata": {},
   "source": [
    "## 8 Invert Matrix in General"
   ]
  },
  {
   "cell_type": "code",
   "execution_count": null,
   "metadata": {
    "collapsed": true
   },
   "outputs": [],
   "source": [
    "## import all the modules \n",
    "import numpy as np\n",
    "from numpy import linalg\n",
    "import math\n",
    "import scipy\n",
    "import scipy.linalg"
   ]
  },
  {
   "cell_type": "markdown",
   "metadata": {},
   "source": [
    "### How to invert a matrix in general"
   ]
  },
  {
   "cell_type": "markdown",
   "metadata": {},
   "source": [
    "#### Solving Ax = b via Gauss-Jordan elimination:\n",
    "- the process is very length, it is a bit similary to LU factorization, it just have a third matrix. refer to week 8 slide fot details. "
   ]
  },
  {
   "cell_type": "markdown",
   "metadata": {},
   "source": [
    "#### Example of the algorithm\n",
    "<img src=\"pic/8_1.PNG\",width=\"50%\", height=\"50%\">"
   ]
  },
  {
   "cell_type": "markdown",
   "metadata": {},
   "source": [
    "- #### Matrix inversion follows a very similar process\n",
    "    - instead of solving Ax = b, it is trying to solve $AA^{-1}=I$ via Gauss-Jordan elimination.\n",
    "    - A more intuitive explaination. https://www.youtube.com/watch?v=obts_JDS6_Q&list=PLFD0EB975BA0CC1E0&index=6"
   ]
  },
  {
   "cell_type": "markdown",
   "metadata": {},
   "source": [
    "#### When Gausian Elimination(with Row swaping) fails:\n",
    "<img src=\"pic/7_6.PNG\",width=\"60%\", height=\"60%\">"
   ]
  },
  {
   "cell_type": "markdown",
   "metadata": {},
   "source": [
    "### When Matrix is not invertable?"
   ]
  },
  {
   "cell_type": "markdown",
   "metadata": {},
   "source": [
    "#### The 2 X 2 matrix $A = \\begin{bmatrix}\n",
    "    a_{0,0}&a_{0,1}  \\\\\n",
    "    a_{1,0}&a_{1,1} \\\\\n",
    "\\end{bmatrix}$ has an inverse if and only if  $a_{0,0}a_{1,1} - a_{1,0}a_{0,1} \\neq 0$. $\\frac{1}{a_{0,0}a_{0,1} - a_{1,0}a_{1,1}}$ is the determinent of matrix A. "
   ]
  },
  {
   "cell_type": "markdown",
   "metadata": {},
   "source": [
    "- What does it mean intuetively?\n",
    "- so it is saying that $a_{0,0} / a_{0,1} = a_{1,0}/a_{1,1}$. So if we think about A as a system of equations: \n",
    "$\\begin{bmatrix}\n",
    "    a_{0,0}&a_{0,1}  \\\\\n",
    "    a_{1,0}&a_{1,1} \\\\\n",
    "\\end{bmatrix}$ \n",
    "$\\begin{bmatrix}\n",
    "    x \\\\\n",
    "    y \\\\\n",
    "\\end{bmatrix}$ = \n",
    "$\\begin{bmatrix}\n",
    "    b_{0} \\\\\n",
    "    b_{1} \\\\\n",
    "\\end{bmatrix}$\n",
    "\n",
    "- It basically means that the slop of these two line is the same. so they are parellel. There will be no solution for it. "
   ]
  },
  {
   "cell_type": "code",
   "execution_count": null,
   "metadata": {
    "collapsed": true
   },
   "outputs": [],
   "source": []
  }
 ],
 "metadata": {
  "anaconda-cloud": {},
  "kernelspec": {
   "display_name": "Python [conda env:py35]",
   "language": "python",
   "name": "conda-env-py35-py"
  },
  "language_info": {
   "codemirror_mode": {
    "name": "ipython",
    "version": 3
   },
   "file_extension": ".py",
   "mimetype": "text/x-python",
   "name": "python",
   "nbconvert_exporter": "python",
   "pygments_lexer": "ipython3",
   "version": "3.5.2"
  }
 },
 "nbformat": 4,
 "nbformat_minor": 1
}
