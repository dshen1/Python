{
 "cells": [
  {
   "cell_type": "markdown",
   "metadata": {},
   "source": [
    "# Linear Algebra Week 1"
   ]
  },
  {
   "cell_type": "code",
   "execution_count": 2,
   "metadata": {
    "collapsed": true
   },
   "outputs": [],
   "source": [
    "## import all the modules \n",
    "\n",
    "import numpy as np\n",
    "from numpy import linalg\n",
    "import math"
   ]
  },
  {
   "cell_type": "markdown",
   "metadata": {},
   "source": [
    "### 1. Basic Vector Orerations "
   ]
  },
  {
   "cell_type": "code",
   "execution_count": 3,
   "metadata": {
    "collapsed": false
   },
   "outputs": [
    {
     "name": "stdout",
     "output_type": "stream",
     "text": [
      "[1 2 3] [4 5 6]\n"
     ]
    }
   ],
   "source": [
    "# or we can simply use numpy array\n",
    "v = np.array([1,2,3])           # this is a row vector\n",
    "w = np.array([4,5,6])           # this is a row vector \n",
    "c = 5\n",
    "print(v,w)"
   ]
  },
  {
   "cell_type": "markdown",
   "metadata": {},
   "source": [
    "#### Calculate\n",
    "\n",
    "1. $$\n",
    "\\begin{bmatrix}\n",
    "    1 \\\\\n",
    "    2 \\\\\n",
    "    3 \n",
    "\\end{bmatrix}\n",
    "+\n",
    "\\begin{bmatrix}\n",
    "    4 \\\\\n",
    "    5 \\\\\n",
    "    6\n",
    "\\end{bmatrix}\n",
    "$$\n",
    "2. $$5*\n",
    "\\begin{bmatrix}\n",
    "    1 \\\\\n",
    "    2 \\\\\n",
    "    3 \n",
    "\\end{bmatrix}\n",
    "$$\n",
    "3. $$\n",
    "\\begin{bmatrix}\n",
    "    1 \\\\\n",
    "    2 \\\\\n",
    "    3 \n",
    "\\end{bmatrix}\n",
    "*\n",
    "\\begin{bmatrix}\n",
    "    4 \\\\\n",
    "    5 \\\\\n",
    "    6\n",
    "\\end{bmatrix}\n",
    "$$\n",
    "4. $$\n",
    "\\begin{bmatrix}\n",
    "    1 \\\\\n",
    "    2 \\\\\n",
    "    3 \n",
    "\\end{bmatrix}\n",
    ".dot(\n",
    "\\begin{bmatrix}\n",
    "    4 \\\\\n",
    "    5 \\\\\n",
    "    6\n",
    "\\end{bmatrix})\n",
    "$$"
   ]
  },
  {
   "cell_type": "code",
   "execution_count": 4,
   "metadata": {
    "collapsed": false,
    "scrolled": true
   },
   "outputs": [
    {
     "name": "stdout",
     "output_type": "stream",
     "text": [
      "Sum =  [5 7 9]\n",
      "Product 5*w =  [20 25 30]\n",
      "Parall Product w*v=  [ 4 10 18]\n",
      "Vector Product w.dot(v)=  32\n"
     ]
    }
   ],
   "source": [
    "# operations \n",
    "rSum = w+v\n",
    "rProduct = 5*w\n",
    "rProduct_p = w*v\n",
    "rProduct_v = w.dot(v)\n",
    "\n",
    "print ('Sum = ',rSum)\n",
    "print ('Product 5*w = ',rProduct)\n",
    "print ('Parall Product w*v= ',rProduct_p)\n",
    "print ('Vector Product w.dot(v)= ',rProduct_v)"
   ]
  },
  {
   "cell_type": "markdown",
   "metadata": {},
   "source": [
    "### 2. Linear Transformation"
   ]
  },
  {
   "cell_type": "markdown",
   "metadata": {
    "collapsed": true
   },
   "source": [
    "- #### Rotate Vector \n",
    "    - roateing a vector is a linear transformation. It does not metter you add first or rotate first. \n",
    "    <img src=\"pic/1_rotate_vector.PNG\">"
   ]
  },
  {
   "cell_type": "markdown",
   "metadata": {},
   "source": [
    "   - #### Linear transformation: Some typical questions that we are interested in:\n",
    "       - Given vector $y \\in \\mathbf{R}$, find x $x$ such that $f(x) = y$\n",
    "       - Find scalar $\\lambda$ and vector x such that $f(x) = \\lambda x$   --   (find engineer value and eigineer vector)"
   ]
  },
  {
   "cell_type": "markdown",
   "metadata": {},
   "source": [
    "- #### Defination of Linear transformation:\n",
    "A vector function $f : \\mathbf{R}^n \\rightarrow \\mathbf{R}^m$ is a linear transformation if for all scalars $\\alpha$ and for all vectors $x;y \\in \\mathbf{R}^m$ it is that case that:\n",
    "\n",
    "    - f (ax) = af (x) and\n",
    "    - f (x+y) = f (x)+ f (y).\n",
    "    \n",
    "    If there is even one scalar $\\alpha$ and vector $x \\in \\mathbf{R}^n$ such that $f(\\alpha x) \\neq \\alpha f(x)$ or if there is even one pair of vectors $x;y \\in \\mathbf{R}^n$ such that $f(x+y) \\neq f(x)+f(y)$, then the vector function f is not a linear transformation.\n",
    "\n",
    "    Thus, in order to show that a vector function $f$ is not a linear transformation, it suffices to find one such counter example."
   ]
  },
  {
   "cell_type": "markdown",
   "metadata": {},
   "source": [
    "- #### Alternative Defination of Linear transformation:"
   ]
  },
  {
   "cell_type": "code",
   "execution_count": null,
   "metadata": {
    "collapsed": true
   },
   "outputs": [],
   "source": []
  },
  {
   "cell_type": "code",
   "execution_count": null,
   "metadata": {
    "collapsed": true
   },
   "outputs": [],
   "source": []
  },
  {
   "cell_type": "code",
   "execution_count": null,
   "metadata": {
    "collapsed": true
   },
   "outputs": [],
   "source": []
  },
  {
   "cell_type": "code",
   "execution_count": null,
   "metadata": {
    "collapsed": true
   },
   "outputs": [],
   "source": []
  },
  {
   "cell_type": "code",
   "execution_count": null,
   "metadata": {
    "collapsed": true
   },
   "outputs": [],
   "source": []
  },
  {
   "cell_type": "code",
   "execution_count": null,
   "metadata": {
    "collapsed": true
   },
   "outputs": [],
   "source": []
  },
  {
   "cell_type": "code",
   "execution_count": null,
   "metadata": {
    "collapsed": true
   },
   "outputs": [],
   "source": []
  },
  {
   "cell_type": "markdown",
   "metadata": {},
   "source": [
    "### 2 Euclidean length"
   ]
  },
  {
   "cell_type": "code",
   "execution_count": 6,
   "metadata": {
    "collapsed": false,
    "scrolled": true
   },
   "outputs": [
    {
     "name": "stdout",
     "output_type": "stream",
     "text": [
      "The Euclidean lenght of v is: 3.74165738677\n"
     ]
    }
   ],
   "source": [
    "## Euclidean length of v:\n",
    "eu_len_v = np.sqrt(v.dot(v))       # we can write out the calculation by ourselves\n",
    "eu_len_v = np.linalg.norm(v)       # or we can juse linalg in numpy library \n",
    "\n",
    "print ('The Euclidean lenght of v is:',eu_len_v)"
   ]
  },
  {
   "cell_type": "markdown",
   "metadata": {},
   "source": [
    "### 3. Inner products and angle"
   ]
  },
  {
   "cell_type": "code",
   "execution_count": 7,
   "metadata": {
    "collapsed": false
   },
   "outputs": [
    {
     "name": "stdout",
     "output_type": "stream",
     "text": [
      "inner product =  32\n",
      "angle =  12.9331544919\n"
     ]
    }
   ],
   "source": [
    "innerProduct = v.dot(w)\n",
    "v_norm = np.linalg.norm(v)\n",
    "w_norm = np.linalg.norm(w)\n",
    "cos_theta = innerProduct/(v_norm*w_norm)                 # property of cos theta\n",
    "angle = np.arccos(cos_theta)/math.pi*180                 # transform the angle to degree\n",
    "print ('inner product = ',innerProduct)\n",
    "print ('angle = ' ,angle)"
   ]
  },
  {
   "cell_type": "code",
   "execution_count": null,
   "metadata": {
    "collapsed": true
   },
   "outputs": [],
   "source": []
  }
 ],
 "metadata": {
  "anaconda-cloud": {},
  "kernelspec": {
   "display_name": "Python [conda env:py35]",
   "language": "python",
   "name": "conda-env-py35-py"
  },
  "language_info": {
   "codemirror_mode": {
    "name": "ipython",
    "version": 3
   },
   "file_extension": ".py",
   "mimetype": "text/x-python",
   "name": "python",
   "nbconvert_exporter": "python",
   "pygments_lexer": "ipython3",
   "version": "3.5.2"
  }
 },
 "nbformat": 4,
 "nbformat_minor": 0
}
