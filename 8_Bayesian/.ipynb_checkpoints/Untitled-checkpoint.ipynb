{
 "cells": [
  {
   "cell_type": "markdown",
   "metadata": {},
   "source": [
    "## Frequentist vs Bayesian"
   ]
  },
  {
   "cell_type": "code",
   "execution_count": 44,
   "metadata": {
    "collapsed": false
   },
   "outputs": [],
   "source": [
    "import pandas as pd\n",
    "import numpy as np\n",
    "import scipy, scipy.stats\n",
    "# Display and Plotting\n",
    "import matplotlib.pylab as plt\n",
    "import seaborn as sns\n",
    "import pylab as pl\n",
    "\n",
    "%matplotlib inline"
   ]
  },
  {
   "cell_type": "markdown",
   "metadata": {
    "collapsed": true
   },
   "source": [
    "### 1: Basics\n",
    "####  Bayes' theorem is stated mathematically as the following equation:\n",
    "$$P(A|B)=\\frac{P(A\\cap B)}{P(B)}$$\n",
    "####  where A and B are events and P(B) ≠ 0.\n",
    "- P(A) and P(B) are the probabilities of observing A and B without regard to each other.\n",
    "- P(A | B), a conditional probability, is the probability of observing event A given that B is true.\n",
    "- P(B | A) is the probability of observing event B given that A is true."
   ]
  },
  {
   "cell_type": "markdown",
   "metadata": {},
   "source": [
    "#### Some notes: Independence\n",
    "- When A and B are indipendent events: $P(A|B)=P(A)$ , $P(A\\cap B)=P(A)P(B)$"
   ]
  },
  {
   "cell_type": "markdown",
   "metadata": {},
   "source": [
    "### 2: Bayes' theorem, other form \n",
    "\n",
    "$$P(A|B)=\\frac{P(B|A)P(A)}{P(B|A)P(A)+P(B|A^{not})P(A^{not})}=\\frac{P(A\\cap B)}{P(B)}$$\n",
    "<br>\n",
    "#### Bayes' theorem visualization:\n",
    "<div><img src=\"pic/Bayes_theorem.png\"></div>"
   ]
  },
  {
   "cell_type": "markdown",
   "metadata": {},
   "source": [
    "- When there are three possible outcomes A1, A2, and A3 such that exactly one of these must happen, then Bayes Theorem expands to: \n",
    "\n",
    "$$P(A_1|B)=\\frac{P(B|A_1)P(A_1)}{P(B|A_1)P(A_1)+P(B|A_2)P(A_2)+P(B|A_3)P(A_3)}$$"
   ]
  },
  {
   "cell_type": "markdown",
   "metadata": {},
   "source": [
    "- If the events $A_1$, . . . , $A_m$ form a partition of the space (exactly one of the $A_i$’s must occur,i.e., the $A_i$’s are mutually exclusive and $\\sum_{i=1}^{m}P(A_i) = 1$), then we can write Bayes Theorem as:\n",
    "\n",
    "$$P(A_i|B)=\\frac{P(B|A_1)P(A_1)}{\\sum_{i=1}^{m}P(B|A_i)P(A_i)}$$"
   ]
  },
  {
   "cell_type": "markdown",
   "metadata": {},
   "source": []
  },
  {
   "cell_type": "markdown",
   "metadata": {},
   "source": [
    "### 3. Review of Distributions:"
   ]
  },
  {
   "cell_type": "markdown",
   "metadata": {},
   "source": [
    "#### Bernoulli distribution \n",
    "Bernoulli distribution is the probability distribution of a random variable which takes the value 1 with success probability of  $p$ and the value 0 with failure probability of $q=1-p$.\n",
    "\n",
    "- This can also be expressed as:\n",
    "\n",
    "    $f(k;p)=p^{k}(1-p)^{1-k}$ for $k \\in \\{0,1\\}$ \n",
    "    \n",
    "    This is also the probability density function.\n",
    "    \n",
    "- Expected value:\n",
    "    \n",
    "    $E[X] = \\sum_{x}P(X=x)=(1)P+0(1-p)=p$\n",
    "    \n",
    "    $Var(x) = p(1-p)$\n",
    "    "
   ]
  },
  {
   "cell_type": "markdown",
   "metadata": {},
   "source": [
    "#### Binomial Distribution "
   ]
  },
  {
   "cell_type": "markdown",
   "metadata": {},
   "source": [
    "the binomial distribution with parameters n and p is the discrete probability distribution of the number of successes in a sequence of n independent yes/no experiments, each of which yields success with probability p.\n",
    "\n",
    "- X ~ Bin(n,p)\n",
    "- Probability mass function:\n",
    "\n",
    "    $f(X=x|p)=Pr(x|p)=\\binom {n}{x}p^x(1-p)^{n-x}$\n",
    "    \n",
    "    $\\binom{n}{x}=\\frac {n!}{x!(n-x)!}$ for $x \\in \\{0,1,...,n\\}$\n"
   ]
  },
  {
   "cell_type": "code",
   "execution_count": 50,
   "metadata": {
    "collapsed": false
   },
   "outputs": [
    {
     "data": {
      "text/plain": [
       "<matplotlib.text.Text at 0x7fd64e43cb00>"
      ]
     },
     "execution_count": 50,
     "metadata": {},
     "output_type": "execute_result"
    },
    {
     "data": {
      "image/png": "[encoded data removed]",
      "text/plain": [
       "<matplotlib.figure.Figure at 0x7fd64e482ba8>"
      ]
     },
     "metadata": {},
     "output_type": "display_data"
    }
   ],
   "source": [
    "n, p = 10, .5                   # number of trials, probability of each trial\n",
    "x = scipy.linspace(0,10,11)     # make x to be 0 to 10 \n",
    "pmf = scipy.stats.binom.pmf(x,n,p)\n",
    "import pylab\n",
    "pylab.plot(x,pmf)\n",
    "pylab.title('Binominal Distribution with n=10,p=0.5')"
   ]
  },
  {
   "cell_type": "code",
   "execution_count": null,
   "metadata": {
    "collapsed": true
   },
   "outputs": [],
   "source": []
  }
 ],
 "metadata": {
  "kernelspec": {
   "display_name": "Python [conda env:py35]",
   "language": "python",
   "name": "conda-env-py35-py"
  },
  "language_info": {
   "codemirror_mode": {
    "name": "ipython",
    "version": 3
   },
   "file_extension": ".py",
   "mimetype": "text/x-python",
   "name": "python",
   "nbconvert_exporter": "python",
   "pygments_lexer": "ipython3",
   "version": "3.5.2"
  }
 },
 "nbformat": 4,
 "nbformat_minor": 1
}
