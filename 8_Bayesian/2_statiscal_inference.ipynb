{
 "cells": [
  {
   "cell_type": "markdown",
   "metadata": {},
   "source": [
    "## Statiscal Inference"
   ]
  },
  {
   "cell_type": "code",
   "execution_count": 3,
   "metadata": {
    "collapsed": true
   },
   "outputs": [],
   "source": [
    "import pandas as pd\n",
    "import numpy as np\n",
    "import scipy, scipy.stats\n",
    "# Display and Plotting\n",
    "import matplotlib.pylab as plt\n",
    "import seaborn as sns\n",
    "\n",
    "%matplotlib inline\n",
    "plt.rcParams.update({'font.size': 22})"
   ]
  },
  {
   "cell_type": "markdown",
   "metadata": {},
   "source": [
    "### 1. Confidence Interval (skipped)"
   ]
  },
  {
   "cell_type": "markdown",
   "metadata": {},
   "source": [
    "### 2. Maxium Likelihood Estimation (MLE) "
   ]
  },
  {
   "cell_type": "markdown",
   "metadata": {},
   "source": [
    "In statistics, maximum likelihood estimation (MLE) is a method of estimating the parameters of a statistical model given observations, by finding the parameter values that maximize the likelihood of making the observations given the parameters. \n",
    "\n",
    "Suppose there is a sample $x_1, x_2, …, x_n$ of $n$ independent and identically distributed observations,(note:$x_s$ here are the observed data) coming from a distribution with an unknown probability density function f0(·). It is however surmised that the function f0 belongs to a certain family of distributions $f(·| θ), θ ∈ Θ$ (where θ is a vector of parameters for this family), called the parametric model, so that f0 = f(·| θ). The value θ is unknown and is referred to as the true value of the parameter vector. It is desirable to find an estimator $\\hat {\\theta }$ which would be as close to the true value θ as possible. Either or both the observed variables $x_i$ and the parameter θ can be vectors.\n",
    "\n",
    "#### Define likelihood function:\n",
    "-  For an independent and identically distributed sample, this joint density function is:\n",
    "\n",
    "$$f(x_{1},x_{2},\\ldots ,x_{n}\\mid \\theta )=f(x_{1}\\mid \\theta )\\times f(x_{2}|\\theta )\\times \\cdots \\times f(x_{n}\\mid \\theta ).$$\n",
    "\n",
    "- Now we look at this function from a different perspective by considering the observed values x1, x2, …, xn to be fixed \"parameters\" of this function, whereas θ will be the function's variable and allowed to vary freely; this function will be called the likelihood:\n",
    "$$\\mathcal {L}(\\theta \\,|\\,x_{1},\\ldots ,x_{n})=f(x_{1},x_{2},\\ldots ,x_{n}\\mid \\theta )=\\prod _{i=1}^{n}f(x_{i}\\mid \\theta ).$$\n",
    "\n",
    "- In practice it is often more convenient to work with the natural logarithm of the likelihood function, called the log-likelihood:\n",
    "$$\\ln {\\mathcal {L}}(\\theta \\,|\\,x_{1},\\ldots ,x_{n})=\\sum _{i=1}^{n}\\ln f(x_{i}\\mid \\theta )$$\n",
    "\n",
    "- Maxium Likelihood Estimation is to find $\\theta$ which maxium the likelihood function. In other words, find $\\theta$ that make our observed data mostly likely to be observed. \n",
    "$$\\hat {\\theta}_{MLE} = argmax\\ln {\\mathcal {L}}(\\theta \\,|\\,x_{1},\\ldots ,x_{n}) $$"
   ]
  },
  {
   "cell_type": "markdown",
   "metadata": {},
   "source": [
    "#### Calculating MLE\n",
    "- One way of calculating MLE is to take the deravitive of the log likelihood function and set that to 0, than find out $\\theta$.\n",
    "- In real world, people also use approximation method to get MLE\n",
    "##### I will skip the function derivation here, instead, i will just use scipy to calculate MLE"
   ]
  },
  {
   "cell_type": "code",
   "execution_count": 4,
   "metadata": {
    "collapsed": false
   },
   "outputs": [
    {
     "name": "stdout",
     "output_type": "stream",
     "text": [
      "Predicted a and b are:0.01;4.97\n"
     ]
    }
   ],
   "source": [
    "## example: a random draw from unifrom distribution, \n",
    "## than use the data to extimate the premator for the true data generation process\n",
    "\n",
    "a,b = 0,5                                                   # set lower bond and upper bound to be 0 and 5 \n",
    "u_data = scipy.stats.uniform.rvs(a,b,1000)                  # random draw from uniform distribution \n",
    "a_hat, b_hat = scipy.stats.uniform.fit(u_data)              # use fit method to extimate the peremators\n",
    "\n",
    "print ('Predicted a and b are:%.2f;%.2f'% (a_hat,b_hat))"
   ]
  },
  {
   "cell_type": "markdown",
   "metadata": {},
   "source": [
    "- ##### Sample question: Suppose we observe $n = 5$ in dependent draws from a $Uniform(0,\\theta)$. They are {0.2,4.6,3.3,4.1,5.2}. What is the MLE for $\\theta$. "
   ]
  },
  {
   "cell_type": "code",
   "execution_count": 5,
   "metadata": {
    "collapsed": false
   },
   "outputs": [
    {
     "name": "stdout",
     "output_type": "stream",
     "text": [
      "Predicted a and b are:0.00;5.20\n"
     ]
    }
   ],
   "source": [
    "data = [0.2,4.6,3.3,4.1,5.2]\n",
    "a_hat,b_hat = scipy.stats.uniform.fit(data,floc=0)        # use floc and fscale to impose constrains\n",
    "print ('Predicted a and b are:%.2f;%.2f'% (a_hat,b_hat))"
   ]
  },
  {
   "cell_type": "markdown",
   "metadata": {
    "collapsed": false
   },
   "source": [
    "### 3. Bayesian Inference"
   ]
  },
  {
   "cell_type": "markdown",
   "metadata": {
    "collapsed": true
   },
   "source": [
    "- #### Discrete Parameter Values  --- Patient Questions"
   ]
  },
  {
   "cell_type": "markdown",
   "metadata": {},
   "source": [
    "##### Suppose that there are a total of 200 patients. The data have two features, symptoms X and diseases $\\theta$. The data looks like the table below "
   ]
  },
  {
   "cell_type": "code",
   "execution_count": 6,
   "metadata": {
    "collapsed": false
   },
   "outputs": [
    {
     "data": {
      "text/html": [
       "<div>\n",
       "<table border=\"1\" class=\"dataframe\">\n",
       "  <thead>\n",
       "    <tr style=\"text-align: right;\">\n",
       "      <th></th>\n",
       "      <th>D1</th>\n",
       "      <th>D2</th>\n",
       "      <th>D3</th>\n",
       "      <th>D4</th>\n",
       "      <th>D5</th>\n",
       "      <th>D6</th>\n",
       "      <th>D7</th>\n",
       "      <th>D8</th>\n",
       "      <th>D9</th>\n",
       "      <th>D10</th>\n",
       "      <th>Row_Sum</th>\n",
       "    </tr>\n",
       "  </thead>\n",
       "  <tbody>\n",
       "    <tr>\n",
       "      <th>x1</th>\n",
       "      <td>8</td>\n",
       "      <td>9</td>\n",
       "      <td>9</td>\n",
       "      <td>5</td>\n",
       "      <td>4</td>\n",
       "      <td>1</td>\n",
       "      <td>1</td>\n",
       "      <td>0</td>\n",
       "      <td>0</td>\n",
       "      <td>0</td>\n",
       "      <td>37</td>\n",
       "    </tr>\n",
       "    <tr>\n",
       "      <th>x2</th>\n",
       "      <td>3</td>\n",
       "      <td>5</td>\n",
       "      <td>8</td>\n",
       "      <td>9</td>\n",
       "      <td>14</td>\n",
       "      <td>10</td>\n",
       "      <td>3</td>\n",
       "      <td>3</td>\n",
       "      <td>0</td>\n",
       "      <td>0</td>\n",
       "      <td>55</td>\n",
       "    </tr>\n",
       "    <tr>\n",
       "      <th>x3</th>\n",
       "      <td>0</td>\n",
       "      <td>1</td>\n",
       "      <td>1</td>\n",
       "      <td>10</td>\n",
       "      <td>16</td>\n",
       "      <td>11</td>\n",
       "      <td>12</td>\n",
       "      <td>7</td>\n",
       "      <td>8</td>\n",
       "      <td>5</td>\n",
       "      <td>71</td>\n",
       "    </tr>\n",
       "    <tr>\n",
       "      <th>x4</th>\n",
       "      <td>0</td>\n",
       "      <td>0</td>\n",
       "      <td>1</td>\n",
       "      <td>0</td>\n",
       "      <td>3</td>\n",
       "      <td>5</td>\n",
       "      <td>10</td>\n",
       "      <td>7</td>\n",
       "      <td>7</td>\n",
       "      <td>4</td>\n",
       "      <td>37</td>\n",
       "    </tr>\n",
       "    <tr>\n",
       "      <th>Column_Sum</th>\n",
       "      <td>11</td>\n",
       "      <td>15</td>\n",
       "      <td>19</td>\n",
       "      <td>24</td>\n",
       "      <td>37</td>\n",
       "      <td>27</td>\n",
       "      <td>26</td>\n",
       "      <td>17</td>\n",
       "      <td>15</td>\n",
       "      <td>9</td>\n",
       "      <td>200</td>\n",
       "    </tr>\n",
       "  </tbody>\n",
       "</table>\n",
       "</div>"
      ],
      "text/plain": [
       "            D1  D2  D3  D4  D5  D6  D7  D8  D9  D10  Row_Sum\n",
       "x1           8   9   9   5   4   1   1   0   0    0       37\n",
       "x2           3   5   8   9  14  10   3   3   0    0       55\n",
       "x3           0   1   1  10  16  11  12   7   8    5       71\n",
       "x4           0   0   1   0   3   5  10   7   7    4       37\n",
       "Column_Sum  11  15  19  24  37  27  26  17  15    9      200"
      ]
     },
     "execution_count": 6,
     "metadata": {},
     "output_type": "execute_result"
    }
   ],
   "source": [
    "# Make array of data, as in Table 3.1 (transposed here).\n",
    "n = np.array([ \n",
    "[8,     9,     9,     5,     4,     1,     1,     0,     0,     0],\n",
    "[3,     5,     8,     9,    14,    10,     3,     3,     0,     0],\n",
    "[0,     1,     1,    10,    16,    11,    12,     7,     8,     5],\n",
    "[0,     0,     1,     0,     3,     5,    10,     7,     7,     4]\n",
    "])\n",
    "data = pd.DataFrame(n,columns=['D1','D2','D3','D4','D5','D6','D7','D8','D9','D10'],index=['x1','x2','x3','x4'])\n",
    "data['Row_Sum'] = data.sum(axis=1)\n",
    "data.loc['Column_Sum'] = data.sum(axis=0)\n",
    "data.loc['Column_Sum','Row_Sum']=np.sum(n)\n",
    "data"
   ]
  },
  {
   "cell_type": "markdown",
   "metadata": {
    "collapsed": true
   },
   "source": [
    "##### Question: What is the conditional probability p($ \\theta_ 2$|$x_3$) that a patient has the disease $\\theta_2$ given that he has the symptoms $x_3$:\n",
    "\n",
    "- use baysian formula: $$p(\\theta_2|x_3)= \\frac{p(x_3|\\theta_2)p(\\theta_2)}{p(x_3)}$$"
   ]
  },
  {
   "cell_type": "code",
   "execution_count": 7,
   "metadata": {
    "collapsed": false
   },
   "outputs": [
    {
     "name": "stdout",
     "output_type": "stream",
     "text": [
      "Prob x=3 given theta=2 is 0.014.\n"
     ]
    }
   ],
   "source": [
    "N = np.sum(n)                        # get the total number of patients 200 \n",
    "ps = data/N                          # turn numbers into proportions. \n",
    "px3D2 = data.loc['x3','D2']/data[:4]['D2'].sum()\n",
    "pD2 = data.loc['Column_Sum','D2']/N\n",
    "px3 = data.loc['x3','Row_Sum']/N\n",
    "\n",
    "pD2x3 = px3D2*pD2/px3\n",
    "print('Prob x=3 given theta=2 is %.3f.' % pD2x3)"
   ]
  },
  {
   "cell_type": "code",
   "execution_count": 8,
   "metadata": {
    "collapsed": false,
    "scrolled": false
   },
   "outputs": [
    {
     "data": {
      "image/png": "[encoded data removed]",
      "text/plain": [
       "<matplotlib.figure.Figure at 0x7fc8ded1ed68>"
      ]
     },
     "metadata": {},
     "output_type": "display_data"
    },
    {
     "data": {
      "image/png": "[encoded data removed]",
      "text/plain": [
       "<matplotlib.figure.Figure at 0x7fc8decbca90>"
      ]
     },
     "metadata": {},
     "output_type": "display_data"
    },
    {
     "data": {
      "image/png": "[encoded data removed]",
      "text/plain": [
       "<matplotlib.figure.Figure at 0x7fc8dec27160>"
      ]
     },
     "metadata": {},
     "output_type": "display_data"
    }
   ],
   "source": [
    "\n",
    "# See Code Example 3.1 for definitions.\n",
    "N = np.sum(n)                       # Get total number of counts.\n",
    "ps = n/N                            # Make counts into proportions.\n",
    "nTHETA = np.sum(n,axis=0)   \n",
    "\n",
    "# Set graph parameters.\n",
    "width = 0.2                 \n",
    "theta_values = range(1,11)\n",
    "\n",
    "# Find likelihood function.\n",
    "nx3ANDTHETA = n[2,:]               # Get theta values at x=3.\n",
    "px3GTHETA = nx3ANDTHETA/nTHETA     # Likelihood p(x=3|theta).\n",
    "# Plot likelihood function.\n",
    "plt.figure(\"Figure 7a\")\n",
    "plt.bar(theta_values, px3GTHETA, width=width,align='center')\n",
    "plt.xticks(theta_values, theta_values)\n",
    "#  Add space to bar on left and right.\n",
    "plt.xlim([min(theta_values)-0.5, max(theta_values)+0.5]) \n",
    "plt.xlabel(\"Outcome value\")\n",
    "plt.ylabel(\"Likelihood, $p(x_3|\\\\theta)$\")\n",
    "\n",
    "# Get prior distribution.\n",
    "pTHETA = nTHETA/N                  # Prior distribution.\n",
    "# Plot prior distribution.\n",
    "plt.figure(\"Figure 7b\")\n",
    "plt.bar(theta_values, pTHETA, width=width,align='center')\n",
    "plt.xticks(theta_values, theta_values)\n",
    "plt.xlim([min(theta_values)-0.5, max(theta_values)+0.5]) \n",
    "plt.xlabel(\"Outcome value\")\n",
    "plt.ylabel(\"Prior, $p(\\\\theta)$\")\n",
    "\n",
    "# Find posterior distribution.\n",
    "nx3 = np.sum(n[2,:])                # Number of counts in row x=3.\n",
    "px3 = nx3/N                         # Marginal probability p(x3)\n",
    "pTHETAGx3 = px3GTHETA*pTHETA/px3    # Posterior distribution.\n",
    "# Plot posterior distribution.\n",
    "plt.figure(\"Figure 7c\")\n",
    "plt.bar(theta_values, pTHETAGx3, width=width,align='center')\n",
    "plt.xticks(theta_values, theta_values)\n",
    "plt.xlim([min(theta_values)-0.5, max(theta_values)+0.5]) \n",
    "plt.xlabel(\"Outcome value\")\n",
    "plt.ylabel(\"Posterior, $p(\\\\theta|x)$\")\n",
    "plt.show()\n"
   ]
  },
  {
   "cell_type": "code",
   "execution_count": null,
   "metadata": {
    "collapsed": true
   },
   "outputs": [],
   "source": []
  },
  {
   "cell_type": "code",
   "execution_count": null,
   "metadata": {
    "collapsed": true
   },
   "outputs": [],
   "source": []
  },
  {
   "cell_type": "code",
   "execution_count": null,
   "metadata": {
    "collapsed": true
   },
   "outputs": [],
   "source": []
  },
  {
   "cell_type": "code",
   "execution_count": null,
   "metadata": {
    "collapsed": true
   },
   "outputs": [],
   "source": []
  },
  {
   "cell_type": "code",
   "execution_count": null,
   "metadata": {
    "collapsed": true
   },
   "outputs": [],
   "source": []
  },
  {
   "cell_type": "code",
   "execution_count": null,
   "metadata": {
    "collapsed": true
   },
   "outputs": [],
   "source": []
  },
  {
   "cell_type": "code",
   "execution_count": null,
   "metadata": {
    "collapsed": true
   },
   "outputs": [],
   "source": []
  },
  {
   "cell_type": "code",
   "execution_count": null,
   "metadata": {
    "collapsed": true
   },
   "outputs": [],
   "source": []
  },
  {
   "cell_type": "code",
   "execution_count": null,
   "metadata": {
    "collapsed": true
   },
   "outputs": [],
   "source": []
  },
  {
   "cell_type": "code",
   "execution_count": null,
   "metadata": {
    "collapsed": true
   },
   "outputs": [],
   "source": []
  },
  {
   "cell_type": "code",
   "execution_count": null,
   "metadata": {
    "collapsed": true
   },
   "outputs": [],
   "source": []
  },
  {
   "cell_type": "code",
   "execution_count": null,
   "metadata": {
    "collapsed": true
   },
   "outputs": [],
   "source": []
  },
  {
   "cell_type": "code",
   "execution_count": null,
   "metadata": {
    "collapsed": true
   },
   "outputs": [],
   "source": []
  },
  {
   "cell_type": "code",
   "execution_count": null,
   "metadata": {
    "collapsed": true
   },
   "outputs": [],
   "source": []
  },
  {
   "cell_type": "code",
   "execution_count": null,
   "metadata": {
    "collapsed": true
   },
   "outputs": [],
   "source": []
  },
  {
   "cell_type": "code",
   "execution_count": null,
   "metadata": {
    "collapsed": true
   },
   "outputs": [],
   "source": []
  },
  {
   "cell_type": "code",
   "execution_count": null,
   "metadata": {
    "collapsed": true
   },
   "outputs": [],
   "source": []
  },
  {
   "cell_type": "code",
   "execution_count": null,
   "metadata": {
    "collapsed": true
   },
   "outputs": [],
   "source": []
  },
  {
   "cell_type": "code",
   "execution_count": null,
   "metadata": {
    "collapsed": true
   },
   "outputs": [],
   "source": []
  },
  {
   "cell_type": "code",
   "execution_count": null,
   "metadata": {
    "collapsed": true
   },
   "outputs": [],
   "source": []
  },
  {
   "cell_type": "code",
   "execution_count": null,
   "metadata": {
    "collapsed": true
   },
   "outputs": [],
   "source": []
  },
  {
   "cell_type": "code",
   "execution_count": 9,
   "metadata": {
    "collapsed": false
   },
   "outputs": [
    {
     "data": {
      "image/png": "[encoded data removed]",
      "text/plain": [
       "<matplotlib.figure.Figure at 0x7fc8debb8320>"
      ]
     },
     "metadata": {},
     "output_type": "display_data"
    }
   ],
   "source": [
    "# Plot a normal distribution\n",
    "mean_list = [0,1,2]\n",
    "sigma_list = [1,2,3]\n",
    "# Plot between -10 and 10 with .001 steps.\n",
    "x = np.linspace(-10, 10, 1000)\n",
    "\n",
    "for mean,sigma in zip(mean_list,sigma_list):\n",
    "    plt.plot(x, scipy.stats.norm.cdf(x, mean, sigma),label='$\\mu=%.0f,\\sigma=%.0f$' % (mean,sigma))\n",
    "\n",
    "plt.ylim(0, 1.5)\n",
    "plt.xlabel('$x$')\n",
    "plt.ylabel('Probability Density')\n",
    "plt.title('Normal Distribution')\n",
    "plt.legend()\n",
    "plt.show()"
   ]
  },
  {
   "cell_type": "code",
   "execution_count": null,
   "metadata": {
    "collapsed": true
   },
   "outputs": [],
   "source": []
  }
 ],
 "metadata": {
  "anaconda-cloud": {},
  "kernelspec": {
   "display_name": "Python [conda env:py35]",
   "language": "python",
   "name": "conda-env-py35-py"
  },
  "language_info": {
   "codemirror_mode": {
    "name": "ipython",
    "version": 3
   },
   "file_extension": ".py",
   "mimetype": "text/x-python",
   "name": "python",
   "nbconvert_exporter": "python",
   "pygments_lexer": "ipython3",
   "version": "3.5.2"
  }
 },
 "nbformat": 4,
 "nbformat_minor": 1
}
