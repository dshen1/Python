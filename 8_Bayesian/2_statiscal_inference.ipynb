{
 "cells": [
  {
   "cell_type": "markdown",
   "metadata": {},
   "source": [
    "## Statiscal Inference"
   ]
  },
  {
   "cell_type": "code",
   "execution_count": 1,
   "metadata": {
    "collapsed": true
   },
   "outputs": [],
   "source": [
    "import pandas as pd\n",
    "import numpy as np\n",
    "import scipy, scipy.stats\n",
    "# Display and Plotting\n",
    "import matplotlib.pylab as plt\n",
    "import seaborn as sns\n",
    "\n",
    "%matplotlib inline"
   ]
  },
  {
   "cell_type": "markdown",
   "metadata": {},
   "source": [
    "### 1. Confidence Interval (skipped)"
   ]
  },
  {
   "cell_type": "markdown",
   "metadata": {},
   "source": [
    "### 2. Maxium Likelihood Estimation (MLE) "
   ]
  },
  {
   "cell_type": "markdown",
   "metadata": {},
   "source": [
    "In statistics, maximum likelihood estimation (MLE) is a method of estimating the parameters of a statistical model given observations, by finding the parameter values that maximize the likelihood of making the observations given the parameters. \n",
    "\n",
    "Suppose there is a sample $x_1, x_2, …, x_n$ of $n$ independent and identically distributed observations,(note:$x_s$ here are the observed data) coming from a distribution with an unknown probability density function f0(·). It is however surmised that the function f0 belongs to a certain family of distributions $f(·| θ), θ ∈ Θ$ (where θ is a vector of parameters for this family), called the parametric model, so that f0 = f(·| θ). The value θ is unknown and is referred to as the true value of the parameter vector. It is desirable to find an estimator $\\hat {\\theta }$ which would be as close to the true value θ as possible. Either or both the observed variables $x_i$ and the parameter θ can be vectors.\n",
    "\n",
    "#### Define likelihood function:\n",
    "-  For an independent and identically distributed sample, this joint density function is:\n",
    "\n",
    "$$f(x_{1},x_{2},\\ldots ,x_{n}\\mid \\theta )=f(x_{1}\\mid \\theta )\\times f(x_{2}|\\theta )\\times \\cdots \\times f(x_{n}\\mid \\theta ).$$\n",
    "\n",
    "- Now we look at this function from a different perspective by considering the observed values x1, x2, …, xn to be fixed \"parameters\" of this function, whereas θ will be the function's variable and allowed to vary freely; this function will be called the likelihood:\n",
    "$$\\mathcal {L}(\\theta \\,|\\,x_{1},\\ldots ,x_{n})=f(x_{1},x_{2},\\ldots ,x_{n}\\mid \\theta )=\\prod _{i=1}^{n}f(x_{i}\\mid \\theta ).$$\n",
    "\n",
    "- In practice it is often more convenient to work with the natural logarithm of the likelihood function, called the log-likelihood:\n",
    "$$\\ln {\\mathcal {L}}(\\theta \\,|\\,x_{1},\\ldots ,x_{n})=\\sum _{i=1}^{n}\\ln f(x_{i}\\mid \\theta )$$\n",
    "\n",
    "- Maxium Likelihood Estimation is to find $\\theta$ which maxium the likelihood function. In other words, find $\\theta$ that make our observed data mostly likely to be observed. \n",
    "$$\\hat {\\theta}_{MLE} = argmax\\ln {\\mathcal {L}}(\\theta \\,|\\,x_{1},\\ldots ,x_{n}) $$"
   ]
  },
  {
   "cell_type": "markdown",
   "metadata": {},
   "source": [
    "#### Calculating MLE\n",
    "- One way of calculating MLE is to take the deravitive of the log likelihood function and set that to 0, than find out $\\theta$.\n",
    "- In real world, people also use approximation method to get MLE\n",
    "##### I will skip the function derivation here, instead, i will just use scipy to calculate MLE"
   ]
  },
  {
   "cell_type": "code",
   "execution_count": 29,
   "metadata": {
    "collapsed": false
   },
   "outputs": [
    {
     "name": "stdout",
     "output_type": "stream",
     "text": [
      "Predicted a and b are:0.01;4.99\n"
     ]
    }
   ],
   "source": [
    "## example: a random draw from unifrom distribution, \n",
    "## than use the data to extimate the premator for the true data generation process\n",
    "\n",
    "a,b = 0,5                                    # set lower bond and upper bound to be 0 and 5 \n",
    "u_data = scipy.stats.uniform.rvs(a,b,1000)   # random draw from uniform distribution \n",
    "a_hat, b_hat = scipy.stats.uniform.fit(u_data)              # use fit method to extimate the peremators\n",
    "\n",
    "print ('Predicted a and b are:%.2f;%.2f'% (a_hat,b_hat))"
   ]
  },
  {
   "cell_type": "markdown",
   "metadata": {},
   "source": [
    "- ##### Sample question: Suppose we observe $n = 5$ in dependent draws from a $Uniform(0,\\theta)$. They are {0.2,4.6,3.3,4.1,5.2}. What is the MLE for $\\theta$. "
   ]
  },
  {
   "cell_type": "code",
   "execution_count": 43,
   "metadata": {
    "collapsed": false
   },
   "outputs": [
    {
     "name": "stdout",
     "output_type": "stream",
     "text": [
      "Predicted a and b are:0.00;5.20\n"
     ]
    }
   ],
   "source": [
    "data = [0.2,4.6,3.3,4.1,5.2]\n",
    "a_hat,b_hat = scipy.stats.uniform.fit(data,floc=0)        # use floc and fscale to impose constrains\n",
    "print ('Predicted a and b are:%.2f;%.2f'% (a_hat,b_hat))"
   ]
  },
  {
   "cell_type": "markdown",
   "metadata": {
    "collapsed": false
   },
   "source": [
    "### 3. Bayesian Inference"
   ]
  },
  {
   "cell_type": "code",
   "execution_count": null,
   "metadata": {
    "collapsed": true
   },
   "outputs": [],
   "source": []
  },
  {
   "cell_type": "code",
   "execution_count": null,
   "metadata": {
    "collapsed": true
   },
   "outputs": [],
   "source": []
  },
  {
   "cell_type": "code",
   "execution_count": null,
   "metadata": {
    "collapsed": true
   },
   "outputs": [],
   "source": []
  },
  {
   "cell_type": "code",
   "execution_count": null,
   "metadata": {
    "collapsed": true
   },
   "outputs": [],
   "source": []
  },
  {
   "cell_type": "code",
   "execution_count": 5,
   "metadata": {
    "collapsed": false
   },
   "outputs": [
    {
     "data": {
      "image/png": "[encoded data removed]",
      "text/plain": [
       "<matplotlib.figure.Figure at 0x7fe96c351860>"
      ]
     },
     "metadata": {},
     "output_type": "display_data"
    }
   ],
   "source": [
    "# Plot a normal distribution\n",
    "mean_list = [0,1,2]\n",
    "sigma_list = [1,2,3]\n",
    "# Plot between -10 and 10 with .001 steps.\n",
    "x = np.linspace(-10, 10, 1000)\n",
    "\n",
    "for mean,sigma in zip(mean_list,sigma_list):\n",
    "    plt.plot(x, scipy.stats.norm.cdf(x, mean, sigma),label='$\\mu=%.0f,\\sigma=%.0f$' % (mean,sigma))\n",
    "\n",
    "plt.ylim(0, 1.5)\n",
    "plt.xlabel('$x$')\n",
    "plt.ylabel('Probability Density')\n",
    "plt.title('Normal Distribution')\n",
    "plt.legend()\n",
    "plt.show()"
   ]
  },
  {
   "cell_type": "code",
   "execution_count": null,
   "metadata": {
    "collapsed": true
   },
   "outputs": [],
   "source": []
  }
 ],
 "metadata": {
  "anaconda-cloud": {},
  "kernelspec": {
   "display_name": "Python [conda env:py35]",
   "language": "python",
   "name": "conda-env-py35-py"
  },
  "language_info": {
   "codemirror_mode": {
    "name": "ipython",
    "version": 3
   },
   "file_extension": ".py",
   "mimetype": "text/x-python",
   "name": "python",
   "nbconvert_exporter": "python",
   "pygments_lexer": "ipython3",
   "version": "3.5.2"
  }
 },
 "nbformat": 4,
 "nbformat_minor": 1
}
