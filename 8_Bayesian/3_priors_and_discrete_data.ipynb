{
 "cells": [
  {
   "cell_type": "code",
   "execution_count": 2,
   "metadata": {
    "collapsed": true
   },
   "outputs": [],
   "source": [
    "import pandas as pd\n",
    "import numpy as np\n",
    "import scipy, scipy.stats\n",
    "# Display and Plotting\n",
    "import matplotlib.pylab as plt\n",
    "import seaborn as sns\n",
    "\n",
    "%matplotlib inline\n",
    "plt.rcParams.update({'font.size': 22})"
   ]
  },
  {
   "cell_type": "markdown",
   "metadata": {},
   "source": [
    "## How to Choose Prior"
   ]
  },
  {
   "cell_type": "markdown",
   "metadata": {
    "collapsed": true
   },
   "source": [
    "- First of all, Bayesian approach does not take 0 or 1 prior. Which meaning that if we know that some is sure to happen or not to happen, the posterior will be the same as prior. \n",
    "- #### In real world, we usually want to calibrate the $\\theta$ distribution, so that most of our observed data falls in the 95% interval.\n",
    "    The prior predictive distribution is $f(y)=\\int f(y,\\theta)d\\theta$.      ---------------- what does this mean ????"
   ]
  },
  {
   "cell_type": "markdown",
   "metadata": {
    "collapsed": true
   },
   "source": [
    "## Prior and posterior predictive distributions\n",
    "Prior predictive distribution is the distribution of the data we thought we could obtain before we see the data. For instance, if we flip a coin 10 times, and observe how many times head comes up. if we think the coin is fair, we probably going to assume a binominal distribution centered around 5. It is our predictive distribution of X not $\\theta$. "
   ]
  },
  {
   "cell_type": "markdown",
   "metadata": {
    "collapsed": true
   },
   "source": [
    "- #### Prior -- Before see data: integrating all possible $\\theta$s to get the marginal probibility -- it is a likelihood function $$X=\\sum_{i=1}^{N}x_i$$ $$f(X) = \\int {f(X,\\theta)d\\theta}=\\int {f(X|\\theta)f(\\theta)d\\theta}$$ \n",
    "- it is essentially taking the likelihood times prior and integrate all possible $\\theta$\n",
    "- here, $x_i$ can be a vector or a matrix, it stands for the particular data we observed. X stands for all possible data out there that we can observe. So $f(X)$ will be a distribution rather than a data point. "
   ]
  },
  {
   "cell_type": "code",
   "execution_count": 8,
   "metadata": {
    "collapsed": false,
    "scrolled": true
   },
   "outputs": [
    {
     "name": "stdout",
     "output_type": "stream",
     "text": [
      "            D1  D2  D3  D4  D5  D6  D7  D8  D9  D10  Row_Sum\n",
      "x1           8   9   9   5   4   1   1   0   0    0       37\n",
      "x2           3   5   8   9  14  10   3   3   0    0       55\n",
      "x3           0   1   1  10  16  11  12   7   8    5       71\n",
      "x4           0   0   1   0   3   5  10   7   7    4       37\n",
      "Column_Sum  11  15  19  24  37  27  26  17  15    9      200 \n",
      "\n",
      "Then, f(X) would be: \n",
      "\n"
     ]
    }
   ],
   "source": [
    "## for instance: like the example we looked at notebook 2, we have patient data: \n",
    "# Make array of data, as in Table 3.1 (transposed here).\n",
    "n = np.array([ \n",
    "[8,     9,     9,     5,     4,     1,     1,     0,     0,     0],\n",
    "[3,     5,     8,     9,    14,    10,     3,     3,     0,     0],\n",
    "[0,     1,     1,    10,    16,    11,    12,     7,     8,     5],\n",
    "[0,     0,     1,     0,     3,     5,    10,     7,     7,     4]\n",
    "])\n",
    "data = pd.DataFrame(n,columns=['D1','D2','D3','D4','D5','D6','D7','D8','D9','D10'],index=['x1','x2','x3','x4'])\n",
    "data['Row_Sum'] = data.sum(axis=1)\n",
    "data.loc['Column_Sum'] = data.sum(axis=0)\n",
    "data.loc['Column_Sum','Row_Sum']=np.sum(n)\n",
    "data"
   ]
  },
  {
   "cell_type": "markdown",
   "metadata": {},
   "source": [
    "Then, $f(X)$ would be the distribution of [x1,x2,x3,x4]: "
   ]
  },
  {
   "cell_type": "code",
   "execution_count": 20,
   "metadata": {
    "collapsed": false,
    "scrolled": false
   },
   "outputs": [
    {
     "data": {
      "text/plain": [
       "<matplotlib.text.Text at 0x7f7f6133e828>"
      ]
     },
     "execution_count": 20,
     "metadata": {},
     "output_type": "execute_result"
    },
    {
     "data": {
      "image/png": "[encoded data removed]",
      "text/plain": [
       "<matplotlib.figure.Figure at 0x7f7f614331d0>"
      ]
     },
     "metadata": {},
     "output_type": "display_data"
    }
   ],
   "source": [
    "fx = data.Row_Sum[:4]\n",
    "fx.plot(kind='bar',title=\"f(X) distribution\")\n",
    "plt.xlabel(\"X\")\n",
    "plt.ylabel(\"Frequency\")"
   ]
  },
  {
   "cell_type": "markdown",
   "metadata": {},
   "source": [
    "This is a discrete case, but the same idea applies to continuous distribution. The observed data can have a particular distribution. And we will see how likely that we could observe that distribution from all possible distribution that is out there. "
   ]
  },
  {
   "cell_type": "markdown",
   "metadata": {},
   "source": [
    "- #### In practice, we often use a distribution family to work with. \n"
   ]
  },
  {
   "cell_type": "markdown",
   "metadata": {},
   "source": [
    "- #### Posterior -- After seen data X. Now what is the predicted distribution of all possible $\\hat{X}$:\n",
    "$$f(\\hat{X}|x)=\\int f(\\hat{X},\\theta|X)d\\theta = \\int{f(\\hat{X}|\\theta)f(\\theta|X)d\\theta}$$\n",
    "it is essentially the likelihood times posterior $\\theta$ \n"
   ]
  },
  {
   "cell_type": "code",
   "execution_count": null,
   "metadata": {
    "collapsed": true
   },
   "outputs": [],
   "source": []
  }
 ],
 "metadata": {
  "anaconda-cloud": {},
  "kernelspec": {
   "display_name": "Python [conda env:py35]",
   "language": "python",
   "name": "conda-env-py35-py"
  },
  "language_info": {
   "codemirror_mode": {
    "name": "ipython",
    "version": 3
   },
   "file_extension": ".py",
   "mimetype": "text/x-python",
   "name": "python",
   "nbconvert_exporter": "python",
   "pygments_lexer": "ipython3",
   "version": "3.5.2"
  }
 },
 "nbformat": 4,
 "nbformat_minor": 1
}
